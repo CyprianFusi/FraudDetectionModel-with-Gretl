{
 "cells": [
  {
   "cell_type": "markdown",
   "id": "dd655665",
   "metadata": {},
   "source": [
    "### Fraud Detection models (Weighted Logistic Regression)\n",
    "In this notebook we train a **Logistic Regression**  model to detect fraud in data, taking the **imbalance** of the classes into consideration:\n",
    "\n",
    "The accuracy the **Logistic Regression** model using the test data is **80%**!! This is without any hyperparameter tuning.\n",
    "\n",
    "The class weights can be determined using one of the following ways:\n",
    "\n",
    "* **Input from domain expertise** \n",
    "* **Hyperparameter Tuning** using methods such as **grid search**\n",
    "* **Best practice** based on generalapproach in the inductry\n",
    "\n",
    "**The CAP curve analysis shows that that if 50% of the data is analysed without the model only 50% of the fraudulent cases would be discovered. But using the model, we would be able to identify more than 90% of the fraudulent cases in the same amount of data!!** \n",
    "\n",
    "#### Using the model: \n",
    "* the amount of **backlog** (incoming and unfinished work) would be **reduced significantly**, \n",
    "* the **amount of staff** needed to do the job would be **reduced drastically**, \n",
    "* the **processing time** would be **shortened significantly** and \n",
    "* **more cases of fraudulent transactions** would be tracked down in a given amount of data processed - **`more than 40% increase in effeciency!`**"
   ]
  },
  {
   "cell_type": "code",
   "execution_count": 1,
   "id": "5ebf98cb",
   "metadata": {},
   "outputs": [],
   "source": [
    "import pandas as pd\n",
    "import numpy as np\n",
    "import matplotlib.pyplot as plt\n",
    "import seaborn as sns\n",
    "from scipy import stats\n",
    "from scipy.stats import zscore\n",
    "from statsmodels.formula.api import ols\n",
    "from sklearn import metrics, linear_model, preprocessing\n",
    "from sklearn.model_selection import train_test_split, cross_val_score\n",
    "from sklearn.ensemble import AdaBoostClassifier, RandomForestClassifier\n",
    "from sklearn.feature_selection import SelectKBest, f_regression, chi2\n",
    "from sklearn.feature_selection import VarianceThreshold, SelectFromModel, f_classif\n",
    "from sklearn.metrics import roc_curve, auc, confusion_matrix\n",
    "from classification_evaluation import cap_curve\n",
    "\n",
    "%matplotlib inline"
   ]
  },
  {
   "cell_type": "markdown",
   "id": "91795788",
   "metadata": {},
   "source": [
    "#### Read the data `FraudDetection.xlsx` into a DataFrame "
   ]
  },
  {
   "cell_type": "code",
   "execution_count": 2,
   "id": "b67b4898",
   "metadata": {},
   "outputs": [
    {
     "name": "stdout",
     "output_type": "stream",
     "text": [
      "(16281, 15)\n"
     ]
    },
    {
     "data": {
      "text/html": [
       "<div>\n",
       "<style scoped>\n",
       "    .dataframe tbody tr th:only-of-type {\n",
       "        vertical-align: middle;\n",
       "    }\n",
       "\n",
       "    .dataframe tbody tr th {\n",
       "        vertical-align: top;\n",
       "    }\n",
       "\n",
       "    .dataframe thead th {\n",
       "        text-align: right;\n",
       "    }\n",
       "</style>\n",
       "<table border=\"1\" class=\"dataframe\">\n",
       "  <thead>\n",
       "    <tr style=\"text-align: right;\">\n",
       "      <th></th>\n",
       "      <th>Transaction_ID</th>\n",
       "      <th>Card Tenure_months</th>\n",
       "      <th>WebsiteRegion</th>\n",
       "      <th>Trans_value</th>\n",
       "      <th>Seller_Category</th>\n",
       "      <th>Items_transaction</th>\n",
       "      <th>Shipping_Address</th>\n",
       "      <th>Purchase_Category</th>\n",
       "      <th>Othercard_owner</th>\n",
       "      <th>Seller_way</th>\n",
       "      <th>LastTransaction</th>\n",
       "      <th>Lastflagedvalue</th>\n",
       "      <th>LastMonthsTrans_Freq</th>\n",
       "      <th>Countryissuedcard</th>\n",
       "      <th>Fraud_Detected</th>\n",
       "    </tr>\n",
       "  </thead>\n",
       "  <tbody>\n",
       "    <tr>\n",
       "      <th>0</th>\n",
       "      <td>1</td>\n",
       "      <td>25</td>\n",
       "      <td>US</td>\n",
       "      <td>256.41</td>\n",
       "      <td>Store + online</td>\n",
       "      <td>10</td>\n",
       "      <td>US</td>\n",
       "      <td>online services</td>\n",
       "      <td>Dependent</td>\n",
       "      <td>Yes</td>\n",
       "      <td>0</td>\n",
       "      <td>0</td>\n",
       "      <td>40</td>\n",
       "      <td>United-States</td>\n",
       "      <td>No</td>\n",
       "    </tr>\n",
       "    <tr>\n",
       "      <th>1</th>\n",
       "      <td>2</td>\n",
       "      <td>38</td>\n",
       "      <td>US</td>\n",
       "      <td>409.54</td>\n",
       "      <td>Online only</td>\n",
       "      <td>8</td>\n",
       "      <td>International</td>\n",
       "      <td>Accessories</td>\n",
       "      <td>Husband</td>\n",
       "      <td>Yes</td>\n",
       "      <td>0</td>\n",
       "      <td>0</td>\n",
       "      <td>50</td>\n",
       "      <td>United-States</td>\n",
       "      <td>No</td>\n",
       "    </tr>\n",
       "    <tr>\n",
       "      <th>2</th>\n",
       "      <td>3</td>\n",
       "      <td>28</td>\n",
       "      <td>EU</td>\n",
       "      <td>293.09</td>\n",
       "      <td>Online only</td>\n",
       "      <td>5</td>\n",
       "      <td>International</td>\n",
       "      <td>Electornics</td>\n",
       "      <td>Husband</td>\n",
       "      <td>Yes</td>\n",
       "      <td>0</td>\n",
       "      <td>0</td>\n",
       "      <td>40</td>\n",
       "      <td>United-States</td>\n",
       "      <td>Yes</td>\n",
       "    </tr>\n",
       "    <tr>\n",
       "      <th>3</th>\n",
       "      <td>4</td>\n",
       "      <td>44</td>\n",
       "      <td>US</td>\n",
       "      <td>444.07</td>\n",
       "      <td>Online only</td>\n",
       "      <td>7</td>\n",
       "      <td>International</td>\n",
       "      <td>online services</td>\n",
       "      <td>Husband</td>\n",
       "      <td>Yes</td>\n",
       "      <td>7688</td>\n",
       "      <td>0</td>\n",
       "      <td>40</td>\n",
       "      <td>United-States</td>\n",
       "      <td>Yes</td>\n",
       "    </tr>\n",
       "    <tr>\n",
       "      <th>4</th>\n",
       "      <td>5</td>\n",
       "      <td>18</td>\n",
       "      <td>EU</td>\n",
       "      <td>183.11</td>\n",
       "      <td>Online only</td>\n",
       "      <td>7</td>\n",
       "      <td>US</td>\n",
       "      <td>Food</td>\n",
       "      <td>Dependent</td>\n",
       "      <td>No</td>\n",
       "      <td>0</td>\n",
       "      <td>0</td>\n",
       "      <td>30</td>\n",
       "      <td>United-States</td>\n",
       "      <td>No</td>\n",
       "    </tr>\n",
       "  </tbody>\n",
       "</table>\n",
       "</div>"
      ],
      "text/plain": [
       "   Transaction_ID  Card Tenure_months WebsiteRegion  Trans_value  \\\n",
       "0               1                  25            US       256.41   \n",
       "1               2                  38            US       409.54   \n",
       "2               3                  28            EU       293.09   \n",
       "3               4                  44            US       444.07   \n",
       "4               5                  18            EU       183.11   \n",
       "\n",
       "  Seller_Category  Items_transaction Shipping_Address Purchase_Category  \\\n",
       "0  Store + online                 10               US   online services   \n",
       "1     Online only                  8    International       Accessories   \n",
       "2     Online only                  5    International       Electornics   \n",
       "3     Online only                  7    International   online services   \n",
       "4     Online only                  7               US              Food   \n",
       "\n",
       "  Othercard_owner Seller_way  LastTransaction  Lastflagedvalue  \\\n",
       "0       Dependent        Yes                0                0   \n",
       "1         Husband        Yes                0                0   \n",
       "2         Husband        Yes                0                0   \n",
       "3         Husband        Yes             7688                0   \n",
       "4       Dependent         No                0                0   \n",
       "\n",
       "   LastMonthsTrans_Freq Countryissuedcard Fraud_Detected  \n",
       "0                    40     United-States             No  \n",
       "1                    50     United-States             No  \n",
       "2                    40     United-States            Yes  \n",
       "3                    40     United-States            Yes  \n",
       "4                    30     United-States             No  "
      ]
     },
     "execution_count": 2,
     "metadata": {},
     "output_type": "execute_result"
    }
   ],
   "source": [
    "df = pd.read_excel('./data/FraudDetection.xlsx', na_values = 'NA')\n",
    "print(df.shape)\n",
    "df.head()"
   ]
  },
  {
   "cell_type": "markdown",
   "id": "08fc345e",
   "metadata": {},
   "source": [
    "#### Any missing values?"
   ]
  },
  {
   "cell_type": "code",
   "execution_count": 3,
   "id": "fe31ce8c",
   "metadata": {},
   "outputs": [
    {
     "name": "stdout",
     "output_type": "stream",
     "text": [
      "Othercard_owner    6482\n",
      "dtype: int64\n"
     ]
    }
   ],
   "source": [
    "z = df.isnull().sum()\n",
    "print(z[z > 0])"
   ]
  },
  {
   "cell_type": "code",
   "execution_count": 4,
   "id": "cba160e8",
   "metadata": {},
   "outputs": [],
   "source": [
    "df.drop('Othercard_owner', axis = 1, inplace = True)"
   ]
  },
  {
   "cell_type": "code",
   "execution_count": 5,
   "id": "fd0c721d",
   "metadata": {},
   "outputs": [
    {
     "name": "stdout",
     "output_type": "stream",
     "text": [
      "Series([], dtype: int64)\n"
     ]
    }
   ],
   "source": [
    "z = df.isnull().sum()\n",
    "print(z[z > 0])"
   ]
  },
  {
   "cell_type": "markdown",
   "id": "ada2637f",
   "metadata": {},
   "source": [
    "#### Change column names `Transaction_ID` to `ID` and `Fraud_Detected` to `target`."
   ]
  },
  {
   "cell_type": "code",
   "execution_count": 6,
   "id": "7890ff43",
   "metadata": {},
   "outputs": [
    {
     "data": {
      "text/html": [
       "<div>\n",
       "<style scoped>\n",
       "    .dataframe tbody tr th:only-of-type {\n",
       "        vertical-align: middle;\n",
       "    }\n",
       "\n",
       "    .dataframe tbody tr th {\n",
       "        vertical-align: top;\n",
       "    }\n",
       "\n",
       "    .dataframe thead th {\n",
       "        text-align: right;\n",
       "    }\n",
       "</style>\n",
       "<table border=\"1\" class=\"dataframe\">\n",
       "  <thead>\n",
       "    <tr style=\"text-align: right;\">\n",
       "      <th></th>\n",
       "      <th>ID</th>\n",
       "      <th>Card Tenure_months</th>\n",
       "      <th>WebsiteRegion</th>\n",
       "      <th>Trans_value</th>\n",
       "      <th>Seller_Category</th>\n",
       "      <th>Items_transaction</th>\n",
       "      <th>Shipping_Address</th>\n",
       "      <th>Purchase_Category</th>\n",
       "      <th>Seller_way</th>\n",
       "      <th>LastTransaction</th>\n",
       "      <th>Lastflagedvalue</th>\n",
       "      <th>LastMonthsTrans_Freq</th>\n",
       "      <th>Countryissuedcard</th>\n",
       "      <th>target</th>\n",
       "    </tr>\n",
       "  </thead>\n",
       "  <tbody>\n",
       "    <tr>\n",
       "      <th>0</th>\n",
       "      <td>1</td>\n",
       "      <td>25</td>\n",
       "      <td>US</td>\n",
       "      <td>256.41</td>\n",
       "      <td>Store + online</td>\n",
       "      <td>10</td>\n",
       "      <td>US</td>\n",
       "      <td>online services</td>\n",
       "      <td>Yes</td>\n",
       "      <td>0</td>\n",
       "      <td>0</td>\n",
       "      <td>40</td>\n",
       "      <td>United-States</td>\n",
       "      <td>No</td>\n",
       "    </tr>\n",
       "    <tr>\n",
       "      <th>1</th>\n",
       "      <td>2</td>\n",
       "      <td>38</td>\n",
       "      <td>US</td>\n",
       "      <td>409.54</td>\n",
       "      <td>Online only</td>\n",
       "      <td>8</td>\n",
       "      <td>International</td>\n",
       "      <td>Accessories</td>\n",
       "      <td>Yes</td>\n",
       "      <td>0</td>\n",
       "      <td>0</td>\n",
       "      <td>50</td>\n",
       "      <td>United-States</td>\n",
       "      <td>No</td>\n",
       "    </tr>\n",
       "    <tr>\n",
       "      <th>2</th>\n",
       "      <td>3</td>\n",
       "      <td>28</td>\n",
       "      <td>EU</td>\n",
       "      <td>293.09</td>\n",
       "      <td>Online only</td>\n",
       "      <td>5</td>\n",
       "      <td>International</td>\n",
       "      <td>Electornics</td>\n",
       "      <td>Yes</td>\n",
       "      <td>0</td>\n",
       "      <td>0</td>\n",
       "      <td>40</td>\n",
       "      <td>United-States</td>\n",
       "      <td>Yes</td>\n",
       "    </tr>\n",
       "    <tr>\n",
       "      <th>3</th>\n",
       "      <td>4</td>\n",
       "      <td>44</td>\n",
       "      <td>US</td>\n",
       "      <td>444.07</td>\n",
       "      <td>Online only</td>\n",
       "      <td>7</td>\n",
       "      <td>International</td>\n",
       "      <td>online services</td>\n",
       "      <td>Yes</td>\n",
       "      <td>7688</td>\n",
       "      <td>0</td>\n",
       "      <td>40</td>\n",
       "      <td>United-States</td>\n",
       "      <td>Yes</td>\n",
       "    </tr>\n",
       "    <tr>\n",
       "      <th>4</th>\n",
       "      <td>5</td>\n",
       "      <td>18</td>\n",
       "      <td>EU</td>\n",
       "      <td>183.11</td>\n",
       "      <td>Online only</td>\n",
       "      <td>7</td>\n",
       "      <td>US</td>\n",
       "      <td>Food</td>\n",
       "      <td>No</td>\n",
       "      <td>0</td>\n",
       "      <td>0</td>\n",
       "      <td>30</td>\n",
       "      <td>United-States</td>\n",
       "      <td>No</td>\n",
       "    </tr>\n",
       "  </tbody>\n",
       "</table>\n",
       "</div>"
      ],
      "text/plain": [
       "   ID  Card Tenure_months WebsiteRegion  Trans_value Seller_Category  \\\n",
       "0   1                  25            US       256.41  Store + online   \n",
       "1   2                  38            US       409.54     Online only   \n",
       "2   3                  28            EU       293.09     Online only   \n",
       "3   4                  44            US       444.07     Online only   \n",
       "4   5                  18            EU       183.11     Online only   \n",
       "\n",
       "   Items_transaction Shipping_Address Purchase_Category Seller_way  \\\n",
       "0                 10               US   online services        Yes   \n",
       "1                  8    International       Accessories        Yes   \n",
       "2                  5    International       Electornics        Yes   \n",
       "3                  7    International   online services        Yes   \n",
       "4                  7               US              Food         No   \n",
       "\n",
       "   LastTransaction  Lastflagedvalue  LastMonthsTrans_Freq Countryissuedcard  \\\n",
       "0                0                0                    40     United-States   \n",
       "1                0                0                    50     United-States   \n",
       "2                0                0                    40     United-States   \n",
       "3             7688                0                    40     United-States   \n",
       "4                0                0                    30     United-States   \n",
       "\n",
       "  target  \n",
       "0     No  \n",
       "1     No  \n",
       "2    Yes  \n",
       "3    Yes  \n",
       "4     No  "
      ]
     },
     "execution_count": 6,
     "metadata": {},
     "output_type": "execute_result"
    }
   ],
   "source": [
    "df_new = df.copy()\n",
    "df_new.rename(columns = {'Transaction_ID': 'ID', 'Fraud_Detected': 'target'}, inplace = True)\n",
    "df_new.head()"
   ]
  },
  {
   "cell_type": "markdown",
   "id": "668edc08",
   "metadata": {},
   "source": [
    "##### Convert the 'target' into binary `Yes/No = 1/0`"
   ]
  },
  {
   "cell_type": "code",
   "execution_count": 7,
   "id": "ec80e85a",
   "metadata": {},
   "outputs": [
    {
     "data": {
      "text/html": [
       "<div>\n",
       "<style scoped>\n",
       "    .dataframe tbody tr th:only-of-type {\n",
       "        vertical-align: middle;\n",
       "    }\n",
       "\n",
       "    .dataframe tbody tr th {\n",
       "        vertical-align: top;\n",
       "    }\n",
       "\n",
       "    .dataframe thead th {\n",
       "        text-align: right;\n",
       "    }\n",
       "</style>\n",
       "<table border=\"1\" class=\"dataframe\">\n",
       "  <thead>\n",
       "    <tr style=\"text-align: right;\">\n",
       "      <th></th>\n",
       "      <th>ID</th>\n",
       "      <th>Card Tenure_months</th>\n",
       "      <th>WebsiteRegion</th>\n",
       "      <th>Trans_value</th>\n",
       "      <th>Seller_Category</th>\n",
       "      <th>Items_transaction</th>\n",
       "      <th>Shipping_Address</th>\n",
       "      <th>Purchase_Category</th>\n",
       "      <th>Seller_way</th>\n",
       "      <th>LastTransaction</th>\n",
       "      <th>Lastflagedvalue</th>\n",
       "      <th>LastMonthsTrans_Freq</th>\n",
       "      <th>Countryissuedcard</th>\n",
       "      <th>target</th>\n",
       "      <th>Y</th>\n",
       "    </tr>\n",
       "  </thead>\n",
       "  <tbody>\n",
       "    <tr>\n",
       "      <th>0</th>\n",
       "      <td>1</td>\n",
       "      <td>25</td>\n",
       "      <td>US</td>\n",
       "      <td>256.41</td>\n",
       "      <td>Store + online</td>\n",
       "      <td>10</td>\n",
       "      <td>US</td>\n",
       "      <td>online services</td>\n",
       "      <td>Yes</td>\n",
       "      <td>0</td>\n",
       "      <td>0</td>\n",
       "      <td>40</td>\n",
       "      <td>United-States</td>\n",
       "      <td>No</td>\n",
       "      <td>0</td>\n",
       "    </tr>\n",
       "    <tr>\n",
       "      <th>1</th>\n",
       "      <td>2</td>\n",
       "      <td>38</td>\n",
       "      <td>US</td>\n",
       "      <td>409.54</td>\n",
       "      <td>Online only</td>\n",
       "      <td>8</td>\n",
       "      <td>International</td>\n",
       "      <td>Accessories</td>\n",
       "      <td>Yes</td>\n",
       "      <td>0</td>\n",
       "      <td>0</td>\n",
       "      <td>50</td>\n",
       "      <td>United-States</td>\n",
       "      <td>No</td>\n",
       "      <td>0</td>\n",
       "    </tr>\n",
       "    <tr>\n",
       "      <th>2</th>\n",
       "      <td>3</td>\n",
       "      <td>28</td>\n",
       "      <td>EU</td>\n",
       "      <td>293.09</td>\n",
       "      <td>Online only</td>\n",
       "      <td>5</td>\n",
       "      <td>International</td>\n",
       "      <td>Electornics</td>\n",
       "      <td>Yes</td>\n",
       "      <td>0</td>\n",
       "      <td>0</td>\n",
       "      <td>40</td>\n",
       "      <td>United-States</td>\n",
       "      <td>Yes</td>\n",
       "      <td>1</td>\n",
       "    </tr>\n",
       "    <tr>\n",
       "      <th>3</th>\n",
       "      <td>4</td>\n",
       "      <td>44</td>\n",
       "      <td>US</td>\n",
       "      <td>444.07</td>\n",
       "      <td>Online only</td>\n",
       "      <td>7</td>\n",
       "      <td>International</td>\n",
       "      <td>online services</td>\n",
       "      <td>Yes</td>\n",
       "      <td>7688</td>\n",
       "      <td>0</td>\n",
       "      <td>40</td>\n",
       "      <td>United-States</td>\n",
       "      <td>Yes</td>\n",
       "      <td>1</td>\n",
       "    </tr>\n",
       "    <tr>\n",
       "      <th>4</th>\n",
       "      <td>5</td>\n",
       "      <td>18</td>\n",
       "      <td>EU</td>\n",
       "      <td>183.11</td>\n",
       "      <td>Online only</td>\n",
       "      <td>7</td>\n",
       "      <td>US</td>\n",
       "      <td>Food</td>\n",
       "      <td>No</td>\n",
       "      <td>0</td>\n",
       "      <td>0</td>\n",
       "      <td>30</td>\n",
       "      <td>United-States</td>\n",
       "      <td>No</td>\n",
       "      <td>0</td>\n",
       "    </tr>\n",
       "  </tbody>\n",
       "</table>\n",
       "</div>"
      ],
      "text/plain": [
       "   ID  Card Tenure_months WebsiteRegion  Trans_value Seller_Category  \\\n",
       "0   1                  25            US       256.41  Store + online   \n",
       "1   2                  38            US       409.54     Online only   \n",
       "2   3                  28            EU       293.09     Online only   \n",
       "3   4                  44            US       444.07     Online only   \n",
       "4   5                  18            EU       183.11     Online only   \n",
       "\n",
       "   Items_transaction Shipping_Address Purchase_Category Seller_way  \\\n",
       "0                 10               US   online services        Yes   \n",
       "1                  8    International       Accessories        Yes   \n",
       "2                  5    International       Electornics        Yes   \n",
       "3                  7    International   online services        Yes   \n",
       "4                  7               US              Food         No   \n",
       "\n",
       "   LastTransaction  Lastflagedvalue  LastMonthsTrans_Freq Countryissuedcard  \\\n",
       "0                0                0                    40     United-States   \n",
       "1                0                0                    50     United-States   \n",
       "2                0                0                    40     United-States   \n",
       "3             7688                0                    40     United-States   \n",
       "4                0                0                    30     United-States   \n",
       "\n",
       "  target  Y  \n",
       "0     No  0  \n",
       "1     No  0  \n",
       "2    Yes  1  \n",
       "3    Yes  1  \n",
       "4     No  0  "
      ]
     },
     "execution_count": 7,
     "metadata": {},
     "output_type": "execute_result"
    }
   ],
   "source": [
    "df_new['Y'] = (df_new.target == 'Yes') + 0                 \n",
    "df_new.head()"
   ]
  },
  {
   "cell_type": "markdown",
   "id": "d5e81bfe",
   "metadata": {},
   "source": [
    "#### Data types of variables"
   ]
  },
  {
   "cell_type": "code",
   "execution_count": 8,
   "id": "4298899d",
   "metadata": {},
   "outputs": [
    {
     "name": "stdout",
     "output_type": "stream",
     "text": [
      "ID                        int64\n",
      "Card Tenure_months        int64\n",
      "WebsiteRegion            object\n",
      "Trans_value             float64\n",
      "Seller_Category          object\n",
      "Items_transaction         int64\n",
      "Shipping_Address         object\n",
      "Purchase_Category        object\n",
      "Seller_way               object\n",
      "LastTransaction           int64\n",
      "Lastflagedvalue           int64\n",
      "LastMonthsTrans_Freq      int64\n",
      "Countryissuedcard        object\n",
      "target                   object\n",
      "Y                         int32\n",
      "dtype: object\n"
     ]
    }
   ],
   "source": [
    "print(df_new.dtypes)"
   ]
  },
  {
   "cell_type": "markdown",
   "id": "6a96148e",
   "metadata": {},
   "source": [
    "#### `char` variables in data "
   ]
  },
  {
   "cell_type": "code",
   "execution_count": 9,
   "id": "98720eba",
   "metadata": {},
   "outputs": [
    {
     "data": {
      "text/html": [
       "<div>\n",
       "<style scoped>\n",
       "    .dataframe tbody tr th:only-of-type {\n",
       "        vertical-align: middle;\n",
       "    }\n",
       "\n",
       "    .dataframe tbody tr th {\n",
       "        vertical-align: top;\n",
       "    }\n",
       "\n",
       "    .dataframe thead th {\n",
       "        text-align: right;\n",
       "    }\n",
       "</style>\n",
       "<table border=\"1\" class=\"dataframe\">\n",
       "  <thead>\n",
       "    <tr style=\"text-align: right;\">\n",
       "      <th></th>\n",
       "      <th>WebsiteRegion</th>\n",
       "      <th>Seller_Category</th>\n",
       "      <th>Shipping_Address</th>\n",
       "      <th>Purchase_Category</th>\n",
       "      <th>Seller_way</th>\n",
       "      <th>Countryissuedcard</th>\n",
       "      <th>target</th>\n",
       "    </tr>\n",
       "  </thead>\n",
       "  <tbody>\n",
       "    <tr>\n",
       "      <th>0</th>\n",
       "      <td>US</td>\n",
       "      <td>Store + online</td>\n",
       "      <td>US</td>\n",
       "      <td>online services</td>\n",
       "      <td>Yes</td>\n",
       "      <td>United-States</td>\n",
       "      <td>No</td>\n",
       "    </tr>\n",
       "    <tr>\n",
       "      <th>1</th>\n",
       "      <td>US</td>\n",
       "      <td>Online only</td>\n",
       "      <td>International</td>\n",
       "      <td>Accessories</td>\n",
       "      <td>Yes</td>\n",
       "      <td>United-States</td>\n",
       "      <td>No</td>\n",
       "    </tr>\n",
       "    <tr>\n",
       "      <th>2</th>\n",
       "      <td>EU</td>\n",
       "      <td>Online only</td>\n",
       "      <td>International</td>\n",
       "      <td>Electornics</td>\n",
       "      <td>Yes</td>\n",
       "      <td>United-States</td>\n",
       "      <td>Yes</td>\n",
       "    </tr>\n",
       "    <tr>\n",
       "      <th>3</th>\n",
       "      <td>US</td>\n",
       "      <td>Online only</td>\n",
       "      <td>International</td>\n",
       "      <td>online services</td>\n",
       "      <td>Yes</td>\n",
       "      <td>United-States</td>\n",
       "      <td>Yes</td>\n",
       "    </tr>\n",
       "    <tr>\n",
       "      <th>4</th>\n",
       "      <td>EU</td>\n",
       "      <td>Online only</td>\n",
       "      <td>US</td>\n",
       "      <td>Food</td>\n",
       "      <td>No</td>\n",
       "      <td>United-States</td>\n",
       "      <td>No</td>\n",
       "    </tr>\n",
       "  </tbody>\n",
       "</table>\n",
       "</div>"
      ],
      "text/plain": [
       "  WebsiteRegion Seller_Category Shipping_Address Purchase_Category Seller_way  \\\n",
       "0            US  Store + online               US   online services        Yes   \n",
       "1            US     Online only    International       Accessories        Yes   \n",
       "2            EU     Online only    International       Electornics        Yes   \n",
       "3            US     Online only    International   online services        Yes   \n",
       "4            EU     Online only               US              Food         No   \n",
       "\n",
       "  Countryissuedcard target  \n",
       "0     United-States     No  \n",
       "1     United-States     No  \n",
       "2     United-States    Yes  \n",
       "3     United-States    Yes  \n",
       "4     United-States     No  "
      ]
     },
     "execution_count": 9,
     "metadata": {},
     "output_type": "execute_result"
    }
   ],
   "source": [
    "df_obj = df_new.select_dtypes(include = ['object'])\n",
    "df_obj.head()"
   ]
  },
  {
   "cell_type": "code",
   "execution_count": 10,
   "id": "b0a24edf",
   "metadata": {},
   "outputs": [
    {
     "name": "stdout",
     "output_type": "stream",
     "text": [
      "['WebsiteRegion', 'Seller_Category', 'Shipping_Address', 'Purchase_Category', 'Seller_way', 'Countryissuedcard', 'target']\n"
     ]
    }
   ],
   "source": [
    "char_variables = list(df_obj)\n",
    "print(char_variables)"
   ]
  },
  {
   "cell_type": "markdown",
   "id": "b508242a",
   "metadata": {},
   "source": [
    "### Selecting good predictors of the target using Chi-squared statistics\n",
    "* Check relationship between **'WebsiteRegion'** and **target** by first creating a **cross tab** showing frequency in each cell."
   ]
  },
  {
   "cell_type": "code",
   "execution_count": 11,
   "id": "829fbfa7",
   "metadata": {},
   "outputs": [
    {
     "data": {
      "text/html": [
       "<div>\n",
       "<style scoped>\n",
       "    .dataframe tbody tr th:only-of-type {\n",
       "        vertical-align: middle;\n",
       "    }\n",
       "\n",
       "    .dataframe tbody tr th {\n",
       "        vertical-align: top;\n",
       "    }\n",
       "\n",
       "    .dataframe thead th {\n",
       "        text-align: right;\n",
       "    }\n",
       "</style>\n",
       "<table border=\"1\" class=\"dataframe\">\n",
       "  <thead>\n",
       "    <tr style=\"text-align: right;\">\n",
       "      <th>target</th>\n",
       "      <th>No</th>\n",
       "      <th>Yes</th>\n",
       "    </tr>\n",
       "    <tr>\n",
       "      <th>WebsiteRegion</th>\n",
       "      <th></th>\n",
       "      <th></th>\n",
       "    </tr>\n",
       "  </thead>\n",
       "  <tbody>\n",
       "    <tr>\n",
       "      <th>EU</th>\n",
       "      <td>1625</td>\n",
       "      <td>384</td>\n",
       "    </tr>\n",
       "    <tr>\n",
       "      <th>Eastern Europe</th>\n",
       "      <td>793</td>\n",
       "      <td>369</td>\n",
       "    </tr>\n",
       "    <tr>\n",
       "      <th>US</th>\n",
       "      <td>9049</td>\n",
       "      <td>2740</td>\n",
       "    </tr>\n",
       "    <tr>\n",
       "      <th>Unclassified</th>\n",
       "      <td>968</td>\n",
       "      <td>353</td>\n",
       "    </tr>\n",
       "  </tbody>\n",
       "</table>\n",
       "</div>"
      ],
      "text/plain": [
       "target            No   Yes\n",
       "WebsiteRegion             \n",
       "EU              1625   384\n",
       "Eastern Europe   793   369\n",
       "US              9049  2740\n",
       "Unclassified     968   353"
      ]
     },
     "execution_count": 11,
     "metadata": {},
     "output_type": "execute_result"
    }
   ],
   "source": [
    "table = pd.crosstab(df_obj['WebsiteRegion'], df_obj['target'], margins = False)\n",
    "table"
   ]
  },
  {
   "cell_type": "markdown",
   "id": "b7bd3e14",
   "metadata": {},
   "source": [
    "Calculate **Chi-squared statistics, p value, degree of freedom, expected** and confirm if it looks like significant."
   ]
  },
  {
   "cell_type": "code",
   "execution_count": 12,
   "id": "e7195822",
   "metadata": {},
   "outputs": [
    {
     "name": "stdout",
     "output_type": "stream",
     "text": [
      "chi-square = 73.216\n",
      "pvalue = 0.0\n",
      "deg. of freedom(dof) = 3\n",
      "\n",
      "expected:\n",
      "[[1534.42141146  474.57858854]\n",
      " [ 887.50506726  274.49493274]\n",
      " [9004.12843191 2784.87156809]\n",
      " [1008.94508937  312.05491063]]\n"
     ]
    }
   ],
   "source": [
    "chi_square, p_value, dof, expected = stats.chi2_contingency(table)\n",
    "\n",
    "print(f'chi-square = {round(chi_square, 3)}')\n",
    "print(f'pvalue = {round(p_value, 3)}')\n",
    "print(f'deg. of freedom(dof) = {dof}\\n')\n",
    "print(f'expected:\\n{expected}')"
   ]
  },
  {
   "cell_type": "markdown",
   "id": "5009ad35",
   "metadata": {},
   "source": [
    "A large **chi-square = 73.216** and a very small **pvalue = 0.0 << 0.05** mean that the variable **'WebsiteRegion'**, is **correlated** with **'target'**. This means **'WebsiteRegion'** is a good predictor and can be used in the final model to predict the **'target'**.  \n",
    "\n",
    "#### Chi-squared statistics for all the character variables"
   ]
  },
  {
   "cell_type": "code",
   "execution_count": 13,
   "id": "ec23e33d",
   "metadata": {},
   "outputs": [
    {
     "name": "stdout",
     "output_type": "stream",
     "text": [
      "chi-squares:\n",
      "[73.216, 343.931, 3272.593, 1798.965, 729.93, 13.211]\n",
      "\n",
      "pvalues:\n",
      "[0.0, 0.0, 0.0, 0.0, 0.0, 0.0]\n"
     ]
    }
   ],
   "source": [
    "chi_sqs = []\n",
    "pvals = []\n",
    "for var in char_variables[:-1]:\n",
    "    table = pd.crosstab(df_obj[var], df_obj['target'], margins = False)\n",
    "    chi_sq, p_value, dof, expected = stats.chi2_contingency(table)\n",
    "    chi_sqs.append(round(chi_sq, 3))\n",
    "    pvals.append(round(p_value, 3))\n",
    "    \n",
    "print(f'chi-squares:\\n{chi_sqs}\\n')\n",
    "print(f'pvalues:\\n{pvals}')"
   ]
  },
  {
   "cell_type": "markdown",
   "id": "ab4755d0",
   "metadata": {},
   "source": [
    "All the **chi-square statistics** are relatively large enough and the all **pvalues are less than 0.05**. This suggests that all the variables are **correlated with the target**. These variables can therefore be included in the final model to predict the target.\n",
    "\n",
    "### Levels for each categorical variable \n",
    "* The number of dummy variables will depend on the number of levels of each categorical variable."
   ]
  },
  {
   "cell_type": "code",
   "execution_count": 14,
   "id": "efbd1756",
   "metadata": {},
   "outputs": [
    {
     "name": "stdout",
     "output_type": "stream",
     "text": [
      "Levels of WebsiteRegion is ['US', 'EU', 'Unclassified', 'Eastern Europe']\n",
      "Number of levels for WebsiteRegion is 4\n",
      "\n",
      "Levels of Seller_Category is ['Store + online', 'Online only']\n",
      "Number of levels for Seller_Category is 2\n",
      "\n",
      "Levels of Shipping_Address is ['US', 'International', 'Canada']\n",
      "Number of levels for Shipping_Address is 3\n",
      "\n",
      "Levels of Purchase_Category is ['online services', 'Accessories', 'Electornics', 'Food', 'Books', 'Paying bills', 'Tickets - flights']\n",
      "Number of levels for Purchase_Category is 7\n",
      "\n",
      "Levels of Seller_way is ['Yes', 'No']\n",
      "Number of levels for Seller_way is 2\n",
      "\n",
      "Levels of Countryissuedcard is ['United-States', 'Other']\n",
      "Number of levels for Countryissuedcard is 2\n",
      "\n"
     ]
    }
   ],
   "source": [
    "for var in char_variables[:-1]:\n",
    "            varnames = list(df_obj[var].unique())\n",
    "            print(f'Levels of {var} is {varnames}')\n",
    "            print(f'Number of levels for {var} is {len(varnames)}\\n') "
   ]
  },
  {
   "cell_type": "markdown",
   "id": "d31c426e",
   "metadata": {},
   "source": [
    "### Value Counts for each level of each CHAR feature in the data frame"
   ]
  },
  {
   "cell_type": "code",
   "execution_count": 15,
   "id": "8fdc9f83",
   "metadata": {},
   "outputs": [
    {
     "name": "stdout",
     "output_type": "stream",
     "text": [
      "Number of observations for each level of \"WebsiteRegion\": \n",
      "WebsiteRegion\n",
      "US                11789\n",
      "EU                 2009\n",
      "Unclassified       1321\n",
      "Eastern Europe     1162\n",
      "Name: count, dtype: int64\n",
      "\n",
      "Number of observations for each level of \"Seller_Category\": \n",
      "Seller_Category\n",
      "Online only       13479\n",
      "Store + online     2802\n",
      "Name: count, dtype: int64\n",
      "\n",
      "Number of observations for each level of \"Shipping_Address\": \n",
      "Shipping_Address\n",
      "US               7834\n",
      "International    7417\n",
      "Canada           1030\n",
      "Name: count, dtype: int64\n",
      "\n",
      "Number of observations for each level of \"Purchase_Category\": \n",
      "Purchase_Category\n",
      "Accessories          3211\n",
      "Food                 2813\n",
      "online services      2741\n",
      "Paying bills         2372\n",
      "Electornics          2366\n",
      "Books                2020\n",
      "Tickets - flights     758\n",
      "Name: count, dtype: int64\n",
      "\n",
      "Number of observations for each level of \"Seller_way\": \n",
      "Seller_way\n",
      "Yes    10860\n",
      "No      5421\n",
      "Name: count, dtype: int64\n",
      "\n",
      "Number of observations for each level of \"Countryissuedcard\": \n",
      "Countryissuedcard\n",
      "United-States    14662\n",
      "Other             1619\n",
      "Name: count, dtype: int64\n",
      "\n"
     ]
    }
   ],
   "source": [
    "for var in char_variables[:-1]:\n",
    "    print(f'Number of observations for each level of \"{var}\": \\n{df_obj[var].value_counts()}\\n')"
   ]
  },
  {
   "cell_type": "markdown",
   "id": "a5c69d54",
   "metadata": {},
   "source": [
    "### Feature engineering \n",
    "Create dummy variables for each categorical variable in data frame."
   ]
  },
  {
   "cell_type": "code",
   "execution_count": 16,
   "id": "e07c96a9",
   "metadata": {},
   "outputs": [],
   "source": [
    "import warnings\n",
    "warnings.filterwarnings('ignore')"
   ]
  },
  {
   "cell_type": "markdown",
   "id": "f0c492fc",
   "metadata": {},
   "source": [
    "The variable **'WebsiteRegion'** and **'Shipping_Address'** for example have similar categories like **US**. In order to make sure that **no two categorical variables** will have the **same header for different dummies** we will add prefixes as below. "
   ]
  },
  {
   "cell_type": "code",
   "execution_count": 17,
   "id": "db82646e",
   "metadata": {},
   "outputs": [
    {
     "data": {
      "text/html": [
       "<div>\n",
       "<style scoped>\n",
       "    .dataframe tbody tr th:only-of-type {\n",
       "        vertical-align: middle;\n",
       "    }\n",
       "\n",
       "    .dataframe tbody tr th {\n",
       "        vertical-align: top;\n",
       "    }\n",
       "\n",
       "    .dataframe thead th {\n",
       "        text-align: right;\n",
       "    }\n",
       "</style>\n",
       "<table border=\"1\" class=\"dataframe\">\n",
       "  <thead>\n",
       "    <tr style=\"text-align: right;\">\n",
       "      <th></th>\n",
       "      <th>WebsiteRegion</th>\n",
       "      <th>Seller_Category</th>\n",
       "      <th>Shipping_Address</th>\n",
       "      <th>Purchase_Category</th>\n",
       "      <th>Seller_way</th>\n",
       "      <th>Countryissuedcard</th>\n",
       "      <th>target</th>\n",
       "    </tr>\n",
       "  </thead>\n",
       "  <tbody>\n",
       "    <tr>\n",
       "      <th>0</th>\n",
       "      <td>US_WE1</td>\n",
       "      <td>Store + online_SC2</td>\n",
       "      <td>US_SA3</td>\n",
       "      <td>online services_PC4</td>\n",
       "      <td>Yes_SW5</td>\n",
       "      <td>United-States_CO6</td>\n",
       "      <td>No</td>\n",
       "    </tr>\n",
       "    <tr>\n",
       "      <th>1</th>\n",
       "      <td>US_WE1</td>\n",
       "      <td>Online only_SC2</td>\n",
       "      <td>International_SA3</td>\n",
       "      <td>Accessories_PC4</td>\n",
       "      <td>Yes_SW5</td>\n",
       "      <td>United-States_CO6</td>\n",
       "      <td>No</td>\n",
       "    </tr>\n",
       "    <tr>\n",
       "      <th>2</th>\n",
       "      <td>EU_WE1</td>\n",
       "      <td>Online only_SC2</td>\n",
       "      <td>International_SA3</td>\n",
       "      <td>Electornics_PC4</td>\n",
       "      <td>Yes_SW5</td>\n",
       "      <td>United-States_CO6</td>\n",
       "      <td>Yes</td>\n",
       "    </tr>\n",
       "    <tr>\n",
       "      <th>3</th>\n",
       "      <td>US_WE1</td>\n",
       "      <td>Online only_SC2</td>\n",
       "      <td>International_SA3</td>\n",
       "      <td>online services_PC4</td>\n",
       "      <td>Yes_SW5</td>\n",
       "      <td>United-States_CO6</td>\n",
       "      <td>Yes</td>\n",
       "    </tr>\n",
       "    <tr>\n",
       "      <th>4</th>\n",
       "      <td>EU_WE1</td>\n",
       "      <td>Online only_SC2</td>\n",
       "      <td>US_SA3</td>\n",
       "      <td>Food_PC4</td>\n",
       "      <td>No_SW5</td>\n",
       "      <td>United-States_CO6</td>\n",
       "      <td>No</td>\n",
       "    </tr>\n",
       "  </tbody>\n",
       "</table>\n",
       "</div>"
      ],
      "text/plain": [
       "  WebsiteRegion     Seller_Category   Shipping_Address    Purchase_Category  \\\n",
       "0        US_WE1  Store + online_SC2             US_SA3  online services_PC4   \n",
       "1        US_WE1     Online only_SC2  International_SA3      Accessories_PC4   \n",
       "2        EU_WE1     Online only_SC2  International_SA3      Electornics_PC4   \n",
       "3        US_WE1     Online only_SC2  International_SA3  online services_PC4   \n",
       "4        EU_WE1     Online only_SC2             US_SA3             Food_PC4   \n",
       "\n",
       "  Seller_way  Countryissuedcard target  \n",
       "0    Yes_SW5  United-States_CO6     No  \n",
       "1    Yes_SW5  United-States_CO6     No  \n",
       "2    Yes_SW5  United-States_CO6    Yes  \n",
       "3    Yes_SW5  United-States_CO6    Yes  \n",
       "4     No_SW5  United-States_CO6     No  "
      ]
     },
     "execution_count": 17,
     "metadata": {},
     "output_type": "execute_result"
    }
   ],
   "source": [
    "df_obj['WebsiteRegion'] = df_obj.WebsiteRegion + \"_WE1\"         \n",
    "df_obj['Seller_Category'] = df_obj.Seller_Category + \"_SC2\"     \n",
    "df_obj['Shipping_Address'] = df_obj.Shipping_Address + \"_SA3\"\n",
    "df_obj['Purchase_Category'] = df_obj.Purchase_Category + \"_PC4\"\n",
    "df_obj['Seller_way'] = df_obj.Seller_way +\"_SW5\"\n",
    "df_obj['Countryissuedcard'] = df_obj.Countryissuedcard + \"_CO6\"\n",
    "\n",
    "df_obj.head()"
   ]
  },
  {
   "cell_type": "markdown",
   "id": "c16442f7",
   "metadata": {},
   "source": [
    "### Numeric Features in DataFrame"
   ]
  },
  {
   "cell_type": "code",
   "execution_count": 18,
   "id": "378b84e7",
   "metadata": {},
   "outputs": [
    {
     "data": {
      "text/html": [
       "<div>\n",
       "<style scoped>\n",
       "    .dataframe tbody tr th:only-of-type {\n",
       "        vertical-align: middle;\n",
       "    }\n",
       "\n",
       "    .dataframe tbody tr th {\n",
       "        vertical-align: top;\n",
       "    }\n",
       "\n",
       "    .dataframe thead th {\n",
       "        text-align: right;\n",
       "    }\n",
       "</style>\n",
       "<table border=\"1\" class=\"dataframe\">\n",
       "  <thead>\n",
       "    <tr style=\"text-align: right;\">\n",
       "      <th></th>\n",
       "      <th>ID</th>\n",
       "      <th>Card Tenure_months</th>\n",
       "      <th>Trans_value</th>\n",
       "      <th>Items_transaction</th>\n",
       "      <th>LastTransaction</th>\n",
       "      <th>Lastflagedvalue</th>\n",
       "      <th>LastMonthsTrans_Freq</th>\n",
       "      <th>Y</th>\n",
       "    </tr>\n",
       "  </thead>\n",
       "  <tbody>\n",
       "    <tr>\n",
       "      <th>0</th>\n",
       "      <td>1</td>\n",
       "      <td>25</td>\n",
       "      <td>256.41</td>\n",
       "      <td>10</td>\n",
       "      <td>0</td>\n",
       "      <td>0</td>\n",
       "      <td>40</td>\n",
       "      <td>0</td>\n",
       "    </tr>\n",
       "    <tr>\n",
       "      <th>1</th>\n",
       "      <td>2</td>\n",
       "      <td>38</td>\n",
       "      <td>409.54</td>\n",
       "      <td>8</td>\n",
       "      <td>0</td>\n",
       "      <td>0</td>\n",
       "      <td>50</td>\n",
       "      <td>0</td>\n",
       "    </tr>\n",
       "    <tr>\n",
       "      <th>2</th>\n",
       "      <td>3</td>\n",
       "      <td>28</td>\n",
       "      <td>293.09</td>\n",
       "      <td>5</td>\n",
       "      <td>0</td>\n",
       "      <td>0</td>\n",
       "      <td>40</td>\n",
       "      <td>1</td>\n",
       "    </tr>\n",
       "    <tr>\n",
       "      <th>3</th>\n",
       "      <td>4</td>\n",
       "      <td>44</td>\n",
       "      <td>444.07</td>\n",
       "      <td>7</td>\n",
       "      <td>7688</td>\n",
       "      <td>0</td>\n",
       "      <td>40</td>\n",
       "      <td>1</td>\n",
       "    </tr>\n",
       "    <tr>\n",
       "      <th>4</th>\n",
       "      <td>5</td>\n",
       "      <td>18</td>\n",
       "      <td>183.11</td>\n",
       "      <td>7</td>\n",
       "      <td>0</td>\n",
       "      <td>0</td>\n",
       "      <td>30</td>\n",
       "      <td>0</td>\n",
       "    </tr>\n",
       "  </tbody>\n",
       "</table>\n",
       "</div>"
      ],
      "text/plain": [
       "   ID  Card Tenure_months  Trans_value  Items_transaction  LastTransaction  \\\n",
       "0   1                  25       256.41                 10                0   \n",
       "1   2                  38       409.54                  8                0   \n",
       "2   3                  28       293.09                  5                0   \n",
       "3   4                  44       444.07                  7             7688   \n",
       "4   5                  18       183.11                  7                0   \n",
       "\n",
       "   Lastflagedvalue  LastMonthsTrans_Freq  Y  \n",
       "0                0                    40  0  \n",
       "1                0                    50  0  \n",
       "2                0                    40  1  \n",
       "3                0                    40  1  \n",
       "4                0                    30  0  "
      ]
     },
     "execution_count": 18,
     "metadata": {},
     "output_type": "execute_result"
    }
   ],
   "source": [
    "df_num = df_new.select_dtypes(include = ['number'])\n",
    "df_num.head()"
   ]
  },
  {
   "cell_type": "code",
   "execution_count": 19,
   "id": "e06ddb34",
   "metadata": {},
   "outputs": [
    {
     "name": "stdout",
     "output_type": "stream",
     "text": [
      "Original variable name: WebsiteRegion\n",
      "Original variable name: Seller_Category\n",
      "Original variable name: Shipping_Address\n",
      "Original variable name: Purchase_Category\n",
      "Original variable name: Seller_way\n",
      "Original variable name: Countryissuedcard\n"
     ]
    }
   ],
   "source": [
    "for var in char_variables[:-1]:\n",
    "    print(f'Original variable name: {var}')"
   ]
  },
  {
   "cell_type": "markdown",
   "id": "cd2973b9",
   "metadata": {},
   "source": [
    "### Create Dummies for categorical features"
   ]
  },
  {
   "cell_type": "code",
   "execution_count": 20,
   "id": "987fb018",
   "metadata": {},
   "outputs": [
    {
     "name": "stdout",
     "output_type": "stream",
     "text": [
      "dummy names:\n",
      "['EU_WE1', 'Eastern Europe_WE1', 'US_WE1', 'Unclassified_WE1', 'Online only_SC2', 'Store + online_SC2', 'Canada_SA3', 'International_SA3', 'US_SA3', 'Accessories_PC4', 'Books_PC4', 'Electornics_PC4', 'Food_PC4', 'Paying bills_PC4', 'Tickets - flights_PC4', 'online services_PC4', 'No_SW5', 'Yes_SW5', 'Other_CO6', 'United-States_CO6']\n",
      "\n",
      "Number of dummies: 20\n",
      "shape: (16281, 20)\n"
     ]
    }
   ],
   "source": [
    "df_obj_dummies = pd.DataFrame([])\n",
    "for var in char_variables[:-1]:\n",
    "        df_temp = pd.get_dummies(df_obj[var])\n",
    "        df_obj_dummies = pd.concat([df_obj_dummies, df_temp], axis = 1)\n",
    "\n",
    "print(f'dummy names:\\n{list(df_obj_dummies)}\\n')\n",
    "print(f'Number of dummies: {len(list(df_obj_dummies))}')\n",
    "print(f'shape: {df_obj_dummies.shape}')"
   ]
  },
  {
   "cell_type": "code",
   "execution_count": 21,
   "id": "a8e94540",
   "metadata": {},
   "outputs": [
    {
     "data": {
      "text/html": [
       "<div>\n",
       "<style scoped>\n",
       "    .dataframe tbody tr th:only-of-type {\n",
       "        vertical-align: middle;\n",
       "    }\n",
       "\n",
       "    .dataframe tbody tr th {\n",
       "        vertical-align: top;\n",
       "    }\n",
       "\n",
       "    .dataframe thead th {\n",
       "        text-align: right;\n",
       "    }\n",
       "</style>\n",
       "<table border=\"1\" class=\"dataframe\">\n",
       "  <thead>\n",
       "    <tr style=\"text-align: right;\">\n",
       "      <th></th>\n",
       "      <th>EU_WE1</th>\n",
       "      <th>Eastern Europe_WE1</th>\n",
       "      <th>US_WE1</th>\n",
       "      <th>Unclassified_WE1</th>\n",
       "      <th>Online only_SC2</th>\n",
       "      <th>Store + online_SC2</th>\n",
       "      <th>Canada_SA3</th>\n",
       "      <th>International_SA3</th>\n",
       "      <th>US_SA3</th>\n",
       "      <th>Accessories_PC4</th>\n",
       "      <th>Books_PC4</th>\n",
       "      <th>Electornics_PC4</th>\n",
       "      <th>Food_PC4</th>\n",
       "      <th>Paying bills_PC4</th>\n",
       "      <th>Tickets - flights_PC4</th>\n",
       "      <th>online services_PC4</th>\n",
       "      <th>No_SW5</th>\n",
       "      <th>Yes_SW5</th>\n",
       "      <th>Other_CO6</th>\n",
       "      <th>United-States_CO6</th>\n",
       "    </tr>\n",
       "  </thead>\n",
       "  <tbody>\n",
       "    <tr>\n",
       "      <th>0</th>\n",
       "      <td>False</td>\n",
       "      <td>False</td>\n",
       "      <td>True</td>\n",
       "      <td>False</td>\n",
       "      <td>False</td>\n",
       "      <td>True</td>\n",
       "      <td>False</td>\n",
       "      <td>False</td>\n",
       "      <td>True</td>\n",
       "      <td>False</td>\n",
       "      <td>False</td>\n",
       "      <td>False</td>\n",
       "      <td>False</td>\n",
       "      <td>False</td>\n",
       "      <td>False</td>\n",
       "      <td>True</td>\n",
       "      <td>False</td>\n",
       "      <td>True</td>\n",
       "      <td>False</td>\n",
       "      <td>True</td>\n",
       "    </tr>\n",
       "    <tr>\n",
       "      <th>1</th>\n",
       "      <td>False</td>\n",
       "      <td>False</td>\n",
       "      <td>True</td>\n",
       "      <td>False</td>\n",
       "      <td>True</td>\n",
       "      <td>False</td>\n",
       "      <td>False</td>\n",
       "      <td>True</td>\n",
       "      <td>False</td>\n",
       "      <td>True</td>\n",
       "      <td>False</td>\n",
       "      <td>False</td>\n",
       "      <td>False</td>\n",
       "      <td>False</td>\n",
       "      <td>False</td>\n",
       "      <td>False</td>\n",
       "      <td>False</td>\n",
       "      <td>True</td>\n",
       "      <td>False</td>\n",
       "      <td>True</td>\n",
       "    </tr>\n",
       "    <tr>\n",
       "      <th>2</th>\n",
       "      <td>True</td>\n",
       "      <td>False</td>\n",
       "      <td>False</td>\n",
       "      <td>False</td>\n",
       "      <td>True</td>\n",
       "      <td>False</td>\n",
       "      <td>False</td>\n",
       "      <td>True</td>\n",
       "      <td>False</td>\n",
       "      <td>False</td>\n",
       "      <td>False</td>\n",
       "      <td>True</td>\n",
       "      <td>False</td>\n",
       "      <td>False</td>\n",
       "      <td>False</td>\n",
       "      <td>False</td>\n",
       "      <td>False</td>\n",
       "      <td>True</td>\n",
       "      <td>False</td>\n",
       "      <td>True</td>\n",
       "    </tr>\n",
       "    <tr>\n",
       "      <th>3</th>\n",
       "      <td>False</td>\n",
       "      <td>False</td>\n",
       "      <td>True</td>\n",
       "      <td>False</td>\n",
       "      <td>True</td>\n",
       "      <td>False</td>\n",
       "      <td>False</td>\n",
       "      <td>True</td>\n",
       "      <td>False</td>\n",
       "      <td>False</td>\n",
       "      <td>False</td>\n",
       "      <td>False</td>\n",
       "      <td>False</td>\n",
       "      <td>False</td>\n",
       "      <td>False</td>\n",
       "      <td>True</td>\n",
       "      <td>False</td>\n",
       "      <td>True</td>\n",
       "      <td>False</td>\n",
       "      <td>True</td>\n",
       "    </tr>\n",
       "    <tr>\n",
       "      <th>4</th>\n",
       "      <td>True</td>\n",
       "      <td>False</td>\n",
       "      <td>False</td>\n",
       "      <td>False</td>\n",
       "      <td>True</td>\n",
       "      <td>False</td>\n",
       "      <td>False</td>\n",
       "      <td>False</td>\n",
       "      <td>True</td>\n",
       "      <td>False</td>\n",
       "      <td>False</td>\n",
       "      <td>False</td>\n",
       "      <td>True</td>\n",
       "      <td>False</td>\n",
       "      <td>False</td>\n",
       "      <td>False</td>\n",
       "      <td>True</td>\n",
       "      <td>False</td>\n",
       "      <td>False</td>\n",
       "      <td>True</td>\n",
       "    </tr>\n",
       "  </tbody>\n",
       "</table>\n",
       "</div>"
      ],
      "text/plain": [
       "   EU_WE1  Eastern Europe_WE1  US_WE1  Unclassified_WE1  Online only_SC2  \\\n",
       "0   False               False    True             False            False   \n",
       "1   False               False    True             False             True   \n",
       "2    True               False   False             False             True   \n",
       "3   False               False    True             False             True   \n",
       "4    True               False   False             False             True   \n",
       "\n",
       "   Store + online_SC2  Canada_SA3  International_SA3  US_SA3  Accessories_PC4  \\\n",
       "0                True       False              False    True            False   \n",
       "1               False       False               True   False             True   \n",
       "2               False       False               True   False            False   \n",
       "3               False       False               True   False            False   \n",
       "4               False       False              False    True            False   \n",
       "\n",
       "   Books_PC4  Electornics_PC4  Food_PC4  Paying bills_PC4  \\\n",
       "0      False            False     False             False   \n",
       "1      False            False     False             False   \n",
       "2      False             True     False             False   \n",
       "3      False            False     False             False   \n",
       "4      False            False      True             False   \n",
       "\n",
       "   Tickets - flights_PC4  online services_PC4  No_SW5  Yes_SW5  Other_CO6  \\\n",
       "0                  False                 True   False     True      False   \n",
       "1                  False                False   False     True      False   \n",
       "2                  False                False   False     True      False   \n",
       "3                  False                 True   False     True      False   \n",
       "4                  False                False    True    False      False   \n",
       "\n",
       "   United-States_CO6  \n",
       "0               True  \n",
       "1               True  \n",
       "2               True  \n",
       "3               True  \n",
       "4               True  "
      ]
     },
     "execution_count": 21,
     "metadata": {},
     "output_type": "execute_result"
    }
   ],
   "source": [
    "df_obj_dummies.head()"
   ]
  },
  {
   "cell_type": "markdown",
   "id": "a49209c8",
   "metadata": {},
   "source": [
    "### Drop any duplicates (by ID) in data (only keep last one)"
   ]
  },
  {
   "cell_type": "code",
   "execution_count": 22,
   "id": "a0391bbf",
   "metadata": {},
   "outputs": [
    {
     "name": "stdout",
     "output_type": "stream",
     "text": [
      "(16281, 8)\n",
      "(16281, 8)\n"
     ]
    }
   ],
   "source": [
    "print(df_num.shape)\n",
    "df_num = df_num.drop_duplicates('ID', keep = 'last')\n",
    "print(df_num.shape)"
   ]
  },
  {
   "cell_type": "markdown",
   "id": "6e648aab",
   "metadata": {},
   "source": [
    "### Standardization for numerical features\n",
    "Scipy's **`zscore`** would transform the features to have standard normal distribution having **`mean = 0`** and **`standard deviation = 1`**."
   ]
  },
  {
   "cell_type": "code",
   "execution_count": 23,
   "id": "ec2628ba",
   "metadata": {},
   "outputs": [
    {
     "data": {
      "text/html": [
       "<div>\n",
       "<style scoped>\n",
       "    .dataframe tbody tr th:only-of-type {\n",
       "        vertical-align: middle;\n",
       "    }\n",
       "\n",
       "    .dataframe tbody tr th {\n",
       "        vertical-align: top;\n",
       "    }\n",
       "\n",
       "    .dataframe thead th {\n",
       "        text-align: right;\n",
       "    }\n",
       "</style>\n",
       "<table border=\"1\" class=\"dataframe\">\n",
       "  <thead>\n",
       "    <tr style=\"text-align: right;\">\n",
       "      <th></th>\n",
       "      <th>Card Tenure_months</th>\n",
       "      <th>Trans_value</th>\n",
       "      <th>Items_transaction</th>\n",
       "      <th>LastTransaction</th>\n",
       "      <th>Lastflagedvalue</th>\n",
       "      <th>LastMonthsTrans_Freq</th>\n",
       "    </tr>\n",
       "  </thead>\n",
       "  <tbody>\n",
       "    <tr>\n",
       "      <th>0</th>\n",
       "      <td>-0.994129</td>\n",
       "      <td>-1.053243</td>\n",
       "      <td>1.196864</td>\n",
       "      <td>-0.142662</td>\n",
       "      <td>-0.218062</td>\n",
       "      <td>-0.031432</td>\n",
       "    </tr>\n",
       "    <tr>\n",
       "      <th>1</th>\n",
       "      <td>-0.055417</td>\n",
       "      <td>0.049638</td>\n",
       "      <td>0.417886</td>\n",
       "      <td>-0.142662</td>\n",
       "      <td>-0.218062</td>\n",
       "      <td>0.769918</td>\n",
       "    </tr>\n",
       "    <tr>\n",
       "      <th>2</th>\n",
       "      <td>-0.777503</td>\n",
       "      <td>-0.789064</td>\n",
       "      <td>-0.750582</td>\n",
       "      <td>-0.142662</td>\n",
       "      <td>-0.218062</td>\n",
       "      <td>-0.031432</td>\n",
       "    </tr>\n",
       "    <tr>\n",
       "      <th>3</th>\n",
       "      <td>0.377835</td>\n",
       "      <td>0.298332</td>\n",
       "      <td>0.028397</td>\n",
       "      <td>0.871091</td>\n",
       "      <td>-0.218062</td>\n",
       "      <td>-0.031432</td>\n",
       "    </tr>\n",
       "    <tr>\n",
       "      <th>4</th>\n",
       "      <td>-1.499590</td>\n",
       "      <td>-1.581168</td>\n",
       "      <td>0.028397</td>\n",
       "      <td>-0.142662</td>\n",
       "      <td>-0.218062</td>\n",
       "      <td>-0.832781</td>\n",
       "    </tr>\n",
       "  </tbody>\n",
       "</table>\n",
       "</div>"
      ],
      "text/plain": [
       "   Card Tenure_months  Trans_value  Items_transaction  LastTransaction  \\\n",
       "0           -0.994129    -1.053243           1.196864        -0.142662   \n",
       "1           -0.055417     0.049638           0.417886        -0.142662   \n",
       "2           -0.777503    -0.789064          -0.750582        -0.142662   \n",
       "3            0.377835     0.298332           0.028397         0.871091   \n",
       "4           -1.499590    -1.581168           0.028397        -0.142662   \n",
       "\n",
       "   Lastflagedvalue  LastMonthsTrans_Freq  \n",
       "0        -0.218062             -0.031432  \n",
       "1        -0.218062              0.769918  \n",
       "2        -0.218062             -0.031432  \n",
       "3        -0.218062             -0.031432  \n",
       "4        -0.218062             -0.832781  "
      ]
     },
     "execution_count": 23,
     "metadata": {},
     "output_type": "execute_result"
    }
   ],
   "source": [
    "Y = df_num['Y']\n",
    "\n",
    "df_num_scaled = df_num.iloc[:, 1:-1].apply(zscore)\n",
    "df_num_scaled.head()"
   ]
  },
  {
   "cell_type": "markdown",
   "id": "257de080",
   "metadata": {},
   "source": [
    "### Create a DataFrame with numeric features (numeric plus dummies)"
   ]
  },
  {
   "cell_type": "code",
   "execution_count": 24,
   "id": "d637a226",
   "metadata": {},
   "outputs": [
    {
     "name": "stdout",
     "output_type": "stream",
     "text": [
      "(16281, 26)\n"
     ]
    },
    {
     "data": {
      "text/html": [
       "<div>\n",
       "<style scoped>\n",
       "    .dataframe tbody tr th:only-of-type {\n",
       "        vertical-align: middle;\n",
       "    }\n",
       "\n",
       "    .dataframe tbody tr th {\n",
       "        vertical-align: top;\n",
       "    }\n",
       "\n",
       "    .dataframe thead th {\n",
       "        text-align: right;\n",
       "    }\n",
       "</style>\n",
       "<table border=\"1\" class=\"dataframe\">\n",
       "  <thead>\n",
       "    <tr style=\"text-align: right;\">\n",
       "      <th></th>\n",
       "      <th>Card Tenure_months</th>\n",
       "      <th>Trans_value</th>\n",
       "      <th>Items_transaction</th>\n",
       "      <th>LastTransaction</th>\n",
       "      <th>Lastflagedvalue</th>\n",
       "      <th>LastMonthsTrans_Freq</th>\n",
       "      <th>EU_WE1</th>\n",
       "      <th>Eastern Europe_WE1</th>\n",
       "      <th>US_WE1</th>\n",
       "      <th>Unclassified_WE1</th>\n",
       "      <th>...</th>\n",
       "      <th>Books_PC4</th>\n",
       "      <th>Electornics_PC4</th>\n",
       "      <th>Food_PC4</th>\n",
       "      <th>Paying bills_PC4</th>\n",
       "      <th>Tickets - flights_PC4</th>\n",
       "      <th>online services_PC4</th>\n",
       "      <th>No_SW5</th>\n",
       "      <th>Yes_SW5</th>\n",
       "      <th>Other_CO6</th>\n",
       "      <th>United-States_CO6</th>\n",
       "    </tr>\n",
       "  </thead>\n",
       "  <tbody>\n",
       "    <tr>\n",
       "      <th>0</th>\n",
       "      <td>-0.994129</td>\n",
       "      <td>-1.053243</td>\n",
       "      <td>1.196864</td>\n",
       "      <td>-0.142662</td>\n",
       "      <td>-0.218062</td>\n",
       "      <td>-0.031432</td>\n",
       "      <td>False</td>\n",
       "      <td>False</td>\n",
       "      <td>True</td>\n",
       "      <td>False</td>\n",
       "      <td>...</td>\n",
       "      <td>False</td>\n",
       "      <td>False</td>\n",
       "      <td>False</td>\n",
       "      <td>False</td>\n",
       "      <td>False</td>\n",
       "      <td>True</td>\n",
       "      <td>False</td>\n",
       "      <td>True</td>\n",
       "      <td>False</td>\n",
       "      <td>True</td>\n",
       "    </tr>\n",
       "    <tr>\n",
       "      <th>1</th>\n",
       "      <td>-0.055417</td>\n",
       "      <td>0.049638</td>\n",
       "      <td>0.417886</td>\n",
       "      <td>-0.142662</td>\n",
       "      <td>-0.218062</td>\n",
       "      <td>0.769918</td>\n",
       "      <td>False</td>\n",
       "      <td>False</td>\n",
       "      <td>True</td>\n",
       "      <td>False</td>\n",
       "      <td>...</td>\n",
       "      <td>False</td>\n",
       "      <td>False</td>\n",
       "      <td>False</td>\n",
       "      <td>False</td>\n",
       "      <td>False</td>\n",
       "      <td>False</td>\n",
       "      <td>False</td>\n",
       "      <td>True</td>\n",
       "      <td>False</td>\n",
       "      <td>True</td>\n",
       "    </tr>\n",
       "    <tr>\n",
       "      <th>2</th>\n",
       "      <td>-0.777503</td>\n",
       "      <td>-0.789064</td>\n",
       "      <td>-0.750582</td>\n",
       "      <td>-0.142662</td>\n",
       "      <td>-0.218062</td>\n",
       "      <td>-0.031432</td>\n",
       "      <td>True</td>\n",
       "      <td>False</td>\n",
       "      <td>False</td>\n",
       "      <td>False</td>\n",
       "      <td>...</td>\n",
       "      <td>False</td>\n",
       "      <td>True</td>\n",
       "      <td>False</td>\n",
       "      <td>False</td>\n",
       "      <td>False</td>\n",
       "      <td>False</td>\n",
       "      <td>False</td>\n",
       "      <td>True</td>\n",
       "      <td>False</td>\n",
       "      <td>True</td>\n",
       "    </tr>\n",
       "    <tr>\n",
       "      <th>3</th>\n",
       "      <td>0.377835</td>\n",
       "      <td>0.298332</td>\n",
       "      <td>0.028397</td>\n",
       "      <td>0.871091</td>\n",
       "      <td>-0.218062</td>\n",
       "      <td>-0.031432</td>\n",
       "      <td>False</td>\n",
       "      <td>False</td>\n",
       "      <td>True</td>\n",
       "      <td>False</td>\n",
       "      <td>...</td>\n",
       "      <td>False</td>\n",
       "      <td>False</td>\n",
       "      <td>False</td>\n",
       "      <td>False</td>\n",
       "      <td>False</td>\n",
       "      <td>True</td>\n",
       "      <td>False</td>\n",
       "      <td>True</td>\n",
       "      <td>False</td>\n",
       "      <td>True</td>\n",
       "    </tr>\n",
       "    <tr>\n",
       "      <th>4</th>\n",
       "      <td>-1.499590</td>\n",
       "      <td>-1.581168</td>\n",
       "      <td>0.028397</td>\n",
       "      <td>-0.142662</td>\n",
       "      <td>-0.218062</td>\n",
       "      <td>-0.832781</td>\n",
       "      <td>True</td>\n",
       "      <td>False</td>\n",
       "      <td>False</td>\n",
       "      <td>False</td>\n",
       "      <td>...</td>\n",
       "      <td>False</td>\n",
       "      <td>False</td>\n",
       "      <td>True</td>\n",
       "      <td>False</td>\n",
       "      <td>False</td>\n",
       "      <td>False</td>\n",
       "      <td>True</td>\n",
       "      <td>False</td>\n",
       "      <td>False</td>\n",
       "      <td>True</td>\n",
       "    </tr>\n",
       "  </tbody>\n",
       "</table>\n",
       "<p>5 rows × 26 columns</p>\n",
       "</div>"
      ],
      "text/plain": [
       "   Card Tenure_months  Trans_value  Items_transaction  LastTransaction  \\\n",
       "0           -0.994129    -1.053243           1.196864        -0.142662   \n",
       "1           -0.055417     0.049638           0.417886        -0.142662   \n",
       "2           -0.777503    -0.789064          -0.750582        -0.142662   \n",
       "3            0.377835     0.298332           0.028397         0.871091   \n",
       "4           -1.499590    -1.581168           0.028397        -0.142662   \n",
       "\n",
       "   Lastflagedvalue  LastMonthsTrans_Freq  EU_WE1  Eastern Europe_WE1  US_WE1  \\\n",
       "0        -0.218062             -0.031432   False               False    True   \n",
       "1        -0.218062              0.769918   False               False    True   \n",
       "2        -0.218062             -0.031432    True               False   False   \n",
       "3        -0.218062             -0.031432   False               False    True   \n",
       "4        -0.218062             -0.832781    True               False   False   \n",
       "\n",
       "   Unclassified_WE1  ...  Books_PC4  Electornics_PC4  Food_PC4  \\\n",
       "0             False  ...      False            False     False   \n",
       "1             False  ...      False            False     False   \n",
       "2             False  ...      False             True     False   \n",
       "3             False  ...      False            False     False   \n",
       "4             False  ...      False            False      True   \n",
       "\n",
       "   Paying bills_PC4  Tickets - flights_PC4  online services_PC4  No_SW5  \\\n",
       "0             False                  False                 True   False   \n",
       "1             False                  False                False   False   \n",
       "2             False                  False                False   False   \n",
       "3             False                  False                 True   False   \n",
       "4             False                  False                False    True   \n",
       "\n",
       "   Yes_SW5  Other_CO6  United-States_CO6  \n",
       "0     True      False               True  \n",
       "1     True      False               True  \n",
       "2     True      False               True  \n",
       "3     True      False               True  \n",
       "4    False      False               True  \n",
       "\n",
       "[5 rows x 26 columns]"
      ]
     },
     "execution_count": 24,
     "metadata": {},
     "output_type": "execute_result"
    }
   ],
   "source": [
    "X_train_df = pd.concat([df_num_scaled , df_obj_dummies], axis = 1)   \n",
    "print(X_train_df.shape)\n",
    "X_train_df.head()"
   ]
  },
  {
   "cell_type": "code",
   "execution_count": 25,
   "id": "2cccded0",
   "metadata": {},
   "outputs": [
    {
     "name": "stdout",
     "output_type": "stream",
     "text": [
      "16281\n"
     ]
    }
   ],
   "source": [
    "print(len(Y))             "
   ]
  },
  {
   "cell_type": "markdown",
   "id": "ddd3993f",
   "metadata": {},
   "source": [
    "### Determined the AUC of each variable with the target.\n",
    "This would give an clue of which feature is a good predictor of the target variable."
   ]
  },
  {
   "cell_type": "code",
   "execution_count": 26,
   "id": "9f30767c",
   "metadata": {},
   "outputs": [
    {
     "name": "stdout",
     "output_type": "stream",
     "text": [
      "The single AUC of Card Tenure_months is 0.6783597431553071\n",
      "\n",
      "The single AUC of Trans_value is 0.677623737036333\n",
      "\n",
      "The single AUC of Items_transaction is 0.28531270563247135\n",
      "\n",
      "The single AUC of LastTransaction is 0.5891427936972726\n",
      "\n",
      "The single AUC of Lastflagedvalue is 0.5330136156793276\n",
      "\n",
      "The single AUC of LastMonthsTrans_Freq is 0.6714938167289458\n",
      "\n",
      "The single AUC of EU_WE1 is 0.4845822300925813\n",
      "\n",
      "The single AUC of Eastern Europe_WE1 is 0.5160861126845557\n",
      "\n",
      "The single AUC of US_WE1 is 0.4923622180110364\n",
      "\n",
      "The single AUC of Unclassified_WE1 is 0.5069694392118266\n",
      "\n",
      "The single AUC of Online only_SC2 is 0.5646654334207144\n",
      "\n",
      "The single AUC of Store + online_SC2 is 0.4353345665792856\n",
      "\n",
      "The single AUC of Canada_SA3 is 0.4715209259757604\n",
      "\n",
      "The single AUC of International_SA3 is 0.7627954913130179\n",
      "\n",
      "The single AUC of US_SA3 is 0.2656835827112216\n",
      "\n",
      "The single AUC of Accessories_PC4 is 0.4668894789567216\n",
      "\n",
      "The single AUC of Books_PC4 is 0.578779073961511\n",
      "\n",
      "The single AUC of Electornics_PC4 is 0.5788243013435856\n",
      "\n",
      "The single AUC of Food_PC4 is 0.4445944810048132\n",
      "\n",
      "The single AUC of Paying bills_PC4 is 0.5116888318476044\n",
      "\n",
      "The single AUC of Tickets - flights_PC4 is 0.49692601214301885\n",
      "\n",
      "The single AUC of online services_PC4 is 0.42229782074274524\n",
      "\n",
      "The single AUC of No_SW5 is 0.38245296760000674\n",
      "\n",
      "The single AUC of Yes_SW5 is 0.6175470323999932\n",
      "\n",
      "The single AUC of Other_CO6 is 0.48988070258636646\n",
      "\n",
      "The single AUC of United-States_CO6 is 0.5101192974136336\n",
      "\n"
     ]
    }
   ],
   "source": [
    "for var in list(X_train_df):\n",
    "    fpr, tpr, thresholds = roc_curve(np.array(Y), np.array(X_train_df[var]))          \n",
    "    print(f'The single AUC of {var} is {auc(fpr, tpr)}\\n')"
   ]
  },
  {
   "cell_type": "markdown",
   "id": "7404bcf0",
   "metadata": {},
   "source": [
    "### Feature selection\n",
    "Based on the **single AUCs** let's select **18** features (**single AUC > 0.5**)"
   ]
  },
  {
   "cell_type": "code",
   "execution_count": 27,
   "id": "65214955",
   "metadata": {},
   "outputs": [
    {
     "name": "stdout",
     "output_type": "stream",
     "text": [
      "(16281, 18)\n"
     ]
    }
   ],
   "source": [
    "selector = SelectKBest(f_classif, k = 18)               \n",
    "\n",
    "X_train_new = selector.fit_transform(X_train_df, Y)    \n",
    "print(X_train_new.shape)                               "
   ]
  },
  {
   "cell_type": "markdown",
   "id": "69a9fe7a",
   "metadata": {},
   "source": [
    "#### Check which feature is selected"
   ]
  },
  {
   "cell_type": "code",
   "execution_count": 28,
   "id": "c2622a85",
   "metadata": {},
   "outputs": [
    {
     "name": "stdout",
     "output_type": "stream",
     "text": [
      "(16281, 18)\n"
     ]
    }
   ],
   "source": [
    "num_rows = X_train_df.shape[0]\n",
    "chosen_indices = selector.get_support(indices = True)     # selected features      \n",
    "selected_df = X_train_df.iloc[0:num_rows, chosen_indices]\n",
    "print(selected_df.shape)"
   ]
  },
  {
   "cell_type": "code",
   "execution_count": 29,
   "id": "53ac7383",
   "metadata": {},
   "outputs": [
    {
     "data": {
      "text/html": [
       "<div>\n",
       "<style scoped>\n",
       "    .dataframe tbody tr th:only-of-type {\n",
       "        vertical-align: middle;\n",
       "    }\n",
       "\n",
       "    .dataframe tbody tr th {\n",
       "        vertical-align: top;\n",
       "    }\n",
       "\n",
       "    .dataframe thead th {\n",
       "        text-align: right;\n",
       "    }\n",
       "</style>\n",
       "<table border=\"1\" class=\"dataframe\">\n",
       "  <thead>\n",
       "    <tr style=\"text-align: right;\">\n",
       "      <th></th>\n",
       "      <th>Card Tenure_months</th>\n",
       "      <th>Trans_value</th>\n",
       "      <th>Items_transaction</th>\n",
       "      <th>LastTransaction</th>\n",
       "      <th>Lastflagedvalue</th>\n",
       "      <th>LastMonthsTrans_Freq</th>\n",
       "      <th>Online only_SC2</th>\n",
       "      <th>Store + online_SC2</th>\n",
       "      <th>Canada_SA3</th>\n",
       "      <th>International_SA3</th>\n",
       "      <th>US_SA3</th>\n",
       "      <th>Accessories_PC4</th>\n",
       "      <th>Books_PC4</th>\n",
       "      <th>Electornics_PC4</th>\n",
       "      <th>Food_PC4</th>\n",
       "      <th>online services_PC4</th>\n",
       "      <th>No_SW5</th>\n",
       "      <th>Yes_SW5</th>\n",
       "    </tr>\n",
       "  </thead>\n",
       "  <tbody>\n",
       "    <tr>\n",
       "      <th>0</th>\n",
       "      <td>-0.994129</td>\n",
       "      <td>-1.053243</td>\n",
       "      <td>1.196864</td>\n",
       "      <td>-0.142662</td>\n",
       "      <td>-0.218062</td>\n",
       "      <td>-0.031432</td>\n",
       "      <td>False</td>\n",
       "      <td>True</td>\n",
       "      <td>False</td>\n",
       "      <td>False</td>\n",
       "      <td>True</td>\n",
       "      <td>False</td>\n",
       "      <td>False</td>\n",
       "      <td>False</td>\n",
       "      <td>False</td>\n",
       "      <td>True</td>\n",
       "      <td>False</td>\n",
       "      <td>True</td>\n",
       "    </tr>\n",
       "    <tr>\n",
       "      <th>1</th>\n",
       "      <td>-0.055417</td>\n",
       "      <td>0.049638</td>\n",
       "      <td>0.417886</td>\n",
       "      <td>-0.142662</td>\n",
       "      <td>-0.218062</td>\n",
       "      <td>0.769918</td>\n",
       "      <td>True</td>\n",
       "      <td>False</td>\n",
       "      <td>False</td>\n",
       "      <td>True</td>\n",
       "      <td>False</td>\n",
       "      <td>True</td>\n",
       "      <td>False</td>\n",
       "      <td>False</td>\n",
       "      <td>False</td>\n",
       "      <td>False</td>\n",
       "      <td>False</td>\n",
       "      <td>True</td>\n",
       "    </tr>\n",
       "    <tr>\n",
       "      <th>2</th>\n",
       "      <td>-0.777503</td>\n",
       "      <td>-0.789064</td>\n",
       "      <td>-0.750582</td>\n",
       "      <td>-0.142662</td>\n",
       "      <td>-0.218062</td>\n",
       "      <td>-0.031432</td>\n",
       "      <td>True</td>\n",
       "      <td>False</td>\n",
       "      <td>False</td>\n",
       "      <td>True</td>\n",
       "      <td>False</td>\n",
       "      <td>False</td>\n",
       "      <td>False</td>\n",
       "      <td>True</td>\n",
       "      <td>False</td>\n",
       "      <td>False</td>\n",
       "      <td>False</td>\n",
       "      <td>True</td>\n",
       "    </tr>\n",
       "    <tr>\n",
       "      <th>3</th>\n",
       "      <td>0.377835</td>\n",
       "      <td>0.298332</td>\n",
       "      <td>0.028397</td>\n",
       "      <td>0.871091</td>\n",
       "      <td>-0.218062</td>\n",
       "      <td>-0.031432</td>\n",
       "      <td>True</td>\n",
       "      <td>False</td>\n",
       "      <td>False</td>\n",
       "      <td>True</td>\n",
       "      <td>False</td>\n",
       "      <td>False</td>\n",
       "      <td>False</td>\n",
       "      <td>False</td>\n",
       "      <td>False</td>\n",
       "      <td>True</td>\n",
       "      <td>False</td>\n",
       "      <td>True</td>\n",
       "    </tr>\n",
       "    <tr>\n",
       "      <th>4</th>\n",
       "      <td>-1.499590</td>\n",
       "      <td>-1.581168</td>\n",
       "      <td>0.028397</td>\n",
       "      <td>-0.142662</td>\n",
       "      <td>-0.218062</td>\n",
       "      <td>-0.832781</td>\n",
       "      <td>True</td>\n",
       "      <td>False</td>\n",
       "      <td>False</td>\n",
       "      <td>False</td>\n",
       "      <td>True</td>\n",
       "      <td>False</td>\n",
       "      <td>False</td>\n",
       "      <td>False</td>\n",
       "      <td>True</td>\n",
       "      <td>False</td>\n",
       "      <td>True</td>\n",
       "      <td>False</td>\n",
       "    </tr>\n",
       "  </tbody>\n",
       "</table>\n",
       "</div>"
      ],
      "text/plain": [
       "   Card Tenure_months  Trans_value  Items_transaction  LastTransaction  \\\n",
       "0           -0.994129    -1.053243           1.196864        -0.142662   \n",
       "1           -0.055417     0.049638           0.417886        -0.142662   \n",
       "2           -0.777503    -0.789064          -0.750582        -0.142662   \n",
       "3            0.377835     0.298332           0.028397         0.871091   \n",
       "4           -1.499590    -1.581168           0.028397        -0.142662   \n",
       "\n",
       "   Lastflagedvalue  LastMonthsTrans_Freq  Online only_SC2  Store + online_SC2  \\\n",
       "0        -0.218062             -0.031432            False                True   \n",
       "1        -0.218062              0.769918             True               False   \n",
       "2        -0.218062             -0.031432             True               False   \n",
       "3        -0.218062             -0.031432             True               False   \n",
       "4        -0.218062             -0.832781             True               False   \n",
       "\n",
       "   Canada_SA3  International_SA3  US_SA3  Accessories_PC4  Books_PC4  \\\n",
       "0       False              False    True            False      False   \n",
       "1       False               True   False             True      False   \n",
       "2       False               True   False            False      False   \n",
       "3       False               True   False            False      False   \n",
       "4       False              False    True            False      False   \n",
       "\n",
       "   Electornics_PC4  Food_PC4  online services_PC4  No_SW5  Yes_SW5  \n",
       "0            False     False                 True   False     True  \n",
       "1            False     False                False   False     True  \n",
       "2             True     False                False   False     True  \n",
       "3            False     False                 True   False     True  \n",
       "4            False      True                False    True    False  "
      ]
     },
     "execution_count": 29,
     "metadata": {},
     "output_type": "execute_result"
    }
   ],
   "source": [
    "selected_df.head()"
   ]
  },
  {
   "cell_type": "code",
   "execution_count": 30,
   "id": "91a2b098",
   "metadata": {},
   "outputs": [
    {
     "name": "stdout",
     "output_type": "stream",
     "text": [
      "Card Tenure_months      float64\n",
      "Trans_value             float64\n",
      "Items_transaction       float64\n",
      "LastTransaction         float64\n",
      "Lastflagedvalue         float64\n",
      "LastMonthsTrans_Freq    float64\n",
      "Online only_SC2            bool\n",
      "Store + online_SC2         bool\n",
      "Canada_SA3                 bool\n",
      "International_SA3          bool\n",
      "US_SA3                     bool\n",
      "Accessories_PC4            bool\n",
      "Books_PC4                  bool\n",
      "Electornics_PC4            bool\n",
      "Food_PC4                   bool\n",
      "online services_PC4        bool\n",
      "No_SW5                     bool\n",
      "Yes_SW5                    bool\n",
      "dtype: object\n"
     ]
    }
   ],
   "source": [
    "print(selected_df.dtypes)"
   ]
  },
  {
   "cell_type": "code",
   "execution_count": 31,
   "id": "b97f3fff",
   "metadata": {},
   "outputs": [
    {
     "name": "stdout",
     "output_type": "stream",
     "text": [
      "Series([], dtype: int64)\n"
     ]
    }
   ],
   "source": [
    "z = selected_df.isnull().sum()\n",
    "print(z[z > 0])"
   ]
  },
  {
   "cell_type": "code",
   "execution_count": 32,
   "id": "7262724f",
   "metadata": {},
   "outputs": [
    {
     "name": "stdout",
     "output_type": "stream",
     "text": [
      "['Card Tenure_months', 'Trans_value', 'Items_transaction', 'LastTransaction', 'Lastflagedvalue', 'LastMonthsTrans_Freq', 'Online only_SC2', 'Store + online_SC2', 'Canada_SA3', 'International_SA3', 'US_SA3', 'Accessories_PC4', 'Books_PC4', 'Electornics_PC4', 'Food_PC4', 'online services_PC4', 'No_SW5', 'Yes_SW5']\n"
     ]
    }
   ],
   "source": [
    "num_type = ['bool', 'float64']    \n",
    "df_num_final = selected_df.select_dtypes(include = num_type)\n",
    "\n",
    "predictor_vars = list(df_num_final)\n",
    "print(predictor_vars)"
   ]
  },
  {
   "cell_type": "code",
   "execution_count": 33,
   "id": "c4d5c9a2",
   "metadata": {},
   "outputs": [
    {
     "name": "stdout",
     "output_type": "stream",
     "text": [
      "The AUC of Card Tenure_months is 0.6783597431553071\n",
      "The AUC of Trans_value is 0.677623737036333\n",
      "The AUC of Items_transaction is 0.7146872943675286\n",
      "The AUC of LastTransaction is 0.5891427936972726\n",
      "The AUC of Lastflagedvalue is 0.5330136156793276\n",
      "The AUC of LastMonthsTrans_Freq is 0.6714938167289458\n",
      "The AUC of Online only_SC2 is 0.5646654334207144\n",
      "The AUC of Store + online_SC2 is 0.5646654334207144\n",
      "The AUC of Canada_SA3 is 0.5284790740242395\n",
      "The AUC of International_SA3 is 0.7627954913130179\n",
      "The AUC of US_SA3 is 0.7343164172887784\n",
      "The AUC of Accessories_PC4 is 0.5331105210432784\n",
      "The AUC of Books_PC4 is 0.578779073961511\n",
      "The AUC of Electornics_PC4 is 0.5788243013435856\n",
      "The AUC of Food_PC4 is 0.5554055189951868\n",
      "The AUC of online services_PC4 is 0.5777021792572548\n",
      "The AUC of No_SW5 is 0.6175470323999932\n",
      "The AUC of Yes_SW5 is 0.6175470323999932\n"
     ]
    }
   ],
   "source": [
    "for var in predictor_vars:\n",
    "    fpr, tpr, thresholds = roc_curve(np.array(Y), np.array(df_num_final[var]))\n",
    "    if auc(fpr, tpr) + 0 > 0.5:\n",
    "        z = auc(fpr, tpr) + 0\n",
    "    else:       \n",
    "        z = 1 - auc(fpr, tpr) + 0\n",
    "    print(f'The AUC of {var} is {z}')"
   ]
  },
  {
   "cell_type": "markdown",
   "id": "ccc64e08",
   "metadata": {},
   "source": [
    "The **single AUCs** are all greater than **`0.5`**! This is indication that there feature are good predictors."
   ]
  },
  {
   "cell_type": "markdown",
   "id": "9e57bc8c",
   "metadata": {},
   "source": [
    "### Training the models\n",
    "I will train a `LogisticRegression` and an `AdaBoostClassifier` model and compare their performances.\n",
    "I will use **Cummulative Accuracy Profile - (CAP)** to evaluate the models robustness."
   ]
  },
  {
   "cell_type": "code",
   "execution_count": 34,
   "id": "f1c59706",
   "metadata": {},
   "outputs": [],
   "source": [
    "X = df_num_final\n",
    "y = Y\n",
    "X_train, X_test, y_train, y_test = train_test_split(X , y, test_size = 0.3, random_state = 0)"
   ]
  },
  {
   "cell_type": "markdown",
   "id": "8047dd02",
   "metadata": {},
   "source": [
    "### Determine the class weights"
   ]
  },
  {
   "cell_type": "code",
   "execution_count": 35,
   "id": "fb658583",
   "metadata": {},
   "outputs": [],
   "source": [
    "from sklearn.utils.class_weight import compute_class_weight"
   ]
  },
  {
   "cell_type": "code",
   "execution_count": 36,
   "id": "7d33e7d6",
   "metadata": {},
   "outputs": [
    {
     "name": "stdout",
     "output_type": "stream",
     "text": [
      "{0: 0.6497890295358649, 1: 2.1690140845070425}\n"
     ]
    }
   ],
   "source": [
    "class_weights = compute_class_weight(class_weight = \"balanced\",\n",
    "                                     classes = np.unique(y_train),\n",
    "                                     y = y_train)\n",
    "class_weights = dict(zip(np.unique(y_train), class_weights))\n",
    "print(class_weights)"
   ]
  },
  {
   "cell_type": "markdown",
   "id": "e05ac1f1",
   "metadata": {},
   "source": [
    "#### Another approach could be using the entire data to compute percentage representation of each class"
   ]
  },
  {
   "cell_type": "code",
   "execution_count": 37,
   "id": "463d65c0",
   "metadata": {},
   "outputs": [],
   "source": [
    "# total = len(y_train)\n",
    "# one_counts = sum(y_train)\n",
    "# zero_counts = total - one_counts\n",
    "# print(f'Class 1 counts: {one_counts}\\nClass 0 counts: {zero_counts}')"
   ]
  },
  {
   "cell_type": "code",
   "execution_count": 38,
   "id": "7c1cff9f",
   "metadata": {},
   "outputs": [],
   "source": [
    "# weight_class_1 = round((zero_counts / total) * 100, 2)\n",
    "# weight_class_0 = round((one_counts / total) * 100, 2)\n",
    "# print(f'Weight Class 1: {weight_class_1}\\nWeight Class 0: {weight_class_0}')"
   ]
  },
  {
   "cell_type": "markdown",
   "id": "c2222adb",
   "metadata": {},
   "source": [
    "### LogisticRegression Model\n",
    "#### Cross Validation Score"
   ]
  },
  {
   "cell_type": "code",
   "execution_count": 39,
   "id": "2a516a27",
   "metadata": {},
   "outputs": [
    {
     "name": "stdout",
     "output_type": "stream",
     "text": [
      "logistic regression score: 0.7979850241287146\n",
      "\n"
     ]
    }
   ],
   "source": [
    "#log_reg = linear_model.LogisticRegression(C = 0.01, penalty = 'l2', class_weight = {0: 0.2, 1: 0.8})\n",
    "log_reg = linear_model.LogisticRegression(C = 0.01, penalty = 'l2', class_weight = class_weights)\n",
    "log_reg.fit(X_train, y_train)\n",
    "scores = cross_val_score(log_reg, X, y)\n",
    "print(f'logistic regression score: {scores.mean()}\\n') "
   ]
  },
  {
   "cell_type": "markdown",
   "id": "092451bf",
   "metadata": {},
   "source": [
    "### The Predictions (LogisticRegression Model)"
   ]
  },
  {
   "cell_type": "code",
   "execution_count": 40,
   "id": "ad8a9ded",
   "metadata": {},
   "outputs": [
    {
     "name": "stdout",
     "output_type": "stream",
     "text": [
      "First 10 probabilities:\n",
      "[0.67282954 0.17576788 0.39709653 0.35605528 0.53169716 0.95398039\n",
      " 0.51808657 0.21209738 0.98942983 0.77553172]\n"
     ]
    }
   ],
   "source": [
    "y_pred = log_reg.predict_proba(X_test,)[:, 1]                    \n",
    "print(f'First 10 probabilities:\\n{y_pred[0:10]}')"
   ]
  },
  {
   "cell_type": "code",
   "execution_count": 41,
   "id": "b74d73be",
   "metadata": {},
   "outputs": [
    {
     "name": "stdout",
     "output_type": "stream",
     "text": [
      "Accuracy (logistic Regression) =  80.59%\n"
     ]
    }
   ],
   "source": [
    "acc_lg = metrics.accuracy_score(y_test, np.where(y_pred > 0.5, 1, 0))\n",
    "print(f'Accuracy (logistic Regression) = {acc_lg * 100: .2f}%')"
   ]
  },
  {
   "cell_type": "markdown",
   "id": "6facfea9",
   "metadata": {},
   "source": [
    "#### Helper Function to plot ROC curve "
   ]
  },
  {
   "cell_type": "code",
   "execution_count": 42,
   "id": "35ce0e74",
   "metadata": {},
   "outputs": [],
   "source": [
    "def auc_curve(y_test, y_pred):\n",
    "    plt.plot([0,1], [0,1], 'r--')\n",
    "\n",
    "    fpr, tpr, thresholds = roc_curve(y_test, y_pred)\n",
    "    roc_auc = auc(fpr, tpr)\n",
    "\n",
    "    label = 'Model AUC:' + ' {0:.2f}'.format(roc_auc)\n",
    "    plt.plot(fpr, tpr, c = 'g', label = label, linewidth = 2)\n",
    "    plt.xlabel('False Positive Rate', fontsize = 14)\n",
    "    plt.ylabel('True Positive Rate', fontsize = 14)\n",
    "    plt.title('Receiver Operating Characteristic', fontsize = 14)\n",
    "    plt.legend(loc = 'lower right', fontsize = 12)\n",
    "    plt.show()"
   ]
  },
  {
   "cell_type": "markdown",
   "id": "0fd5f870",
   "metadata": {},
   "source": [
    "### Receiver Operating Characteristic (ROC) Curve - Logistic Regression"
   ]
  },
  {
   "cell_type": "code",
   "execution_count": 43,
   "id": "dc5ab044",
   "metadata": {},
   "outputs": [
    {
     "name": "stdout",
     "output_type": "stream",
     "text": [
      "AUC for logistic regression model: 0.899\n"
     ]
    }
   ],
   "source": [
    "fpr, tpr, thresholds = roc_curve(y_test, y_pred)             \n",
    "roc_auc = auc(fpr, tpr)               \n",
    "print(f'AUC for logistic regression model: {round(roc_auc, 3)}')"
   ]
  },
  {
   "cell_type": "code",
   "execution_count": 44,
   "id": "1b37bcd9",
   "metadata": {},
   "outputs": [
    {
     "data": {
      "image/png": "[encoded data removed]",
      "text/plain": [
       "<Figure size 640x480 with 1 Axes>"
      ]
     },
     "metadata": {},
     "output_type": "display_data"
    }
   ],
   "source": [
    "auc_curve(y_test, y_pred)"
   ]
  },
  {
   "cell_type": "markdown",
   "id": "73c226a2",
   "metadata": {},
   "source": [
    "### Cummulative Accuracy Profile (CAP) Curve - Logistic Regression"
   ]
  },
  {
   "cell_type": "code",
   "execution_count": 45,
   "id": "793a738c",
   "metadata": {},
   "outputs": [
    {
     "data": {
      "image/png": "[encoded data removed]",
      "text/plain": [
       "<Figure size 640x480 with 1 Axes>"
      ]
     },
     "metadata": {},
     "output_type": "display_data"
    },
    {
     "name": "stdout",
     "output_type": "stream",
     "text": [
      "Percentage: 94.26%\n",
      "\n",
      "    Interpret this percentage as follows:\n",
      "    \n",
      "    1. Less than 60%: Useless Model\n",
      "    2. 60% - 70%: Poor Model\n",
      "    3. 70% - 80%: Good Model\n",
      "    4. 80% - 90%: Very Good Model\n",
      "    5. More than 90%: Too Good to be True.\n",
      "\n",
      "    In the fifth case, one must always check for overfitting.\n",
      "    \n"
     ]
    }
   ],
   "source": [
    "cap_curve(y_test, y_pred)"
   ]
  },
  {
   "cell_type": "markdown",
   "id": "118480d9",
   "metadata": {},
   "source": [
    "### Confusion Matrix - Logistic Regression"
   ]
  },
  {
   "cell_type": "code",
   "execution_count": 46,
   "id": "0905a0b2",
   "metadata": {},
   "outputs": [
    {
     "data": {
      "image/png": "[encoded data removed]",
      "text/plain": [
       "<Figure size 700x500 with 2 Axes>"
      ]
     },
     "metadata": {},
     "output_type": "display_data"
    }
   ],
   "source": [
    "cm = confusion_matrix(y_test, np.where(y_pred > 0.5, 1, 0), labels = [1, 0])\n",
    "cm_df = pd.DataFrame(cm, index = [1, 0], columns = ['Predict 1', 'Predict 0'])\n",
    "\n",
    "plt.figure(figsize = (7, 5))\n",
    "sns.heatmap(cm_df, annot = True, fmt = 'g')\n",
    "plt.ylabel('Actual')\n",
    "plt.show()"
   ]
  },
  {
   "cell_type": "markdown",
   "id": "0d639a9c",
   "metadata": {},
   "source": [
    "### Most Important Features - Odds Ratio"
   ]
  },
  {
   "cell_type": "code",
   "execution_count": 47,
   "id": "1886093b",
   "metadata": {},
   "outputs": [],
   "source": [
    "odds_ratio = np.exp(log_reg.coef_)"
   ]
  },
  {
   "cell_type": "code",
   "execution_count": 48,
   "id": "f329adf6",
   "metadata": {},
   "outputs": [],
   "source": [
    "odds_ratio_df = pd.DataFrame(odds_ratio, columns = list(df_num_final)).T"
   ]
  },
  {
   "cell_type": "code",
   "execution_count": 49,
   "id": "e0a4ecb1",
   "metadata": {},
   "outputs": [],
   "source": [
    "odds_ratio_df.columns = ['odds']\n",
    "data = odds_ratio_df.sort_values(by = 'odds', ascending = False)"
   ]
  },
  {
   "cell_type": "code",
   "execution_count": 50,
   "id": "f6badb54",
   "metadata": {},
   "outputs": [
    {
     "data": {
      "image/png": "[encoded data removed]",
      "text/plain": [
       "<Figure size 640x480 with 1 Axes>"
      ]
     },
     "metadata": {},
     "output_type": "display_data"
    }
   ],
   "source": [
    "sns.barplot(data = data.T)\n",
    "plt.title('Important Predictors')\n",
    "plt.ylabel('Odds')\n",
    "plt.xticks(rotation = 90)\n",
    "plt.show()"
   ]
  },
  {
   "cell_type": "markdown",
   "id": "a9f69419",
   "metadata": {},
   "source": [
    "#### Note:\n",
    "The **confusion matrix** clearly demonstrates the tradeoff of using **Weighted Logistic Regression**! The model can detect more class 1 compared to **vanila Logistic Regression**, without class imbalance taken into consideration. However, the model also misclassified more of class 0 (none fraudulent transactions) as class 1 (fraudulent)!\n",
    "\n",
    "### Determine Class Weights using Grid Search "
   ]
  },
  {
   "cell_type": "code",
   "execution_count": 51,
   "id": "dac5c531",
   "metadata": {},
   "outputs": [],
   "source": [
    "from sklearn.model_selection import GridSearchCV\n",
    "from sklearn.model_selection import RepeatedStratifiedKFold"
   ]
  },
  {
   "cell_type": "code",
   "execution_count": 52,
   "id": "e690970b",
   "metadata": {},
   "outputs": [
    {
     "data": {
      "application/javascript": [
       "\n",
       "        if (window._pyforest_update_imports_cell) { window._pyforest_update_imports_cell('from sklearn.linear_model import LogisticRegression'); }\n",
       "    "
      ],
      "text/plain": [
       "<IPython.core.display.Javascript object>"
      ]
     },
     "metadata": {},
     "output_type": "display_data"
    },
    {
     "name": "stdout",
     "output_type": "stream",
     "text": [
      "Best: 0.9002235319292985 using {'class_weight': {0: 1, 1: 3}}\n",
      "0.9002235319292985 (0.00808460058650191) with: {'class_weight': {0: 1, 1: 3}}\n",
      "0.9001656297971846 (0.0081024044265105) with: {'class_weight': {0: 1, 1: 4}}\n",
      "0.9001380246220133 (0.008089700425484568) with: {'class_weight': {0: 0.2, 1: 0.8}}\n",
      "0.9002092412884574 (0.008074294631836268) with: {'class_weight': {0: 0.25, 1: 0.75}}\n",
      "0.8997951261316213 (0.008180249798318552) with: {'class_weight': {0: 1, 1: 10}}\n"
     ]
    }
   ],
   "source": [
    "model = LogisticRegression()\n",
    "\n",
    "class_weights_cv = [{0:1,1:3}, {0:1,1:4}, {0: 0.2, 1: 0.8}, {0:.25,1:.75}, {0:1,1:10}]\n",
    "param_grid = dict(class_weight = class_weights_cv)\n",
    "cv = RepeatedStratifiedKFold(n_splits = 10, n_repeats = 3, random_state = 1)\n",
    "grid = GridSearchCV(estimator = model, param_grid = param_grid, n_jobs=-1, cv=cv, scoring='roc_auc')\n",
    "grid_result = grid.fit(X, y)\n",
    "\n",
    "print(f'Best: {grid_result.best_score_} using {grid_result.best_params_}')\n",
    "# report all configurations\n",
    "means = grid_result.cv_results_['mean_test_score']\n",
    "stds = grid_result.cv_results_['std_test_score']\n",
    "params = grid_result.cv_results_['params']\n",
    "for mean, stdev, param in zip(means, stds, params):\n",
    "    print(f'{mean} ({stdev}) with: {param}')"
   ]
  },
  {
   "cell_type": "code",
   "execution_count": 53,
   "id": "ae11b35f",
   "metadata": {},
   "outputs": [
    {
     "name": "stdout",
     "output_type": "stream",
     "text": [
      "logistic regression score: 0.8079354125946082\n",
      "\n"
     ]
    }
   ],
   "source": [
    "class_weights = grid_result.best_params_['class_weight']\n",
    "log_reg = linear_model.LogisticRegression(C = 0.01, penalty = 'l2', class_weight = class_weights)\n",
    "log_reg.fit(X_train, y_train)\n",
    "scores = cross_val_score(log_reg, X, y)\n",
    "print(f'logistic regression score: {scores.mean()}\\n') "
   ]
  },
  {
   "cell_type": "code",
   "execution_count": 54,
   "id": "5d97552a",
   "metadata": {},
   "outputs": [
    {
     "name": "stdout",
     "output_type": "stream",
     "text": [
      "Accuracy (logistic Regression) =  81.56%\n"
     ]
    }
   ],
   "source": [
    "y_pred = log_reg.predict_proba(X_test,)[:, 1] \n",
    "acc_lg = metrics.accuracy_score(y_test, np.where(y_pred > 0.5, 1, 0))\n",
    "print(f'Accuracy (logistic Regression) = {acc_lg * 100: .2f}%')"
   ]
  },
  {
   "cell_type": "code",
   "execution_count": 55,
   "id": "a9e5b970",
   "metadata": {},
   "outputs": [
    {
     "data": {
      "image/png": "[encoded data removed]",
      "text/plain": [
       "<Figure size 640x480 with 1 Axes>"
      ]
     },
     "metadata": {},
     "output_type": "display_data"
    }
   ],
   "source": [
    "auc_curve(y_test, y_pred)"
   ]
  },
  {
   "cell_type": "code",
   "execution_count": 56,
   "id": "6e259d3d",
   "metadata": {},
   "outputs": [
    {
     "data": {
      "image/png": "[encoded data removed]",
      "text/plain": [
       "<Figure size 640x480 with 1 Axes>"
      ]
     },
     "metadata": {},
     "output_type": "display_data"
    },
    {
     "name": "stdout",
     "output_type": "stream",
     "text": [
      "Percentage: 94.09%\n",
      "\n",
      "    Interpret this percentage as follows:\n",
      "    \n",
      "    1. Less than 60%: Useless Model\n",
      "    2. 60% - 70%: Poor Model\n",
      "    3. 70% - 80%: Good Model\n",
      "    4. 80% - 90%: Very Good Model\n",
      "    5. More than 90%: Too Good to be True.\n",
      "\n",
      "    In the fifth case, one must always check for overfitting.\n",
      "    \n"
     ]
    }
   ],
   "source": [
    "cap_curve(y_test, y_pred)"
   ]
  },
  {
   "cell_type": "code",
   "execution_count": 57,
   "id": "df0dd052",
   "metadata": {},
   "outputs": [
    {
     "data": {
      "image/png": "[encoded data removed]",
      "text/plain": [
       "<Figure size 700x500 with 2 Axes>"
      ]
     },
     "metadata": {},
     "output_type": "display_data"
    }
   ],
   "source": [
    "cm = confusion_matrix(y_test, np.where(y_pred > 0.5, 1, 0), labels = [1, 0])\n",
    "cm_df = pd.DataFrame(cm, index = [1, 0], columns = ['Predict 1', 'Predict 0'])\n",
    "\n",
    "plt.figure(figsize = (7, 5))\n",
    "sns.heatmap(cm_df, annot = True, fmt = 'g')\n",
    "plt.ylabel('Actual')\n",
    "plt.show()"
   ]
  },
  {
   "cell_type": "code",
   "execution_count": null,
   "id": "6d1cc3fb",
   "metadata": {},
   "outputs": [],
   "source": []
  }
 ],
 "metadata": {
  "kernelspec": {
   "display_name": "Python 3 (ipykernel)",
   "language": "python",
   "name": "python3"
  },
  "language_info": {
   "codemirror_mode": {
    "name": "ipython",
    "version": 3
   },
   "file_extension": ".py",
   "mimetype": "text/x-python",
   "name": "python",
   "nbconvert_exporter": "python",
   "pygments_lexer": "ipython3",
   "version": "3.9.17"
  }
 },
 "nbformat": 4,
 "nbformat_minor": 5
}
