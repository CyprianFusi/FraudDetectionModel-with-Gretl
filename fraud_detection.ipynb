{
 "cells": [
  {
   "cell_type": "markdown",
   "id": "dd655665",
   "metadata": {},
   "source": [
    "### Fraud Detection models\n",
    "In this notebook we train and compare two models to detect fraud in data:\n",
    "1. **Logistic Regression**  \n",
    "2. **AdaBoost Classifier** \n",
    "\n",
    "The accuracy of both the **Logistic Regression** and **AdaBoost Classifier** models using the test data are greater than **85%**!! This suggests that the model is **really good** but can further be improved by tuning some hyper-parameters.\n",
    "\n",
    "**The CAP curve analysis shows that that if 50% of the data is analysed without the model only 50% of the fraudulent cases would be discovered. But using the model, we would be able to identify more than 90% of the fraudulent cases in the same amount of data!!** \n",
    "\n",
    "#### Using the model: \n",
    "* the amount of **backlog** (incoming and unfinished work) would be **reduced significantly**, \n",
    "* the **amount of staff** needed to do the job would be **reduced drastically**, \n",
    "* the **processing time** would be **shortened significantly** and \n",
    "* **more cases of fraudulent transactions** would be tracked down in a given amount of data processed - **`more than 40% increase in effeciency!`**"
   ]
  },
  {
   "cell_type": "code",
   "execution_count": 1,
   "id": "5ebf98cb",
   "metadata": {},
   "outputs": [],
   "source": [
    "import pandas as pd\n",
    "import numpy as np\n",
    "import matplotlib.pyplot as plt\n",
    "import seaborn as sns\n",
    "from scipy import stats\n",
    "from scipy.stats import zscore\n",
    "from statsmodels.formula.api import ols\n",
    "from sklearn import metrics, linear_model, preprocessing\n",
    "from sklearn.model_selection import train_test_split, cross_val_score\n",
    "from sklearn.ensemble import AdaBoostClassifier, RandomForestClassifier\n",
    "from sklearn.feature_selection import SelectKBest, f_regression, chi2\n",
    "from sklearn.feature_selection import VarianceThreshold, SelectFromModel, f_classif\n",
    "from sklearn.metrics import roc_curve, auc, confusion_matrix\n",
    "from classification_evaluation import cap_curve\n",
    "\n",
    "%matplotlib inline"
   ]
  },
  {
   "cell_type": "markdown",
   "id": "91795788",
   "metadata": {},
   "source": [
    "#### Read the data `FraudDetection.xlsx` into a DataFrame "
   ]
  },
  {
   "cell_type": "code",
   "execution_count": 2,
   "id": "b67b4898",
   "metadata": {},
   "outputs": [
    {
     "name": "stdout",
     "output_type": "stream",
     "text": [
      "(16281, 15)\n"
     ]
    },
    {
     "data": {
      "text/html": [
       "<div>\n",
       "<style scoped>\n",
       "    .dataframe tbody tr th:only-of-type {\n",
       "        vertical-align: middle;\n",
       "    }\n",
       "\n",
       "    .dataframe tbody tr th {\n",
       "        vertical-align: top;\n",
       "    }\n",
       "\n",
       "    .dataframe thead th {\n",
       "        text-align: right;\n",
       "    }\n",
       "</style>\n",
       "<table border=\"1\" class=\"dataframe\">\n",
       "  <thead>\n",
       "    <tr style=\"text-align: right;\">\n",
       "      <th></th>\n",
       "      <th>Transaction_ID</th>\n",
       "      <th>Card Tenure_months</th>\n",
       "      <th>WebsiteRegion</th>\n",
       "      <th>Trans_value</th>\n",
       "      <th>Seller_Category</th>\n",
       "      <th>Items_transaction</th>\n",
       "      <th>Shipping_Address</th>\n",
       "      <th>Purchase_Category</th>\n",
       "      <th>Othercard_owner</th>\n",
       "      <th>Seller_way</th>\n",
       "      <th>LastTransaction</th>\n",
       "      <th>Lastflagedvalue</th>\n",
       "      <th>LastMonthsTrans_Freq</th>\n",
       "      <th>Countryissuedcard</th>\n",
       "      <th>Fraud_Detected</th>\n",
       "    </tr>\n",
       "  </thead>\n",
       "  <tbody>\n",
       "    <tr>\n",
       "      <th>0</th>\n",
       "      <td>1</td>\n",
       "      <td>25</td>\n",
       "      <td>US</td>\n",
       "      <td>256.41</td>\n",
       "      <td>Store + online</td>\n",
       "      <td>10</td>\n",
       "      <td>US</td>\n",
       "      <td>online services</td>\n",
       "      <td>Dependent</td>\n",
       "      <td>Yes</td>\n",
       "      <td>0</td>\n",
       "      <td>0</td>\n",
       "      <td>40</td>\n",
       "      <td>United-States</td>\n",
       "      <td>No</td>\n",
       "    </tr>\n",
       "    <tr>\n",
       "      <th>1</th>\n",
       "      <td>2</td>\n",
       "      <td>38</td>\n",
       "      <td>US</td>\n",
       "      <td>409.54</td>\n",
       "      <td>Online only</td>\n",
       "      <td>8</td>\n",
       "      <td>International</td>\n",
       "      <td>Accessories</td>\n",
       "      <td>Husband</td>\n",
       "      <td>Yes</td>\n",
       "      <td>0</td>\n",
       "      <td>0</td>\n",
       "      <td>50</td>\n",
       "      <td>United-States</td>\n",
       "      <td>No</td>\n",
       "    </tr>\n",
       "    <tr>\n",
       "      <th>2</th>\n",
       "      <td>3</td>\n",
       "      <td>28</td>\n",
       "      <td>EU</td>\n",
       "      <td>293.09</td>\n",
       "      <td>Online only</td>\n",
       "      <td>5</td>\n",
       "      <td>International</td>\n",
       "      <td>Electornics</td>\n",
       "      <td>Husband</td>\n",
       "      <td>Yes</td>\n",
       "      <td>0</td>\n",
       "      <td>0</td>\n",
       "      <td>40</td>\n",
       "      <td>United-States</td>\n",
       "      <td>Yes</td>\n",
       "    </tr>\n",
       "    <tr>\n",
       "      <th>3</th>\n",
       "      <td>4</td>\n",
       "      <td>44</td>\n",
       "      <td>US</td>\n",
       "      <td>444.07</td>\n",
       "      <td>Online only</td>\n",
       "      <td>7</td>\n",
       "      <td>International</td>\n",
       "      <td>online services</td>\n",
       "      <td>Husband</td>\n",
       "      <td>Yes</td>\n",
       "      <td>7688</td>\n",
       "      <td>0</td>\n",
       "      <td>40</td>\n",
       "      <td>United-States</td>\n",
       "      <td>Yes</td>\n",
       "    </tr>\n",
       "    <tr>\n",
       "      <th>4</th>\n",
       "      <td>5</td>\n",
       "      <td>18</td>\n",
       "      <td>EU</td>\n",
       "      <td>183.11</td>\n",
       "      <td>Online only</td>\n",
       "      <td>7</td>\n",
       "      <td>US</td>\n",
       "      <td>Food</td>\n",
       "      <td>Dependent</td>\n",
       "      <td>No</td>\n",
       "      <td>0</td>\n",
       "      <td>0</td>\n",
       "      <td>30</td>\n",
       "      <td>United-States</td>\n",
       "      <td>No</td>\n",
       "    </tr>\n",
       "  </tbody>\n",
       "</table>\n",
       "</div>"
      ],
      "text/plain": [
       "   Transaction_ID  Card Tenure_months WebsiteRegion  Trans_value  \\\n",
       "0               1                  25            US       256.41   \n",
       "1               2                  38            US       409.54   \n",
       "2               3                  28            EU       293.09   \n",
       "3               4                  44            US       444.07   \n",
       "4               5                  18            EU       183.11   \n",
       "\n",
       "  Seller_Category  Items_transaction Shipping_Address Purchase_Category  \\\n",
       "0  Store + online                 10               US   online services   \n",
       "1     Online only                  8    International       Accessories   \n",
       "2     Online only                  5    International       Electornics   \n",
       "3     Online only                  7    International   online services   \n",
       "4     Online only                  7               US              Food   \n",
       "\n",
       "  Othercard_owner Seller_way  LastTransaction  Lastflagedvalue  \\\n",
       "0       Dependent        Yes                0                0   \n",
       "1         Husband        Yes                0                0   \n",
       "2         Husband        Yes                0                0   \n",
       "3         Husband        Yes             7688                0   \n",
       "4       Dependent         No                0                0   \n",
       "\n",
       "   LastMonthsTrans_Freq Countryissuedcard Fraud_Detected  \n",
       "0                    40     United-States             No  \n",
       "1                    50     United-States             No  \n",
       "2                    40     United-States            Yes  \n",
       "3                    40     United-States            Yes  \n",
       "4                    30     United-States             No  "
      ]
     },
     "execution_count": 2,
     "metadata": {},
     "output_type": "execute_result"
    }
   ],
   "source": [
    "df = pd.read_excel('./data/FraudDetection.xlsx', na_values = 'NA')\n",
    "print(df.shape)\n",
    "df.head()"
   ]
  },
  {
   "cell_type": "markdown",
   "id": "08fc345e",
   "metadata": {},
   "source": [
    "#### Any missing values?"
   ]
  },
  {
   "cell_type": "code",
   "execution_count": 3,
   "id": "fe31ce8c",
   "metadata": {},
   "outputs": [
    {
     "name": "stdout",
     "output_type": "stream",
     "text": [
      "Othercard_owner    6482\n",
      "dtype: int64\n"
     ]
    }
   ],
   "source": [
    "z = df.isnull().sum()\n",
    "print(z[z > 0])"
   ]
  },
  {
   "cell_type": "markdown",
   "id": "ada2637f",
   "metadata": {},
   "source": [
    "#### Change column names `Transaction_ID` to `ID` and `Fraud_Detected` to `target`."
   ]
  },
  {
   "cell_type": "code",
   "execution_count": 4,
   "id": "7890ff43",
   "metadata": {},
   "outputs": [
    {
     "data": {
      "text/html": [
       "<div>\n",
       "<style scoped>\n",
       "    .dataframe tbody tr th:only-of-type {\n",
       "        vertical-align: middle;\n",
       "    }\n",
       "\n",
       "    .dataframe tbody tr th {\n",
       "        vertical-align: top;\n",
       "    }\n",
       "\n",
       "    .dataframe thead th {\n",
       "        text-align: right;\n",
       "    }\n",
       "</style>\n",
       "<table border=\"1\" class=\"dataframe\">\n",
       "  <thead>\n",
       "    <tr style=\"text-align: right;\">\n",
       "      <th></th>\n",
       "      <th>ID</th>\n",
       "      <th>Card Tenure_months</th>\n",
       "      <th>WebsiteRegion</th>\n",
       "      <th>Trans_value</th>\n",
       "      <th>Seller_Category</th>\n",
       "      <th>Items_transaction</th>\n",
       "      <th>Shipping_Address</th>\n",
       "      <th>Purchase_Category</th>\n",
       "      <th>Othercard_owner</th>\n",
       "      <th>Seller_way</th>\n",
       "      <th>LastTransaction</th>\n",
       "      <th>Lastflagedvalue</th>\n",
       "      <th>LastMonthsTrans_Freq</th>\n",
       "      <th>Countryissuedcard</th>\n",
       "      <th>target</th>\n",
       "    </tr>\n",
       "  </thead>\n",
       "  <tbody>\n",
       "    <tr>\n",
       "      <th>0</th>\n",
       "      <td>1</td>\n",
       "      <td>25</td>\n",
       "      <td>US</td>\n",
       "      <td>256.41</td>\n",
       "      <td>Store + online</td>\n",
       "      <td>10</td>\n",
       "      <td>US</td>\n",
       "      <td>online services</td>\n",
       "      <td>Dependent</td>\n",
       "      <td>Yes</td>\n",
       "      <td>0</td>\n",
       "      <td>0</td>\n",
       "      <td>40</td>\n",
       "      <td>United-States</td>\n",
       "      <td>No</td>\n",
       "    </tr>\n",
       "    <tr>\n",
       "      <th>1</th>\n",
       "      <td>2</td>\n",
       "      <td>38</td>\n",
       "      <td>US</td>\n",
       "      <td>409.54</td>\n",
       "      <td>Online only</td>\n",
       "      <td>8</td>\n",
       "      <td>International</td>\n",
       "      <td>Accessories</td>\n",
       "      <td>Husband</td>\n",
       "      <td>Yes</td>\n",
       "      <td>0</td>\n",
       "      <td>0</td>\n",
       "      <td>50</td>\n",
       "      <td>United-States</td>\n",
       "      <td>No</td>\n",
       "    </tr>\n",
       "    <tr>\n",
       "      <th>2</th>\n",
       "      <td>3</td>\n",
       "      <td>28</td>\n",
       "      <td>EU</td>\n",
       "      <td>293.09</td>\n",
       "      <td>Online only</td>\n",
       "      <td>5</td>\n",
       "      <td>International</td>\n",
       "      <td>Electornics</td>\n",
       "      <td>Husband</td>\n",
       "      <td>Yes</td>\n",
       "      <td>0</td>\n",
       "      <td>0</td>\n",
       "      <td>40</td>\n",
       "      <td>United-States</td>\n",
       "      <td>Yes</td>\n",
       "    </tr>\n",
       "    <tr>\n",
       "      <th>3</th>\n",
       "      <td>4</td>\n",
       "      <td>44</td>\n",
       "      <td>US</td>\n",
       "      <td>444.07</td>\n",
       "      <td>Online only</td>\n",
       "      <td>7</td>\n",
       "      <td>International</td>\n",
       "      <td>online services</td>\n",
       "      <td>Husband</td>\n",
       "      <td>Yes</td>\n",
       "      <td>7688</td>\n",
       "      <td>0</td>\n",
       "      <td>40</td>\n",
       "      <td>United-States</td>\n",
       "      <td>Yes</td>\n",
       "    </tr>\n",
       "    <tr>\n",
       "      <th>4</th>\n",
       "      <td>5</td>\n",
       "      <td>18</td>\n",
       "      <td>EU</td>\n",
       "      <td>183.11</td>\n",
       "      <td>Online only</td>\n",
       "      <td>7</td>\n",
       "      <td>US</td>\n",
       "      <td>Food</td>\n",
       "      <td>Dependent</td>\n",
       "      <td>No</td>\n",
       "      <td>0</td>\n",
       "      <td>0</td>\n",
       "      <td>30</td>\n",
       "      <td>United-States</td>\n",
       "      <td>No</td>\n",
       "    </tr>\n",
       "  </tbody>\n",
       "</table>\n",
       "</div>"
      ],
      "text/plain": [
       "   ID  Card Tenure_months WebsiteRegion  Trans_value Seller_Category  \\\n",
       "0   1                  25            US       256.41  Store + online   \n",
       "1   2                  38            US       409.54     Online only   \n",
       "2   3                  28            EU       293.09     Online only   \n",
       "3   4                  44            US       444.07     Online only   \n",
       "4   5                  18            EU       183.11     Online only   \n",
       "\n",
       "   Items_transaction Shipping_Address Purchase_Category Othercard_owner  \\\n",
       "0                 10               US   online services       Dependent   \n",
       "1                  8    International       Accessories         Husband   \n",
       "2                  5    International       Electornics         Husband   \n",
       "3                  7    International   online services         Husband   \n",
       "4                  7               US              Food       Dependent   \n",
       "\n",
       "  Seller_way  LastTransaction  Lastflagedvalue  LastMonthsTrans_Freq  \\\n",
       "0        Yes                0                0                    40   \n",
       "1        Yes                0                0                    50   \n",
       "2        Yes                0                0                    40   \n",
       "3        Yes             7688                0                    40   \n",
       "4         No                0                0                    30   \n",
       "\n",
       "  Countryissuedcard target  \n",
       "0     United-States     No  \n",
       "1     United-States     No  \n",
       "2     United-States    Yes  \n",
       "3     United-States    Yes  \n",
       "4     United-States     No  "
      ]
     },
     "execution_count": 4,
     "metadata": {},
     "output_type": "execute_result"
    }
   ],
   "source": [
    "df_new = df.copy()\n",
    "df_new.rename(columns = {'Transaction_ID': 'ID', 'Fraud_Detected': 'target'}, inplace = True)\n",
    "df_new.head()"
   ]
  },
  {
   "cell_type": "markdown",
   "id": "668edc08",
   "metadata": {},
   "source": [
    "##### Convert the 'target' into binary `Yes/No = 1/0`"
   ]
  },
  {
   "cell_type": "code",
   "execution_count": 5,
   "id": "ec80e85a",
   "metadata": {},
   "outputs": [
    {
     "data": {
      "text/html": [
       "<div>\n",
       "<style scoped>\n",
       "    .dataframe tbody tr th:only-of-type {\n",
       "        vertical-align: middle;\n",
       "    }\n",
       "\n",
       "    .dataframe tbody tr th {\n",
       "        vertical-align: top;\n",
       "    }\n",
       "\n",
       "    .dataframe thead th {\n",
       "        text-align: right;\n",
       "    }\n",
       "</style>\n",
       "<table border=\"1\" class=\"dataframe\">\n",
       "  <thead>\n",
       "    <tr style=\"text-align: right;\">\n",
       "      <th></th>\n",
       "      <th>ID</th>\n",
       "      <th>Card Tenure_months</th>\n",
       "      <th>WebsiteRegion</th>\n",
       "      <th>Trans_value</th>\n",
       "      <th>Seller_Category</th>\n",
       "      <th>Items_transaction</th>\n",
       "      <th>Shipping_Address</th>\n",
       "      <th>Purchase_Category</th>\n",
       "      <th>Othercard_owner</th>\n",
       "      <th>Seller_way</th>\n",
       "      <th>LastTransaction</th>\n",
       "      <th>Lastflagedvalue</th>\n",
       "      <th>LastMonthsTrans_Freq</th>\n",
       "      <th>Countryissuedcard</th>\n",
       "      <th>target</th>\n",
       "      <th>Y</th>\n",
       "    </tr>\n",
       "  </thead>\n",
       "  <tbody>\n",
       "    <tr>\n",
       "      <th>0</th>\n",
       "      <td>1</td>\n",
       "      <td>25</td>\n",
       "      <td>US</td>\n",
       "      <td>256.41</td>\n",
       "      <td>Store + online</td>\n",
       "      <td>10</td>\n",
       "      <td>US</td>\n",
       "      <td>online services</td>\n",
       "      <td>Dependent</td>\n",
       "      <td>Yes</td>\n",
       "      <td>0</td>\n",
       "      <td>0</td>\n",
       "      <td>40</td>\n",
       "      <td>United-States</td>\n",
       "      <td>No</td>\n",
       "      <td>0</td>\n",
       "    </tr>\n",
       "    <tr>\n",
       "      <th>1</th>\n",
       "      <td>2</td>\n",
       "      <td>38</td>\n",
       "      <td>US</td>\n",
       "      <td>409.54</td>\n",
       "      <td>Online only</td>\n",
       "      <td>8</td>\n",
       "      <td>International</td>\n",
       "      <td>Accessories</td>\n",
       "      <td>Husband</td>\n",
       "      <td>Yes</td>\n",
       "      <td>0</td>\n",
       "      <td>0</td>\n",
       "      <td>50</td>\n",
       "      <td>United-States</td>\n",
       "      <td>No</td>\n",
       "      <td>0</td>\n",
       "    </tr>\n",
       "    <tr>\n",
       "      <th>2</th>\n",
       "      <td>3</td>\n",
       "      <td>28</td>\n",
       "      <td>EU</td>\n",
       "      <td>293.09</td>\n",
       "      <td>Online only</td>\n",
       "      <td>5</td>\n",
       "      <td>International</td>\n",
       "      <td>Electornics</td>\n",
       "      <td>Husband</td>\n",
       "      <td>Yes</td>\n",
       "      <td>0</td>\n",
       "      <td>0</td>\n",
       "      <td>40</td>\n",
       "      <td>United-States</td>\n",
       "      <td>Yes</td>\n",
       "      <td>1</td>\n",
       "    </tr>\n",
       "    <tr>\n",
       "      <th>3</th>\n",
       "      <td>4</td>\n",
       "      <td>44</td>\n",
       "      <td>US</td>\n",
       "      <td>444.07</td>\n",
       "      <td>Online only</td>\n",
       "      <td>7</td>\n",
       "      <td>International</td>\n",
       "      <td>online services</td>\n",
       "      <td>Husband</td>\n",
       "      <td>Yes</td>\n",
       "      <td>7688</td>\n",
       "      <td>0</td>\n",
       "      <td>40</td>\n",
       "      <td>United-States</td>\n",
       "      <td>Yes</td>\n",
       "      <td>1</td>\n",
       "    </tr>\n",
       "    <tr>\n",
       "      <th>4</th>\n",
       "      <td>5</td>\n",
       "      <td>18</td>\n",
       "      <td>EU</td>\n",
       "      <td>183.11</td>\n",
       "      <td>Online only</td>\n",
       "      <td>7</td>\n",
       "      <td>US</td>\n",
       "      <td>Food</td>\n",
       "      <td>Dependent</td>\n",
       "      <td>No</td>\n",
       "      <td>0</td>\n",
       "      <td>0</td>\n",
       "      <td>30</td>\n",
       "      <td>United-States</td>\n",
       "      <td>No</td>\n",
       "      <td>0</td>\n",
       "    </tr>\n",
       "  </tbody>\n",
       "</table>\n",
       "</div>"
      ],
      "text/plain": [
       "   ID  Card Tenure_months WebsiteRegion  Trans_value Seller_Category  \\\n",
       "0   1                  25            US       256.41  Store + online   \n",
       "1   2                  38            US       409.54     Online only   \n",
       "2   3                  28            EU       293.09     Online only   \n",
       "3   4                  44            US       444.07     Online only   \n",
       "4   5                  18            EU       183.11     Online only   \n",
       "\n",
       "   Items_transaction Shipping_Address Purchase_Category Othercard_owner  \\\n",
       "0                 10               US   online services       Dependent   \n",
       "1                  8    International       Accessories         Husband   \n",
       "2                  5    International       Electornics         Husband   \n",
       "3                  7    International   online services         Husband   \n",
       "4                  7               US              Food       Dependent   \n",
       "\n",
       "  Seller_way  LastTransaction  Lastflagedvalue  LastMonthsTrans_Freq  \\\n",
       "0        Yes                0                0                    40   \n",
       "1        Yes                0                0                    50   \n",
       "2        Yes                0                0                    40   \n",
       "3        Yes             7688                0                    40   \n",
       "4         No                0                0                    30   \n",
       "\n",
       "  Countryissuedcard target  Y  \n",
       "0     United-States     No  0  \n",
       "1     United-States     No  0  \n",
       "2     United-States    Yes  1  \n",
       "3     United-States    Yes  1  \n",
       "4     United-States     No  0  "
      ]
     },
     "execution_count": 5,
     "metadata": {},
     "output_type": "execute_result"
    }
   ],
   "source": [
    "df_new['Y'] = (df_new.target == 'Yes') + 0                 \n",
    "df_new.head()"
   ]
  },
  {
   "cell_type": "markdown",
   "id": "d5e81bfe",
   "metadata": {},
   "source": [
    "#### Data types of variables"
   ]
  },
  {
   "cell_type": "code",
   "execution_count": 6,
   "id": "4298899d",
   "metadata": {},
   "outputs": [
    {
     "name": "stdout",
     "output_type": "stream",
     "text": [
      "ID                        int64\n",
      "Card Tenure_months        int64\n",
      "WebsiteRegion            object\n",
      "Trans_value             float64\n",
      "Seller_Category          object\n",
      "Items_transaction         int64\n",
      "Shipping_Address         object\n",
      "Purchase_Category        object\n",
      "Othercard_owner          object\n",
      "Seller_way               object\n",
      "LastTransaction           int64\n",
      "Lastflagedvalue           int64\n",
      "LastMonthsTrans_Freq      int64\n",
      "Countryissuedcard        object\n",
      "target                   object\n",
      "Y                         int32\n",
      "dtype: object\n"
     ]
    }
   ],
   "source": [
    "print(df_new.dtypes)"
   ]
  },
  {
   "cell_type": "markdown",
   "id": "6a96148e",
   "metadata": {},
   "source": [
    "#### `char` variables in data "
   ]
  },
  {
   "cell_type": "code",
   "execution_count": 7,
   "id": "98720eba",
   "metadata": {},
   "outputs": [
    {
     "data": {
      "text/html": [
       "<div>\n",
       "<style scoped>\n",
       "    .dataframe tbody tr th:only-of-type {\n",
       "        vertical-align: middle;\n",
       "    }\n",
       "\n",
       "    .dataframe tbody tr th {\n",
       "        vertical-align: top;\n",
       "    }\n",
       "\n",
       "    .dataframe thead th {\n",
       "        text-align: right;\n",
       "    }\n",
       "</style>\n",
       "<table border=\"1\" class=\"dataframe\">\n",
       "  <thead>\n",
       "    <tr style=\"text-align: right;\">\n",
       "      <th></th>\n",
       "      <th>WebsiteRegion</th>\n",
       "      <th>Seller_Category</th>\n",
       "      <th>Shipping_Address</th>\n",
       "      <th>Purchase_Category</th>\n",
       "      <th>Othercard_owner</th>\n",
       "      <th>Seller_way</th>\n",
       "      <th>Countryissuedcard</th>\n",
       "      <th>target</th>\n",
       "    </tr>\n",
       "  </thead>\n",
       "  <tbody>\n",
       "    <tr>\n",
       "      <th>0</th>\n",
       "      <td>US</td>\n",
       "      <td>Store + online</td>\n",
       "      <td>US</td>\n",
       "      <td>online services</td>\n",
       "      <td>Dependent</td>\n",
       "      <td>Yes</td>\n",
       "      <td>United-States</td>\n",
       "      <td>No</td>\n",
       "    </tr>\n",
       "    <tr>\n",
       "      <th>1</th>\n",
       "      <td>US</td>\n",
       "      <td>Online only</td>\n",
       "      <td>International</td>\n",
       "      <td>Accessories</td>\n",
       "      <td>Husband</td>\n",
       "      <td>Yes</td>\n",
       "      <td>United-States</td>\n",
       "      <td>No</td>\n",
       "    </tr>\n",
       "    <tr>\n",
       "      <th>2</th>\n",
       "      <td>EU</td>\n",
       "      <td>Online only</td>\n",
       "      <td>International</td>\n",
       "      <td>Electornics</td>\n",
       "      <td>Husband</td>\n",
       "      <td>Yes</td>\n",
       "      <td>United-States</td>\n",
       "      <td>Yes</td>\n",
       "    </tr>\n",
       "    <tr>\n",
       "      <th>3</th>\n",
       "      <td>US</td>\n",
       "      <td>Online only</td>\n",
       "      <td>International</td>\n",
       "      <td>online services</td>\n",
       "      <td>Husband</td>\n",
       "      <td>Yes</td>\n",
       "      <td>United-States</td>\n",
       "      <td>Yes</td>\n",
       "    </tr>\n",
       "    <tr>\n",
       "      <th>4</th>\n",
       "      <td>EU</td>\n",
       "      <td>Online only</td>\n",
       "      <td>US</td>\n",
       "      <td>Food</td>\n",
       "      <td>Dependent</td>\n",
       "      <td>No</td>\n",
       "      <td>United-States</td>\n",
       "      <td>No</td>\n",
       "    </tr>\n",
       "  </tbody>\n",
       "</table>\n",
       "</div>"
      ],
      "text/plain": [
       "  WebsiteRegion Seller_Category Shipping_Address Purchase_Category  \\\n",
       "0            US  Store + online               US   online services   \n",
       "1            US     Online only    International       Accessories   \n",
       "2            EU     Online only    International       Electornics   \n",
       "3            US     Online only    International   online services   \n",
       "4            EU     Online only               US              Food   \n",
       "\n",
       "  Othercard_owner Seller_way Countryissuedcard target  \n",
       "0       Dependent        Yes     United-States     No  \n",
       "1         Husband        Yes     United-States     No  \n",
       "2         Husband        Yes     United-States    Yes  \n",
       "3         Husband        Yes     United-States    Yes  \n",
       "4       Dependent         No     United-States     No  "
      ]
     },
     "execution_count": 7,
     "metadata": {},
     "output_type": "execute_result"
    }
   ],
   "source": [
    "df_obj = df_new.select_dtypes(include = ['object'])\n",
    "df_obj.head()"
   ]
  },
  {
   "cell_type": "code",
   "execution_count": 8,
   "id": "b0a24edf",
   "metadata": {},
   "outputs": [
    {
     "name": "stdout",
     "output_type": "stream",
     "text": [
      "['WebsiteRegion', 'Seller_Category', 'Shipping_Address', 'Purchase_Category', 'Othercard_owner', 'Seller_way', 'Countryissuedcard', 'target']\n"
     ]
    }
   ],
   "source": [
    "char_variables = list(df_obj)\n",
    "print(char_variables)"
   ]
  },
  {
   "cell_type": "markdown",
   "id": "b508242a",
   "metadata": {},
   "source": [
    "### Selecting good predictors of the target using Chi-squared statistics\n",
    "* Check relationship between **'WebsiteRegion'** and **target** by first creating a **cross tab** showing frequency in each cell."
   ]
  },
  {
   "cell_type": "code",
   "execution_count": 9,
   "id": "829fbfa7",
   "metadata": {},
   "outputs": [
    {
     "data": {
      "text/html": [
       "<div>\n",
       "<style scoped>\n",
       "    .dataframe tbody tr th:only-of-type {\n",
       "        vertical-align: middle;\n",
       "    }\n",
       "\n",
       "    .dataframe tbody tr th {\n",
       "        vertical-align: top;\n",
       "    }\n",
       "\n",
       "    .dataframe thead th {\n",
       "        text-align: right;\n",
       "    }\n",
       "</style>\n",
       "<table border=\"1\" class=\"dataframe\">\n",
       "  <thead>\n",
       "    <tr style=\"text-align: right;\">\n",
       "      <th>target</th>\n",
       "      <th>No</th>\n",
       "      <th>Yes</th>\n",
       "    </tr>\n",
       "    <tr>\n",
       "      <th>WebsiteRegion</th>\n",
       "      <th></th>\n",
       "      <th></th>\n",
       "    </tr>\n",
       "  </thead>\n",
       "  <tbody>\n",
       "    <tr>\n",
       "      <th>EU</th>\n",
       "      <td>1625</td>\n",
       "      <td>384</td>\n",
       "    </tr>\n",
       "    <tr>\n",
       "      <th>Eastern Europe</th>\n",
       "      <td>793</td>\n",
       "      <td>369</td>\n",
       "    </tr>\n",
       "    <tr>\n",
       "      <th>US</th>\n",
       "      <td>9049</td>\n",
       "      <td>2740</td>\n",
       "    </tr>\n",
       "    <tr>\n",
       "      <th>Unclassified</th>\n",
       "      <td>968</td>\n",
       "      <td>353</td>\n",
       "    </tr>\n",
       "  </tbody>\n",
       "</table>\n",
       "</div>"
      ],
      "text/plain": [
       "target            No   Yes\n",
       "WebsiteRegion             \n",
       "EU              1625   384\n",
       "Eastern Europe   793   369\n",
       "US              9049  2740\n",
       "Unclassified     968   353"
      ]
     },
     "execution_count": 9,
     "metadata": {},
     "output_type": "execute_result"
    }
   ],
   "source": [
    "table = pd.crosstab(df_obj['WebsiteRegion'], df_obj['target'], margins = False)\n",
    "table"
   ]
  },
  {
   "cell_type": "markdown",
   "id": "b7bd3e14",
   "metadata": {},
   "source": [
    "Calculate **Chi-squared statistics, p value, degree of freedom, expected** and confirm if it looks like significant."
   ]
  },
  {
   "cell_type": "code",
   "execution_count": 10,
   "id": "e7195822",
   "metadata": {},
   "outputs": [
    {
     "name": "stdout",
     "output_type": "stream",
     "text": [
      "chi-square = 73.216\n",
      "pvalue = 0.0\n",
      "deg. of freedom(dof) = 3\n",
      "\n",
      "expected:\n",
      "[[1534.42141146  474.57858854]\n",
      " [ 887.50506726  274.49493274]\n",
      " [9004.12843191 2784.87156809]\n",
      " [1008.94508937  312.05491063]]\n"
     ]
    }
   ],
   "source": [
    "chi_square, p_value, dof, expected = stats.chi2_contingency(table)\n",
    "\n",
    "print(f'chi-square = {round(chi_square, 3)}')\n",
    "print(f'pvalue = {round(p_value, 3)}')\n",
    "print(f'deg. of freedom(dof) = {dof}\\n')\n",
    "print(f'expected:\\n{expected}')"
   ]
  },
  {
   "cell_type": "markdown",
   "id": "5009ad35",
   "metadata": {},
   "source": [
    "A large **chi-square = 73.216** and a very small **pvalue = 0.0 << 0.05** mean that the variable **'WebsiteRegion'**, is **correlated** with **'target'**. This means **'WebsiteRegion'** is a good predictor and can be used in the final model to predict the **'target'**.  \n",
    "\n",
    "#### Chi-squared statistics for all the character variables"
   ]
  },
  {
   "cell_type": "code",
   "execution_count": 11,
   "id": "ec23e33d",
   "metadata": {},
   "outputs": [
    {
     "name": "stdout",
     "output_type": "stream",
     "text": [
      "chi-squares:\n",
      "[73.216, 343.931, 3272.593, 1798.965, 1557.655, 729.93, 13.211]\n",
      "\n",
      "pvalues:\n",
      "[0.0, 0.0, 0.0, 0.0, 0.0, 0.0, 0.0]\n"
     ]
    }
   ],
   "source": [
    "chi_sqs = []\n",
    "pvals = []\n",
    "for var in char_variables[:-1]:\n",
    "    table = pd.crosstab(df_obj[var], df_obj['target'], margins = False)\n",
    "    chi_sq, p_value, dof, expected = stats.chi2_contingency(table)\n",
    "    chi_sqs.append(round(chi_sq, 3))\n",
    "    pvals.append(round(p_value, 3))\n",
    "    \n",
    "print(f'chi-squares:\\n{chi_sqs}\\n')\n",
    "print(f'pvalues:\\n{pvals}')"
   ]
  },
  {
   "cell_type": "markdown",
   "id": "ab4755d0",
   "metadata": {},
   "source": [
    "All the **chi-square statistics** are relatively large enough and the all **pvalues are less than 0.05**. This suggests that all the variables are **correlated with the target**. These variables can therefore be included in the final model to predict the target.\n",
    "\n",
    "### Levels for each categorical variable \n",
    "* The number of dummy variables will depend on the number of levels of each categorical variable."
   ]
  },
  {
   "cell_type": "code",
   "execution_count": 12,
   "id": "efbd1756",
   "metadata": {},
   "outputs": [
    {
     "name": "stdout",
     "output_type": "stream",
     "text": [
      "Levels of WebsiteRegion is ['US', 'EU', 'Unclassified', 'Eastern Europe']\n",
      "Number of levels for WebsiteRegion is 4\n",
      "\n",
      "Levels of Seller_Category is ['Store + online', 'Online only']\n",
      "Number of levels for Seller_Category is 2\n",
      "\n",
      "Levels of Shipping_Address is ['US', 'International', 'Canada']\n",
      "Number of levels for Shipping_Address is 3\n",
      "\n",
      "Levels of Purchase_Category is ['online services', 'Accessories', 'Electornics', 'Food', 'Books', 'Paying bills', 'Tickets - flights']\n",
      "Number of levels for Purchase_Category is 7\n",
      "\n",
      "Levels of Othercard_owner is ['Dependent', 'Husband', nan, 'Wife']\n",
      "Number of levels for Othercard_owner is 4\n",
      "\n",
      "Levels of Seller_way is ['Yes', 'No']\n",
      "Number of levels for Seller_way is 2\n",
      "\n",
      "Levels of Countryissuedcard is ['United-States', 'Other']\n",
      "Number of levels for Countryissuedcard is 2\n",
      "\n"
     ]
    }
   ],
   "source": [
    "for var in char_variables[:-1]:\n",
    "            varnames = list(df_obj[var].unique())\n",
    "            print(f'Levels of {var} is {varnames}')\n",
    "            print(f'Number of levels for {var} is {len(varnames)}\\n') "
   ]
  },
  {
   "cell_type": "markdown",
   "id": "d31c426e",
   "metadata": {},
   "source": [
    "### Value Counts for each level of each CHAR feature in the data frame"
   ]
  },
  {
   "cell_type": "code",
   "execution_count": 13,
   "id": "8fdc9f83",
   "metadata": {},
   "outputs": [
    {
     "name": "stdout",
     "output_type": "stream",
     "text": [
      "Number of observations for each level of \"WebsiteRegion\": \n",
      "WebsiteRegion\n",
      "US                11789\n",
      "EU                 2009\n",
      "Unclassified       1321\n",
      "Eastern Europe     1162\n",
      "Name: count, dtype: int64\n",
      "\n",
      "Number of observations for each level of \"Seller_Category\": \n",
      "Seller_Category\n",
      "Online only       13479\n",
      "Store + online     2802\n",
      "Name: count, dtype: int64\n",
      "\n",
      "Number of observations for each level of \"Shipping_Address\": \n",
      "Shipping_Address\n",
      "US               7834\n",
      "International    7417\n",
      "Canada           1030\n",
      "Name: count, dtype: int64\n",
      "\n",
      "Number of observations for each level of \"Purchase_Category\": \n",
      "Purchase_Category\n",
      "Accessories          3211\n",
      "Food                 2813\n",
      "online services      2741\n",
      "Paying bills         2372\n",
      "Electornics          2366\n",
      "Books                2020\n",
      "Tickets - flights     758\n",
      "Name: count, dtype: int64\n",
      "\n",
      "Number of observations for each level of \"Othercard_owner\": \n",
      "Othercard_owner\n",
      "Husband      6523\n",
      "Dependent    2513\n",
      "Wife          763\n",
      "Name: count, dtype: int64\n",
      "\n",
      "Number of observations for each level of \"Seller_way\": \n",
      "Seller_way\n",
      "Yes    10860\n",
      "No      5421\n",
      "Name: count, dtype: int64\n",
      "\n",
      "Number of observations for each level of \"Countryissuedcard\": \n",
      "Countryissuedcard\n",
      "United-States    14662\n",
      "Other             1619\n",
      "Name: count, dtype: int64\n",
      "\n"
     ]
    }
   ],
   "source": [
    "for var in char_variables[:-1]:\n",
    "    print(f'Number of observations for each level of \"{var}\": \\n{df_obj[var].value_counts()}\\n')"
   ]
  },
  {
   "cell_type": "markdown",
   "id": "a5c69d54",
   "metadata": {},
   "source": [
    "### Feature engineering \n",
    "Create dummy variables for each categorical variable in data frame."
   ]
  },
  {
   "cell_type": "code",
   "execution_count": 14,
   "id": "e07c96a9",
   "metadata": {},
   "outputs": [],
   "source": [
    "import warnings\n",
    "warnings.filterwarnings('ignore')"
   ]
  },
  {
   "cell_type": "markdown",
   "id": "f0c492fc",
   "metadata": {},
   "source": [
    "The variable **'WebsiteRegion'** and **'Shipping_Address'** for example have similar categories like **US**. In order to make sure that **no two categorical variables** will have the **same header for different dummies** we will add prefixes as below. "
   ]
  },
  {
   "cell_type": "code",
   "execution_count": 15,
   "id": "db82646e",
   "metadata": {},
   "outputs": [
    {
     "data": {
      "text/html": [
       "<div>\n",
       "<style scoped>\n",
       "    .dataframe tbody tr th:only-of-type {\n",
       "        vertical-align: middle;\n",
       "    }\n",
       "\n",
       "    .dataframe tbody tr th {\n",
       "        vertical-align: top;\n",
       "    }\n",
       "\n",
       "    .dataframe thead th {\n",
       "        text-align: right;\n",
       "    }\n",
       "</style>\n",
       "<table border=\"1\" class=\"dataframe\">\n",
       "  <thead>\n",
       "    <tr style=\"text-align: right;\">\n",
       "      <th></th>\n",
       "      <th>WebsiteRegion</th>\n",
       "      <th>Seller_Category</th>\n",
       "      <th>Shipping_Address</th>\n",
       "      <th>Purchase_Category</th>\n",
       "      <th>Othercard_owner</th>\n",
       "      <th>Seller_way</th>\n",
       "      <th>Countryissuedcard</th>\n",
       "      <th>target</th>\n",
       "    </tr>\n",
       "  </thead>\n",
       "  <tbody>\n",
       "    <tr>\n",
       "      <th>0</th>\n",
       "      <td>US_WE1</td>\n",
       "      <td>Store + online_SC2</td>\n",
       "      <td>US_SA3</td>\n",
       "      <td>online services_PC4</td>\n",
       "      <td>Dependent_OO5</td>\n",
       "      <td>Yes_SW6</td>\n",
       "      <td>United-States_CO7</td>\n",
       "      <td>No</td>\n",
       "    </tr>\n",
       "    <tr>\n",
       "      <th>1</th>\n",
       "      <td>US_WE1</td>\n",
       "      <td>Online only_SC2</td>\n",
       "      <td>International_SA3</td>\n",
       "      <td>Accessories_PC4</td>\n",
       "      <td>Husband_OO5</td>\n",
       "      <td>Yes_SW6</td>\n",
       "      <td>United-States_CO7</td>\n",
       "      <td>No</td>\n",
       "    </tr>\n",
       "    <tr>\n",
       "      <th>2</th>\n",
       "      <td>EU_WE1</td>\n",
       "      <td>Online only_SC2</td>\n",
       "      <td>International_SA3</td>\n",
       "      <td>Electornics_PC4</td>\n",
       "      <td>Husband_OO5</td>\n",
       "      <td>Yes_SW6</td>\n",
       "      <td>United-States_CO7</td>\n",
       "      <td>Yes</td>\n",
       "    </tr>\n",
       "    <tr>\n",
       "      <th>3</th>\n",
       "      <td>US_WE1</td>\n",
       "      <td>Online only_SC2</td>\n",
       "      <td>International_SA3</td>\n",
       "      <td>online services_PC4</td>\n",
       "      <td>Husband_OO5</td>\n",
       "      <td>Yes_SW6</td>\n",
       "      <td>United-States_CO7</td>\n",
       "      <td>Yes</td>\n",
       "    </tr>\n",
       "    <tr>\n",
       "      <th>4</th>\n",
       "      <td>EU_WE1</td>\n",
       "      <td>Online only_SC2</td>\n",
       "      <td>US_SA3</td>\n",
       "      <td>Food_PC4</td>\n",
       "      <td>Dependent_OO5</td>\n",
       "      <td>No_SW6</td>\n",
       "      <td>United-States_CO7</td>\n",
       "      <td>No</td>\n",
       "    </tr>\n",
       "  </tbody>\n",
       "</table>\n",
       "</div>"
      ],
      "text/plain": [
       "  WebsiteRegion     Seller_Category   Shipping_Address    Purchase_Category  \\\n",
       "0        US_WE1  Store + online_SC2             US_SA3  online services_PC4   \n",
       "1        US_WE1     Online only_SC2  International_SA3      Accessories_PC4   \n",
       "2        EU_WE1     Online only_SC2  International_SA3      Electornics_PC4   \n",
       "3        US_WE1     Online only_SC2  International_SA3  online services_PC4   \n",
       "4        EU_WE1     Online only_SC2             US_SA3             Food_PC4   \n",
       "\n",
       "  Othercard_owner Seller_way  Countryissuedcard target  \n",
       "0   Dependent_OO5    Yes_SW6  United-States_CO7     No  \n",
       "1     Husband_OO5    Yes_SW6  United-States_CO7     No  \n",
       "2     Husband_OO5    Yes_SW6  United-States_CO7    Yes  \n",
       "3     Husband_OO5    Yes_SW6  United-States_CO7    Yes  \n",
       "4   Dependent_OO5     No_SW6  United-States_CO7     No  "
      ]
     },
     "execution_count": 15,
     "metadata": {},
     "output_type": "execute_result"
    }
   ],
   "source": [
    "df_obj['WebsiteRegion'] = df_obj.WebsiteRegion + \"_WE1\"         \n",
    "df_obj['Seller_Category'] = df_obj.Seller_Category + \"_SC2\"     \n",
    "df_obj['Shipping_Address'] = df_obj.Shipping_Address + \"_SA3\"\n",
    "df_obj['Purchase_Category'] = df_obj.Purchase_Category + \"_PC4\"\n",
    "df_obj['Othercard_owner'] = df_obj.Othercard_owner + \"_OO5\"\n",
    "df_obj['Seller_way'] = df_obj.Seller_way +\"_SW6\"\n",
    "df_obj['Countryissuedcard'] = df_obj.Countryissuedcard + \"_CO7\"\n",
    "\n",
    "df_obj.head()"
   ]
  },
  {
   "cell_type": "markdown",
   "id": "c16442f7",
   "metadata": {},
   "source": [
    "### Numeric Features in DataFrame"
   ]
  },
  {
   "cell_type": "code",
   "execution_count": 16,
   "id": "378b84e7",
   "metadata": {},
   "outputs": [
    {
     "data": {
      "text/html": [
       "<div>\n",
       "<style scoped>\n",
       "    .dataframe tbody tr th:only-of-type {\n",
       "        vertical-align: middle;\n",
       "    }\n",
       "\n",
       "    .dataframe tbody tr th {\n",
       "        vertical-align: top;\n",
       "    }\n",
       "\n",
       "    .dataframe thead th {\n",
       "        text-align: right;\n",
       "    }\n",
       "</style>\n",
       "<table border=\"1\" class=\"dataframe\">\n",
       "  <thead>\n",
       "    <tr style=\"text-align: right;\">\n",
       "      <th></th>\n",
       "      <th>ID</th>\n",
       "      <th>Card Tenure_months</th>\n",
       "      <th>Trans_value</th>\n",
       "      <th>Items_transaction</th>\n",
       "      <th>LastTransaction</th>\n",
       "      <th>Lastflagedvalue</th>\n",
       "      <th>LastMonthsTrans_Freq</th>\n",
       "      <th>Y</th>\n",
       "    </tr>\n",
       "  </thead>\n",
       "  <tbody>\n",
       "    <tr>\n",
       "      <th>0</th>\n",
       "      <td>1</td>\n",
       "      <td>25</td>\n",
       "      <td>256.41</td>\n",
       "      <td>10</td>\n",
       "      <td>0</td>\n",
       "      <td>0</td>\n",
       "      <td>40</td>\n",
       "      <td>0</td>\n",
       "    </tr>\n",
       "    <tr>\n",
       "      <th>1</th>\n",
       "      <td>2</td>\n",
       "      <td>38</td>\n",
       "      <td>409.54</td>\n",
       "      <td>8</td>\n",
       "      <td>0</td>\n",
       "      <td>0</td>\n",
       "      <td>50</td>\n",
       "      <td>0</td>\n",
       "    </tr>\n",
       "    <tr>\n",
       "      <th>2</th>\n",
       "      <td>3</td>\n",
       "      <td>28</td>\n",
       "      <td>293.09</td>\n",
       "      <td>5</td>\n",
       "      <td>0</td>\n",
       "      <td>0</td>\n",
       "      <td>40</td>\n",
       "      <td>1</td>\n",
       "    </tr>\n",
       "    <tr>\n",
       "      <th>3</th>\n",
       "      <td>4</td>\n",
       "      <td>44</td>\n",
       "      <td>444.07</td>\n",
       "      <td>7</td>\n",
       "      <td>7688</td>\n",
       "      <td>0</td>\n",
       "      <td>40</td>\n",
       "      <td>1</td>\n",
       "    </tr>\n",
       "    <tr>\n",
       "      <th>4</th>\n",
       "      <td>5</td>\n",
       "      <td>18</td>\n",
       "      <td>183.11</td>\n",
       "      <td>7</td>\n",
       "      <td>0</td>\n",
       "      <td>0</td>\n",
       "      <td>30</td>\n",
       "      <td>0</td>\n",
       "    </tr>\n",
       "  </tbody>\n",
       "</table>\n",
       "</div>"
      ],
      "text/plain": [
       "   ID  Card Tenure_months  Trans_value  Items_transaction  LastTransaction  \\\n",
       "0   1                  25       256.41                 10                0   \n",
       "1   2                  38       409.54                  8                0   \n",
       "2   3                  28       293.09                  5                0   \n",
       "3   4                  44       444.07                  7             7688   \n",
       "4   5                  18       183.11                  7                0   \n",
       "\n",
       "   Lastflagedvalue  LastMonthsTrans_Freq  Y  \n",
       "0                0                    40  0  \n",
       "1                0                    50  0  \n",
       "2                0                    40  1  \n",
       "3                0                    40  1  \n",
       "4                0                    30  0  "
      ]
     },
     "execution_count": 16,
     "metadata": {},
     "output_type": "execute_result"
    }
   ],
   "source": [
    "df_num = df_new.select_dtypes(include = ['number'])\n",
    "df_num.head()"
   ]
  },
  {
   "cell_type": "code",
   "execution_count": 17,
   "id": "e06ddb34",
   "metadata": {},
   "outputs": [
    {
     "name": "stdout",
     "output_type": "stream",
     "text": [
      "Original variable name: WebsiteRegion\n",
      "Original variable name: Seller_Category\n",
      "Original variable name: Shipping_Address\n",
      "Original variable name: Purchase_Category\n",
      "Original variable name: Othercard_owner\n",
      "Original variable name: Seller_way\n",
      "Original variable name: Countryissuedcard\n"
     ]
    }
   ],
   "source": [
    "for var in char_variables[:-1]:\n",
    "    print(f'Original variable name: {var}')"
   ]
  },
  {
   "cell_type": "markdown",
   "id": "cd2973b9",
   "metadata": {},
   "source": [
    "### Create Dummies for categorical features"
   ]
  },
  {
   "cell_type": "code",
   "execution_count": 18,
   "id": "987fb018",
   "metadata": {},
   "outputs": [
    {
     "name": "stdout",
     "output_type": "stream",
     "text": [
      "dummy names:\n",
      "['EU_WE1', 'Eastern Europe_WE1', 'US_WE1', 'Unclassified_WE1', 'Online only_SC2', 'Store + online_SC2', 'Canada_SA3', 'International_SA3', 'US_SA3', 'Accessories_PC4', 'Books_PC4', 'Electornics_PC4', 'Food_PC4', 'Paying bills_PC4', 'Tickets - flights_PC4', 'online services_PC4', 'Dependent_OO5', 'Husband_OO5', 'Wife_OO5', 'No_SW6', 'Yes_SW6', 'Other_CO7', 'United-States_CO7']\n",
      "\n",
      "Number of dummies: 23\n",
      "shape: (16281, 23)\n"
     ]
    }
   ],
   "source": [
    "df_obj_dummies = pd.DataFrame([])\n",
    "for var in char_variables[:-1]:\n",
    "        df_temp = pd.get_dummies(df_obj[var])\n",
    "        df_obj_dummies = pd.concat([df_obj_dummies, df_temp], axis = 1)\n",
    "\n",
    "print(f'dummy names:\\n{list(df_obj_dummies)}\\n')\n",
    "print(f'Number of dummies: {len(list(df_obj_dummies))}')\n",
    "print(f'shape: {df_obj_dummies.shape}')"
   ]
  },
  {
   "cell_type": "code",
   "execution_count": 19,
   "id": "a8e94540",
   "metadata": {},
   "outputs": [
    {
     "data": {
      "text/html": [
       "<div>\n",
       "<style scoped>\n",
       "    .dataframe tbody tr th:only-of-type {\n",
       "        vertical-align: middle;\n",
       "    }\n",
       "\n",
       "    .dataframe tbody tr th {\n",
       "        vertical-align: top;\n",
       "    }\n",
       "\n",
       "    .dataframe thead th {\n",
       "        text-align: right;\n",
       "    }\n",
       "</style>\n",
       "<table border=\"1\" class=\"dataframe\">\n",
       "  <thead>\n",
       "    <tr style=\"text-align: right;\">\n",
       "      <th></th>\n",
       "      <th>EU_WE1</th>\n",
       "      <th>Eastern Europe_WE1</th>\n",
       "      <th>US_WE1</th>\n",
       "      <th>Unclassified_WE1</th>\n",
       "      <th>Online only_SC2</th>\n",
       "      <th>Store + online_SC2</th>\n",
       "      <th>Canada_SA3</th>\n",
       "      <th>International_SA3</th>\n",
       "      <th>US_SA3</th>\n",
       "      <th>Accessories_PC4</th>\n",
       "      <th>...</th>\n",
       "      <th>Paying bills_PC4</th>\n",
       "      <th>Tickets - flights_PC4</th>\n",
       "      <th>online services_PC4</th>\n",
       "      <th>Dependent_OO5</th>\n",
       "      <th>Husband_OO5</th>\n",
       "      <th>Wife_OO5</th>\n",
       "      <th>No_SW6</th>\n",
       "      <th>Yes_SW6</th>\n",
       "      <th>Other_CO7</th>\n",
       "      <th>United-States_CO7</th>\n",
       "    </tr>\n",
       "  </thead>\n",
       "  <tbody>\n",
       "    <tr>\n",
       "      <th>0</th>\n",
       "      <td>False</td>\n",
       "      <td>False</td>\n",
       "      <td>True</td>\n",
       "      <td>False</td>\n",
       "      <td>False</td>\n",
       "      <td>True</td>\n",
       "      <td>False</td>\n",
       "      <td>False</td>\n",
       "      <td>True</td>\n",
       "      <td>False</td>\n",
       "      <td>...</td>\n",
       "      <td>False</td>\n",
       "      <td>False</td>\n",
       "      <td>True</td>\n",
       "      <td>True</td>\n",
       "      <td>False</td>\n",
       "      <td>False</td>\n",
       "      <td>False</td>\n",
       "      <td>True</td>\n",
       "      <td>False</td>\n",
       "      <td>True</td>\n",
       "    </tr>\n",
       "    <tr>\n",
       "      <th>1</th>\n",
       "      <td>False</td>\n",
       "      <td>False</td>\n",
       "      <td>True</td>\n",
       "      <td>False</td>\n",
       "      <td>True</td>\n",
       "      <td>False</td>\n",
       "      <td>False</td>\n",
       "      <td>True</td>\n",
       "      <td>False</td>\n",
       "      <td>True</td>\n",
       "      <td>...</td>\n",
       "      <td>False</td>\n",
       "      <td>False</td>\n",
       "      <td>False</td>\n",
       "      <td>False</td>\n",
       "      <td>True</td>\n",
       "      <td>False</td>\n",
       "      <td>False</td>\n",
       "      <td>True</td>\n",
       "      <td>False</td>\n",
       "      <td>True</td>\n",
       "    </tr>\n",
       "    <tr>\n",
       "      <th>2</th>\n",
       "      <td>True</td>\n",
       "      <td>False</td>\n",
       "      <td>False</td>\n",
       "      <td>False</td>\n",
       "      <td>True</td>\n",
       "      <td>False</td>\n",
       "      <td>False</td>\n",
       "      <td>True</td>\n",
       "      <td>False</td>\n",
       "      <td>False</td>\n",
       "      <td>...</td>\n",
       "      <td>False</td>\n",
       "      <td>False</td>\n",
       "      <td>False</td>\n",
       "      <td>False</td>\n",
       "      <td>True</td>\n",
       "      <td>False</td>\n",
       "      <td>False</td>\n",
       "      <td>True</td>\n",
       "      <td>False</td>\n",
       "      <td>True</td>\n",
       "    </tr>\n",
       "    <tr>\n",
       "      <th>3</th>\n",
       "      <td>False</td>\n",
       "      <td>False</td>\n",
       "      <td>True</td>\n",
       "      <td>False</td>\n",
       "      <td>True</td>\n",
       "      <td>False</td>\n",
       "      <td>False</td>\n",
       "      <td>True</td>\n",
       "      <td>False</td>\n",
       "      <td>False</td>\n",
       "      <td>...</td>\n",
       "      <td>False</td>\n",
       "      <td>False</td>\n",
       "      <td>True</td>\n",
       "      <td>False</td>\n",
       "      <td>True</td>\n",
       "      <td>False</td>\n",
       "      <td>False</td>\n",
       "      <td>True</td>\n",
       "      <td>False</td>\n",
       "      <td>True</td>\n",
       "    </tr>\n",
       "    <tr>\n",
       "      <th>4</th>\n",
       "      <td>True</td>\n",
       "      <td>False</td>\n",
       "      <td>False</td>\n",
       "      <td>False</td>\n",
       "      <td>True</td>\n",
       "      <td>False</td>\n",
       "      <td>False</td>\n",
       "      <td>False</td>\n",
       "      <td>True</td>\n",
       "      <td>False</td>\n",
       "      <td>...</td>\n",
       "      <td>False</td>\n",
       "      <td>False</td>\n",
       "      <td>False</td>\n",
       "      <td>True</td>\n",
       "      <td>False</td>\n",
       "      <td>False</td>\n",
       "      <td>True</td>\n",
       "      <td>False</td>\n",
       "      <td>False</td>\n",
       "      <td>True</td>\n",
       "    </tr>\n",
       "  </tbody>\n",
       "</table>\n",
       "<p>5 rows × 23 columns</p>\n",
       "</div>"
      ],
      "text/plain": [
       "   EU_WE1  Eastern Europe_WE1  US_WE1  Unclassified_WE1  Online only_SC2  \\\n",
       "0   False               False    True             False            False   \n",
       "1   False               False    True             False             True   \n",
       "2    True               False   False             False             True   \n",
       "3   False               False    True             False             True   \n",
       "4    True               False   False             False             True   \n",
       "\n",
       "   Store + online_SC2  Canada_SA3  International_SA3  US_SA3  Accessories_PC4  \\\n",
       "0                True       False              False    True            False   \n",
       "1               False       False               True   False             True   \n",
       "2               False       False               True   False            False   \n",
       "3               False       False               True   False            False   \n",
       "4               False       False              False    True            False   \n",
       "\n",
       "   ...  Paying bills_PC4  Tickets - flights_PC4  online services_PC4  \\\n",
       "0  ...             False                  False                 True   \n",
       "1  ...             False                  False                False   \n",
       "2  ...             False                  False                False   \n",
       "3  ...             False                  False                 True   \n",
       "4  ...             False                  False                False   \n",
       "\n",
       "   Dependent_OO5  Husband_OO5  Wife_OO5  No_SW6  Yes_SW6  Other_CO7  \\\n",
       "0           True        False     False   False     True      False   \n",
       "1          False         True     False   False     True      False   \n",
       "2          False         True     False   False     True      False   \n",
       "3          False         True     False   False     True      False   \n",
       "4           True        False     False    True    False      False   \n",
       "\n",
       "   United-States_CO7  \n",
       "0               True  \n",
       "1               True  \n",
       "2               True  \n",
       "3               True  \n",
       "4               True  \n",
       "\n",
       "[5 rows x 23 columns]"
      ]
     },
     "execution_count": 19,
     "metadata": {},
     "output_type": "execute_result"
    }
   ],
   "source": [
    "df_obj_dummies.head()"
   ]
  },
  {
   "cell_type": "markdown",
   "id": "a49209c8",
   "metadata": {},
   "source": [
    "### Drop any duplicates (by ID) in data (only keep last one)"
   ]
  },
  {
   "cell_type": "code",
   "execution_count": 20,
   "id": "a0391bbf",
   "metadata": {},
   "outputs": [
    {
     "name": "stdout",
     "output_type": "stream",
     "text": [
      "(16281, 8)\n",
      "(16281, 8)\n"
     ]
    }
   ],
   "source": [
    "print(df_num.shape)\n",
    "df_num = df_num.drop_duplicates('ID', keep = 'last')\n",
    "print(df_num.shape)"
   ]
  },
  {
   "cell_type": "markdown",
   "id": "6e648aab",
   "metadata": {},
   "source": [
    "### Standardization for numerical features\n",
    "Scipy's **`zscore`** would transform the features to have standard normal distribution having **`mean = 0`** and **`standard deviation = 1`**."
   ]
  },
  {
   "cell_type": "code",
   "execution_count": 21,
   "id": "ec2628ba",
   "metadata": {},
   "outputs": [
    {
     "data": {
      "text/html": [
       "<div>\n",
       "<style scoped>\n",
       "    .dataframe tbody tr th:only-of-type {\n",
       "        vertical-align: middle;\n",
       "    }\n",
       "\n",
       "    .dataframe tbody tr th {\n",
       "        vertical-align: top;\n",
       "    }\n",
       "\n",
       "    .dataframe thead th {\n",
       "        text-align: right;\n",
       "    }\n",
       "</style>\n",
       "<table border=\"1\" class=\"dataframe\">\n",
       "  <thead>\n",
       "    <tr style=\"text-align: right;\">\n",
       "      <th></th>\n",
       "      <th>Card Tenure_months</th>\n",
       "      <th>Trans_value</th>\n",
       "      <th>Items_transaction</th>\n",
       "      <th>LastTransaction</th>\n",
       "      <th>Lastflagedvalue</th>\n",
       "      <th>LastMonthsTrans_Freq</th>\n",
       "    </tr>\n",
       "  </thead>\n",
       "  <tbody>\n",
       "    <tr>\n",
       "      <th>0</th>\n",
       "      <td>-0.994129</td>\n",
       "      <td>-1.053243</td>\n",
       "      <td>1.196864</td>\n",
       "      <td>-0.142662</td>\n",
       "      <td>-0.218062</td>\n",
       "      <td>-0.031432</td>\n",
       "    </tr>\n",
       "    <tr>\n",
       "      <th>1</th>\n",
       "      <td>-0.055417</td>\n",
       "      <td>0.049638</td>\n",
       "      <td>0.417886</td>\n",
       "      <td>-0.142662</td>\n",
       "      <td>-0.218062</td>\n",
       "      <td>0.769918</td>\n",
       "    </tr>\n",
       "    <tr>\n",
       "      <th>2</th>\n",
       "      <td>-0.777503</td>\n",
       "      <td>-0.789064</td>\n",
       "      <td>-0.750582</td>\n",
       "      <td>-0.142662</td>\n",
       "      <td>-0.218062</td>\n",
       "      <td>-0.031432</td>\n",
       "    </tr>\n",
       "    <tr>\n",
       "      <th>3</th>\n",
       "      <td>0.377835</td>\n",
       "      <td>0.298332</td>\n",
       "      <td>0.028397</td>\n",
       "      <td>0.871091</td>\n",
       "      <td>-0.218062</td>\n",
       "      <td>-0.031432</td>\n",
       "    </tr>\n",
       "    <tr>\n",
       "      <th>4</th>\n",
       "      <td>-1.499590</td>\n",
       "      <td>-1.581168</td>\n",
       "      <td>0.028397</td>\n",
       "      <td>-0.142662</td>\n",
       "      <td>-0.218062</td>\n",
       "      <td>-0.832781</td>\n",
       "    </tr>\n",
       "  </tbody>\n",
       "</table>\n",
       "</div>"
      ],
      "text/plain": [
       "   Card Tenure_months  Trans_value  Items_transaction  LastTransaction  \\\n",
       "0           -0.994129    -1.053243           1.196864        -0.142662   \n",
       "1           -0.055417     0.049638           0.417886        -0.142662   \n",
       "2           -0.777503    -0.789064          -0.750582        -0.142662   \n",
       "3            0.377835     0.298332           0.028397         0.871091   \n",
       "4           -1.499590    -1.581168           0.028397        -0.142662   \n",
       "\n",
       "   Lastflagedvalue  LastMonthsTrans_Freq  \n",
       "0        -0.218062             -0.031432  \n",
       "1        -0.218062              0.769918  \n",
       "2        -0.218062             -0.031432  \n",
       "3        -0.218062             -0.031432  \n",
       "4        -0.218062             -0.832781  "
      ]
     },
     "execution_count": 21,
     "metadata": {},
     "output_type": "execute_result"
    }
   ],
   "source": [
    "Y = df_num['Y']\n",
    "\n",
    "df_num_scaled = df_num.iloc[:, 1:-1].apply(zscore)\n",
    "df_num_scaled.head()"
   ]
  },
  {
   "cell_type": "markdown",
   "id": "257de080",
   "metadata": {},
   "source": [
    "### Create a DataFrame with numeric features (numeric plus dummies)"
   ]
  },
  {
   "cell_type": "code",
   "execution_count": 22,
   "id": "d637a226",
   "metadata": {},
   "outputs": [
    {
     "name": "stdout",
     "output_type": "stream",
     "text": [
      "(16281, 29)\n"
     ]
    },
    {
     "data": {
      "text/html": [
       "<div>\n",
       "<style scoped>\n",
       "    .dataframe tbody tr th:only-of-type {\n",
       "        vertical-align: middle;\n",
       "    }\n",
       "\n",
       "    .dataframe tbody tr th {\n",
       "        vertical-align: top;\n",
       "    }\n",
       "\n",
       "    .dataframe thead th {\n",
       "        text-align: right;\n",
       "    }\n",
       "</style>\n",
       "<table border=\"1\" class=\"dataframe\">\n",
       "  <thead>\n",
       "    <tr style=\"text-align: right;\">\n",
       "      <th></th>\n",
       "      <th>Card Tenure_months</th>\n",
       "      <th>Trans_value</th>\n",
       "      <th>Items_transaction</th>\n",
       "      <th>LastTransaction</th>\n",
       "      <th>Lastflagedvalue</th>\n",
       "      <th>LastMonthsTrans_Freq</th>\n",
       "      <th>EU_WE1</th>\n",
       "      <th>Eastern Europe_WE1</th>\n",
       "      <th>US_WE1</th>\n",
       "      <th>Unclassified_WE1</th>\n",
       "      <th>...</th>\n",
       "      <th>Paying bills_PC4</th>\n",
       "      <th>Tickets - flights_PC4</th>\n",
       "      <th>online services_PC4</th>\n",
       "      <th>Dependent_OO5</th>\n",
       "      <th>Husband_OO5</th>\n",
       "      <th>Wife_OO5</th>\n",
       "      <th>No_SW6</th>\n",
       "      <th>Yes_SW6</th>\n",
       "      <th>Other_CO7</th>\n",
       "      <th>United-States_CO7</th>\n",
       "    </tr>\n",
       "  </thead>\n",
       "  <tbody>\n",
       "    <tr>\n",
       "      <th>0</th>\n",
       "      <td>-0.994129</td>\n",
       "      <td>-1.053243</td>\n",
       "      <td>1.196864</td>\n",
       "      <td>-0.142662</td>\n",
       "      <td>-0.218062</td>\n",
       "      <td>-0.031432</td>\n",
       "      <td>False</td>\n",
       "      <td>False</td>\n",
       "      <td>True</td>\n",
       "      <td>False</td>\n",
       "      <td>...</td>\n",
       "      <td>False</td>\n",
       "      <td>False</td>\n",
       "      <td>True</td>\n",
       "      <td>True</td>\n",
       "      <td>False</td>\n",
       "      <td>False</td>\n",
       "      <td>False</td>\n",
       "      <td>True</td>\n",
       "      <td>False</td>\n",
       "      <td>True</td>\n",
       "    </tr>\n",
       "    <tr>\n",
       "      <th>1</th>\n",
       "      <td>-0.055417</td>\n",
       "      <td>0.049638</td>\n",
       "      <td>0.417886</td>\n",
       "      <td>-0.142662</td>\n",
       "      <td>-0.218062</td>\n",
       "      <td>0.769918</td>\n",
       "      <td>False</td>\n",
       "      <td>False</td>\n",
       "      <td>True</td>\n",
       "      <td>False</td>\n",
       "      <td>...</td>\n",
       "      <td>False</td>\n",
       "      <td>False</td>\n",
       "      <td>False</td>\n",
       "      <td>False</td>\n",
       "      <td>True</td>\n",
       "      <td>False</td>\n",
       "      <td>False</td>\n",
       "      <td>True</td>\n",
       "      <td>False</td>\n",
       "      <td>True</td>\n",
       "    </tr>\n",
       "    <tr>\n",
       "      <th>2</th>\n",
       "      <td>-0.777503</td>\n",
       "      <td>-0.789064</td>\n",
       "      <td>-0.750582</td>\n",
       "      <td>-0.142662</td>\n",
       "      <td>-0.218062</td>\n",
       "      <td>-0.031432</td>\n",
       "      <td>True</td>\n",
       "      <td>False</td>\n",
       "      <td>False</td>\n",
       "      <td>False</td>\n",
       "      <td>...</td>\n",
       "      <td>False</td>\n",
       "      <td>False</td>\n",
       "      <td>False</td>\n",
       "      <td>False</td>\n",
       "      <td>True</td>\n",
       "      <td>False</td>\n",
       "      <td>False</td>\n",
       "      <td>True</td>\n",
       "      <td>False</td>\n",
       "      <td>True</td>\n",
       "    </tr>\n",
       "    <tr>\n",
       "      <th>3</th>\n",
       "      <td>0.377835</td>\n",
       "      <td>0.298332</td>\n",
       "      <td>0.028397</td>\n",
       "      <td>0.871091</td>\n",
       "      <td>-0.218062</td>\n",
       "      <td>-0.031432</td>\n",
       "      <td>False</td>\n",
       "      <td>False</td>\n",
       "      <td>True</td>\n",
       "      <td>False</td>\n",
       "      <td>...</td>\n",
       "      <td>False</td>\n",
       "      <td>False</td>\n",
       "      <td>True</td>\n",
       "      <td>False</td>\n",
       "      <td>True</td>\n",
       "      <td>False</td>\n",
       "      <td>False</td>\n",
       "      <td>True</td>\n",
       "      <td>False</td>\n",
       "      <td>True</td>\n",
       "    </tr>\n",
       "    <tr>\n",
       "      <th>4</th>\n",
       "      <td>-1.499590</td>\n",
       "      <td>-1.581168</td>\n",
       "      <td>0.028397</td>\n",
       "      <td>-0.142662</td>\n",
       "      <td>-0.218062</td>\n",
       "      <td>-0.832781</td>\n",
       "      <td>True</td>\n",
       "      <td>False</td>\n",
       "      <td>False</td>\n",
       "      <td>False</td>\n",
       "      <td>...</td>\n",
       "      <td>False</td>\n",
       "      <td>False</td>\n",
       "      <td>False</td>\n",
       "      <td>True</td>\n",
       "      <td>False</td>\n",
       "      <td>False</td>\n",
       "      <td>True</td>\n",
       "      <td>False</td>\n",
       "      <td>False</td>\n",
       "      <td>True</td>\n",
       "    </tr>\n",
       "  </tbody>\n",
       "</table>\n",
       "<p>5 rows × 29 columns</p>\n",
       "</div>"
      ],
      "text/plain": [
       "   Card Tenure_months  Trans_value  Items_transaction  LastTransaction  \\\n",
       "0           -0.994129    -1.053243           1.196864        -0.142662   \n",
       "1           -0.055417     0.049638           0.417886        -0.142662   \n",
       "2           -0.777503    -0.789064          -0.750582        -0.142662   \n",
       "3            0.377835     0.298332           0.028397         0.871091   \n",
       "4           -1.499590    -1.581168           0.028397        -0.142662   \n",
       "\n",
       "   Lastflagedvalue  LastMonthsTrans_Freq  EU_WE1  Eastern Europe_WE1  US_WE1  \\\n",
       "0        -0.218062             -0.031432   False               False    True   \n",
       "1        -0.218062              0.769918   False               False    True   \n",
       "2        -0.218062             -0.031432    True               False   False   \n",
       "3        -0.218062             -0.031432   False               False    True   \n",
       "4        -0.218062             -0.832781    True               False   False   \n",
       "\n",
       "   Unclassified_WE1  ...  Paying bills_PC4  Tickets - flights_PC4  \\\n",
       "0             False  ...             False                  False   \n",
       "1             False  ...             False                  False   \n",
       "2             False  ...             False                  False   \n",
       "3             False  ...             False                  False   \n",
       "4             False  ...             False                  False   \n",
       "\n",
       "   online services_PC4  Dependent_OO5  Husband_OO5  Wife_OO5  No_SW6  Yes_SW6  \\\n",
       "0                 True           True        False     False   False     True   \n",
       "1                False          False         True     False   False     True   \n",
       "2                False          False         True     False   False     True   \n",
       "3                 True          False         True     False   False     True   \n",
       "4                False           True        False     False    True    False   \n",
       "\n",
       "   Other_CO7  United-States_CO7  \n",
       "0      False               True  \n",
       "1      False               True  \n",
       "2      False               True  \n",
       "3      False               True  \n",
       "4      False               True  \n",
       "\n",
       "[5 rows x 29 columns]"
      ]
     },
     "execution_count": 22,
     "metadata": {},
     "output_type": "execute_result"
    }
   ],
   "source": [
    "X_train_df = pd.concat([df_num_scaled , df_obj_dummies], axis = 1)   \n",
    "print(X_train_df.shape)\n",
    "X_train_df.head()"
   ]
  },
  {
   "cell_type": "code",
   "execution_count": 23,
   "id": "2cccded0",
   "metadata": {},
   "outputs": [
    {
     "name": "stdout",
     "output_type": "stream",
     "text": [
      "16281\n"
     ]
    }
   ],
   "source": [
    "print(len(Y))             "
   ]
  },
  {
   "cell_type": "markdown",
   "id": "ddd3993f",
   "metadata": {},
   "source": [
    "### Determined the AUC of each variable with the target.\n",
    "This would give an clue of which feature is a good predictor of the target variable."
   ]
  },
  {
   "cell_type": "code",
   "execution_count": 24,
   "id": "9f30767c",
   "metadata": {},
   "outputs": [
    {
     "name": "stdout",
     "output_type": "stream",
     "text": [
      "The single AUC of Card Tenure_months is 0.6783597431553071\n",
      "\n",
      "The single AUC of Trans_value is 0.677623737036333\n",
      "\n",
      "The single AUC of Items_transaction is 0.28531270563247135\n",
      "\n",
      "The single AUC of LastTransaction is 0.5891427936972726\n",
      "\n",
      "The single AUC of Lastflagedvalue is 0.5330136156793276\n",
      "\n",
      "The single AUC of LastMonthsTrans_Freq is 0.6714938167289458\n",
      "\n",
      "The single AUC of EU_WE1 is 0.4845822300925813\n",
      "\n",
      "The single AUC of Eastern Europe_WE1 is 0.5160861126845557\n",
      "\n",
      "The single AUC of US_WE1 is 0.4923622180110364\n",
      "\n",
      "The single AUC of Unclassified_WE1 is 0.5069694392118266\n",
      "\n",
      "The single AUC of Online only_SC2 is 0.5646654334207144\n",
      "\n",
      "The single AUC of Store + online_SC2 is 0.4353345665792856\n",
      "\n",
      "The single AUC of Canada_SA3 is 0.4715209259757604\n",
      "\n",
      "The single AUC of International_SA3 is 0.7627954913130179\n",
      "\n",
      "The single AUC of US_SA3 is 0.2656835827112216\n",
      "\n",
      "The single AUC of Accessories_PC4 is 0.4668894789567216\n",
      "\n",
      "The single AUC of Books_PC4 is 0.578779073961511\n",
      "\n",
      "The single AUC of Electornics_PC4 is 0.5788243013435856\n",
      "\n",
      "The single AUC of Food_PC4 is 0.4445944810048132\n",
      "\n",
      "The single AUC of Paying bills_PC4 is 0.5116888318476044\n",
      "\n",
      "The single AUC of Tickets - flights_PC4 is 0.49692601214301885\n",
      "\n",
      "The single AUC of online services_PC4 is 0.42229782074274524\n",
      "\n",
      "The single AUC of Dependent_OO5 is 0.4064439923797193\n",
      "\n",
      "The single AUC of Husband_OO5 is 0.7361035575319274\n",
      "\n",
      "The single AUC of Wife_OO5 is 0.5285550384620933\n",
      "\n",
      "The single AUC of No_SW6 is 0.38245296760000674\n",
      "\n",
      "The single AUC of Yes_SW6 is 0.6175470323999932\n",
      "\n",
      "The single AUC of Other_CO7 is 0.48988070258636646\n",
      "\n",
      "The single AUC of United-States_CO7 is 0.5101192974136336\n",
      "\n"
     ]
    }
   ],
   "source": [
    "for var in list(X_train_df):\n",
    "    fpr, tpr, thresholds = roc_curve(np.array(Y), np.array(X_train_df[var]))          \n",
    "    print(f'The single AUC of {var} is {auc(fpr, tpr)}\\n')"
   ]
  },
  {
   "cell_type": "markdown",
   "id": "7404bcf0",
   "metadata": {},
   "source": [
    "### Feature selection\n",
    "Based on the **single AUCs** let's select **18** features (**single AUC > 0.5**)"
   ]
  },
  {
   "cell_type": "code",
   "execution_count": 25,
   "id": "65214955",
   "metadata": {},
   "outputs": [
    {
     "name": "stdout",
     "output_type": "stream",
     "text": [
      "(16281, 18)\n"
     ]
    }
   ],
   "source": [
    "selector = SelectKBest(f_classif, k = 18)               \n",
    "\n",
    "X_train_new = selector.fit_transform(X_train_df, Y)    \n",
    "print(X_train_new.shape)                               "
   ]
  },
  {
   "cell_type": "markdown",
   "id": "69a9fe7a",
   "metadata": {},
   "source": [
    "#### Check which feature is selected"
   ]
  },
  {
   "cell_type": "code",
   "execution_count": 26,
   "id": "38c81ac4",
   "metadata": {},
   "outputs": [
    {
     "name": "stdout",
     "output_type": "stream",
     "text": [
      "[ True  True  True  True  True  True False False False False  True  True\n",
      " False  True  True False  True  True  True False False  True  True  True\n",
      " False  True  True False False]\n"
     ]
    }
   ],
   "source": [
    "print(selector.get_support(indices = False))     "
   ]
  },
  {
   "cell_type": "code",
   "execution_count": 27,
   "id": "c2622a85",
   "metadata": {},
   "outputs": [
    {
     "name": "stdout",
     "output_type": "stream",
     "text": [
      "(16281, 18)\n"
     ]
    }
   ],
   "source": [
    "num_rows = X_train_df.shape[0]\n",
    "chosen_indices = selector.get_support(indices = True)     # selected features      \n",
    "selected_df = X_train_df.iloc[0:num_rows, chosen_indices]\n",
    "print(selected_df.shape)"
   ]
  },
  {
   "cell_type": "code",
   "execution_count": 28,
   "id": "53ac7383",
   "metadata": {},
   "outputs": [
    {
     "data": {
      "text/html": [
       "<div>\n",
       "<style scoped>\n",
       "    .dataframe tbody tr th:only-of-type {\n",
       "        vertical-align: middle;\n",
       "    }\n",
       "\n",
       "    .dataframe tbody tr th {\n",
       "        vertical-align: top;\n",
       "    }\n",
       "\n",
       "    .dataframe thead th {\n",
       "        text-align: right;\n",
       "    }\n",
       "</style>\n",
       "<table border=\"1\" class=\"dataframe\">\n",
       "  <thead>\n",
       "    <tr style=\"text-align: right;\">\n",
       "      <th></th>\n",
       "      <th>Card Tenure_months</th>\n",
       "      <th>Trans_value</th>\n",
       "      <th>Items_transaction</th>\n",
       "      <th>LastTransaction</th>\n",
       "      <th>Lastflagedvalue</th>\n",
       "      <th>LastMonthsTrans_Freq</th>\n",
       "      <th>Online only_SC2</th>\n",
       "      <th>Store + online_SC2</th>\n",
       "      <th>International_SA3</th>\n",
       "      <th>US_SA3</th>\n",
       "      <th>Books_PC4</th>\n",
       "      <th>Electornics_PC4</th>\n",
       "      <th>Food_PC4</th>\n",
       "      <th>online services_PC4</th>\n",
       "      <th>Dependent_OO5</th>\n",
       "      <th>Husband_OO5</th>\n",
       "      <th>No_SW6</th>\n",
       "      <th>Yes_SW6</th>\n",
       "    </tr>\n",
       "  </thead>\n",
       "  <tbody>\n",
       "    <tr>\n",
       "      <th>0</th>\n",
       "      <td>-0.994129</td>\n",
       "      <td>-1.053243</td>\n",
       "      <td>1.196864</td>\n",
       "      <td>-0.142662</td>\n",
       "      <td>-0.218062</td>\n",
       "      <td>-0.031432</td>\n",
       "      <td>False</td>\n",
       "      <td>True</td>\n",
       "      <td>False</td>\n",
       "      <td>True</td>\n",
       "      <td>False</td>\n",
       "      <td>False</td>\n",
       "      <td>False</td>\n",
       "      <td>True</td>\n",
       "      <td>True</td>\n",
       "      <td>False</td>\n",
       "      <td>False</td>\n",
       "      <td>True</td>\n",
       "    </tr>\n",
       "    <tr>\n",
       "      <th>1</th>\n",
       "      <td>-0.055417</td>\n",
       "      <td>0.049638</td>\n",
       "      <td>0.417886</td>\n",
       "      <td>-0.142662</td>\n",
       "      <td>-0.218062</td>\n",
       "      <td>0.769918</td>\n",
       "      <td>True</td>\n",
       "      <td>False</td>\n",
       "      <td>True</td>\n",
       "      <td>False</td>\n",
       "      <td>False</td>\n",
       "      <td>False</td>\n",
       "      <td>False</td>\n",
       "      <td>False</td>\n",
       "      <td>False</td>\n",
       "      <td>True</td>\n",
       "      <td>False</td>\n",
       "      <td>True</td>\n",
       "    </tr>\n",
       "    <tr>\n",
       "      <th>2</th>\n",
       "      <td>-0.777503</td>\n",
       "      <td>-0.789064</td>\n",
       "      <td>-0.750582</td>\n",
       "      <td>-0.142662</td>\n",
       "      <td>-0.218062</td>\n",
       "      <td>-0.031432</td>\n",
       "      <td>True</td>\n",
       "      <td>False</td>\n",
       "      <td>True</td>\n",
       "      <td>False</td>\n",
       "      <td>False</td>\n",
       "      <td>True</td>\n",
       "      <td>False</td>\n",
       "      <td>False</td>\n",
       "      <td>False</td>\n",
       "      <td>True</td>\n",
       "      <td>False</td>\n",
       "      <td>True</td>\n",
       "    </tr>\n",
       "    <tr>\n",
       "      <th>3</th>\n",
       "      <td>0.377835</td>\n",
       "      <td>0.298332</td>\n",
       "      <td>0.028397</td>\n",
       "      <td>0.871091</td>\n",
       "      <td>-0.218062</td>\n",
       "      <td>-0.031432</td>\n",
       "      <td>True</td>\n",
       "      <td>False</td>\n",
       "      <td>True</td>\n",
       "      <td>False</td>\n",
       "      <td>False</td>\n",
       "      <td>False</td>\n",
       "      <td>False</td>\n",
       "      <td>True</td>\n",
       "      <td>False</td>\n",
       "      <td>True</td>\n",
       "      <td>False</td>\n",
       "      <td>True</td>\n",
       "    </tr>\n",
       "    <tr>\n",
       "      <th>4</th>\n",
       "      <td>-1.499590</td>\n",
       "      <td>-1.581168</td>\n",
       "      <td>0.028397</td>\n",
       "      <td>-0.142662</td>\n",
       "      <td>-0.218062</td>\n",
       "      <td>-0.832781</td>\n",
       "      <td>True</td>\n",
       "      <td>False</td>\n",
       "      <td>False</td>\n",
       "      <td>True</td>\n",
       "      <td>False</td>\n",
       "      <td>False</td>\n",
       "      <td>True</td>\n",
       "      <td>False</td>\n",
       "      <td>True</td>\n",
       "      <td>False</td>\n",
       "      <td>True</td>\n",
       "      <td>False</td>\n",
       "    </tr>\n",
       "  </tbody>\n",
       "</table>\n",
       "</div>"
      ],
      "text/plain": [
       "   Card Tenure_months  Trans_value  Items_transaction  LastTransaction  \\\n",
       "0           -0.994129    -1.053243           1.196864        -0.142662   \n",
       "1           -0.055417     0.049638           0.417886        -0.142662   \n",
       "2           -0.777503    -0.789064          -0.750582        -0.142662   \n",
       "3            0.377835     0.298332           0.028397         0.871091   \n",
       "4           -1.499590    -1.581168           0.028397        -0.142662   \n",
       "\n",
       "   Lastflagedvalue  LastMonthsTrans_Freq  Online only_SC2  Store + online_SC2  \\\n",
       "0        -0.218062             -0.031432            False                True   \n",
       "1        -0.218062              0.769918             True               False   \n",
       "2        -0.218062             -0.031432             True               False   \n",
       "3        -0.218062             -0.031432             True               False   \n",
       "4        -0.218062             -0.832781             True               False   \n",
       "\n",
       "   International_SA3  US_SA3  Books_PC4  Electornics_PC4  Food_PC4  \\\n",
       "0              False    True      False            False     False   \n",
       "1               True   False      False            False     False   \n",
       "2               True   False      False             True     False   \n",
       "3               True   False      False            False     False   \n",
       "4              False    True      False            False      True   \n",
       "\n",
       "   online services_PC4  Dependent_OO5  Husband_OO5  No_SW6  Yes_SW6  \n",
       "0                 True           True        False   False     True  \n",
       "1                False          False         True   False     True  \n",
       "2                False          False         True   False     True  \n",
       "3                 True          False         True   False     True  \n",
       "4                False           True        False    True    False  "
      ]
     },
     "execution_count": 28,
     "metadata": {},
     "output_type": "execute_result"
    }
   ],
   "source": [
    "selected_df.head()"
   ]
  },
  {
   "cell_type": "code",
   "execution_count": 29,
   "id": "91a2b098",
   "metadata": {},
   "outputs": [
    {
     "name": "stdout",
     "output_type": "stream",
     "text": [
      "Card Tenure_months      float64\n",
      "Trans_value             float64\n",
      "Items_transaction       float64\n",
      "LastTransaction         float64\n",
      "Lastflagedvalue         float64\n",
      "LastMonthsTrans_Freq    float64\n",
      "Online only_SC2            bool\n",
      "Store + online_SC2         bool\n",
      "International_SA3          bool\n",
      "US_SA3                     bool\n",
      "Books_PC4                  bool\n",
      "Electornics_PC4            bool\n",
      "Food_PC4                   bool\n",
      "online services_PC4        bool\n",
      "Dependent_OO5              bool\n",
      "Husband_OO5                bool\n",
      "No_SW6                     bool\n",
      "Yes_SW6                    bool\n",
      "dtype: object\n"
     ]
    }
   ],
   "source": [
    "print(selected_df.dtypes)"
   ]
  },
  {
   "cell_type": "code",
   "execution_count": 30,
   "id": "b97f3fff",
   "metadata": {},
   "outputs": [
    {
     "name": "stdout",
     "output_type": "stream",
     "text": [
      "Series([], dtype: int64)\n"
     ]
    }
   ],
   "source": [
    "z = selected_df.isnull().sum()\n",
    "print(z[z > 0])"
   ]
  },
  {
   "cell_type": "code",
   "execution_count": 31,
   "id": "7262724f",
   "metadata": {},
   "outputs": [
    {
     "name": "stdout",
     "output_type": "stream",
     "text": [
      "['Card Tenure_months', 'Trans_value', 'Items_transaction', 'LastTransaction', 'Lastflagedvalue', 'LastMonthsTrans_Freq', 'Online only_SC2', 'Store + online_SC2', 'International_SA3', 'US_SA3', 'Books_PC4', 'Electornics_PC4', 'Food_PC4', 'online services_PC4', 'Dependent_OO5', 'Husband_OO5', 'No_SW6', 'Yes_SW6']\n"
     ]
    }
   ],
   "source": [
    "num_type = ['bool', 'float64']    \n",
    "df_num_final = selected_df.select_dtypes(include = num_type)\n",
    "\n",
    "predictor_vars = list(df_num_final)\n",
    "print(predictor_vars)"
   ]
  },
  {
   "cell_type": "code",
   "execution_count": 32,
   "id": "c4d5c9a2",
   "metadata": {},
   "outputs": [
    {
     "name": "stdout",
     "output_type": "stream",
     "text": [
      "The AUC of Card Tenure_months is 0.6783597431553071\n",
      "The AUC of Trans_value is 0.677623737036333\n",
      "The AUC of Items_transaction is 0.7146872943675286\n",
      "The AUC of LastTransaction is 0.5891427936972726\n",
      "The AUC of Lastflagedvalue is 0.5330136156793276\n",
      "The AUC of LastMonthsTrans_Freq is 0.6714938167289458\n",
      "The AUC of Online only_SC2 is 0.5646654334207144\n",
      "The AUC of Store + online_SC2 is 0.5646654334207144\n",
      "The AUC of International_SA3 is 0.7627954913130179\n",
      "The AUC of US_SA3 is 0.7343164172887784\n",
      "The AUC of Books_PC4 is 0.578779073961511\n",
      "The AUC of Electornics_PC4 is 0.5788243013435856\n",
      "The AUC of Food_PC4 is 0.5554055189951868\n",
      "The AUC of online services_PC4 is 0.5777021792572548\n",
      "The AUC of Dependent_OO5 is 0.5935560076202807\n",
      "The AUC of Husband_OO5 is 0.7361035575319274\n",
      "The AUC of No_SW6 is 0.6175470323999932\n",
      "The AUC of Yes_SW6 is 0.6175470323999932\n"
     ]
    }
   ],
   "source": [
    "for var in predictor_vars:\n",
    "    fpr, tpr, thresholds = roc_curve(np.array(Y), np.array(df_num_final[var]))\n",
    "    if auc(fpr, tpr) + 0 > 0.5:\n",
    "        z = auc(fpr, tpr) + 0\n",
    "    else:       \n",
    "        z = 1 - auc(fpr, tpr) + 0\n",
    "    print(f'The AUC of {var} is {z}')"
   ]
  },
  {
   "cell_type": "markdown",
   "id": "ccc64e08",
   "metadata": {},
   "source": [
    "The **single AUCs** are all greater than **`0.5`**! This is indication that there feature are good predictors."
   ]
  },
  {
   "cell_type": "markdown",
   "id": "9e57bc8c",
   "metadata": {},
   "source": [
    "### Training the models\n",
    "I will train a `LogisticRegression` and an `AdaBoostClassifier` model and compare their performances.\n",
    "I will use **Cummulative Accuracy Profile - (CAP)** to evaluate the models robustness."
   ]
  },
  {
   "cell_type": "code",
   "execution_count": 33,
   "id": "f1c59706",
   "metadata": {},
   "outputs": [],
   "source": [
    "X = df_num_final\n",
    "y = Y\n",
    "X_train, X_test, y_train, y_test = train_test_split(X , y, test_size = 0.3, random_state = 0)"
   ]
  },
  {
   "cell_type": "markdown",
   "id": "c2222adb",
   "metadata": {},
   "source": [
    "### LogisticRegression Model"
   ]
  },
  {
   "cell_type": "code",
   "execution_count": 34,
   "id": "2a516a27",
   "metadata": {},
   "outputs": [
    {
     "data": {
      "text/html": [
       "<style>#sk-container-id-1 {color: black;}#sk-container-id-1 pre{padding: 0;}#sk-container-id-1 div.sk-toggleable {background-color: white;}#sk-container-id-1 label.sk-toggleable__label {cursor: pointer;display: block;width: 100%;margin-bottom: 0;padding: 0.3em;box-sizing: border-box;text-align: center;}#sk-container-id-1 label.sk-toggleable__label-arrow:before {content: \"▸\";float: left;margin-right: 0.25em;color: #696969;}#sk-container-id-1 label.sk-toggleable__label-arrow:hover:before {color: black;}#sk-container-id-1 div.sk-estimator:hover label.sk-toggleable__label-arrow:before {color: black;}#sk-container-id-1 div.sk-toggleable__content {max-height: 0;max-width: 0;overflow: hidden;text-align: left;background-color: #f0f8ff;}#sk-container-id-1 div.sk-toggleable__content pre {margin: 0.2em;color: black;border-radius: 0.25em;background-color: #f0f8ff;}#sk-container-id-1 input.sk-toggleable__control:checked~div.sk-toggleable__content {max-height: 200px;max-width: 100%;overflow: auto;}#sk-container-id-1 input.sk-toggleable__control:checked~label.sk-toggleable__label-arrow:before {content: \"▾\";}#sk-container-id-1 div.sk-estimator input.sk-toggleable__control:checked~label.sk-toggleable__label {background-color: #d4ebff;}#sk-container-id-1 div.sk-label input.sk-toggleable__control:checked~label.sk-toggleable__label {background-color: #d4ebff;}#sk-container-id-1 input.sk-hidden--visually {border: 0;clip: rect(1px 1px 1px 1px);clip: rect(1px, 1px, 1px, 1px);height: 1px;margin: -1px;overflow: hidden;padding: 0;position: absolute;width: 1px;}#sk-container-id-1 div.sk-estimator {font-family: monospace;background-color: #f0f8ff;border: 1px dotted black;border-radius: 0.25em;box-sizing: border-box;margin-bottom: 0.5em;}#sk-container-id-1 div.sk-estimator:hover {background-color: #d4ebff;}#sk-container-id-1 div.sk-parallel-item::after {content: \"\";width: 100%;border-bottom: 1px solid gray;flex-grow: 1;}#sk-container-id-1 div.sk-label:hover label.sk-toggleable__label {background-color: #d4ebff;}#sk-container-id-1 div.sk-serial::before {content: \"\";position: absolute;border-left: 1px solid gray;box-sizing: border-box;top: 0;bottom: 0;left: 50%;z-index: 0;}#sk-container-id-1 div.sk-serial {display: flex;flex-direction: column;align-items: center;background-color: white;padding-right: 0.2em;padding-left: 0.2em;position: relative;}#sk-container-id-1 div.sk-item {position: relative;z-index: 1;}#sk-container-id-1 div.sk-parallel {display: flex;align-items: stretch;justify-content: center;background-color: white;position: relative;}#sk-container-id-1 div.sk-item::before, #sk-container-id-1 div.sk-parallel-item::before {content: \"\";position: absolute;border-left: 1px solid gray;box-sizing: border-box;top: 0;bottom: 0;left: 50%;z-index: -1;}#sk-container-id-1 div.sk-parallel-item {display: flex;flex-direction: column;z-index: 1;position: relative;background-color: white;}#sk-container-id-1 div.sk-parallel-item:first-child::after {align-self: flex-end;width: 50%;}#sk-container-id-1 div.sk-parallel-item:last-child::after {align-self: flex-start;width: 50%;}#sk-container-id-1 div.sk-parallel-item:only-child::after {width: 0;}#sk-container-id-1 div.sk-dashed-wrapped {border: 1px dashed gray;margin: 0 0.4em 0.5em 0.4em;box-sizing: border-box;padding-bottom: 0.4em;background-color: white;}#sk-container-id-1 div.sk-label label {font-family: monospace;font-weight: bold;display: inline-block;line-height: 1.2em;}#sk-container-id-1 div.sk-label-container {text-align: center;}#sk-container-id-1 div.sk-container {/* jupyter's `normalize.less` sets `[hidden] { display: none; }` but bootstrap.min.css set `[hidden] { display: none !important; }` so we also need the `!important` here to be able to override the default hidden behavior on the sphinx rendered scikit-learn.org. See: https://github.com/scikit-learn/scikit-learn/issues/21755 */display: inline-block !important;position: relative;}#sk-container-id-1 div.sk-text-repr-fallback {display: none;}</style><div id=\"sk-container-id-1\" class=\"sk-top-container\"><div class=\"sk-text-repr-fallback\"><pre>LogisticRegression(C=0.01)</pre><b>In a Jupyter environment, please rerun this cell to show the HTML representation or trust the notebook. <br />On GitHub, the HTML representation is unable to render, please try loading this page with nbviewer.org.</b></div><div class=\"sk-container\" hidden><div class=\"sk-item\"><div class=\"sk-estimator sk-toggleable\"><input class=\"sk-toggleable__control sk-hidden--visually\" id=\"sk-estimator-id-1\" type=\"checkbox\" checked><label for=\"sk-estimator-id-1\" class=\"sk-toggleable__label sk-toggleable__label-arrow\">LogisticRegression</label><div class=\"sk-toggleable__content\"><pre>LogisticRegression(C=0.01)</pre></div></div></div></div></div>"
      ],
      "text/plain": [
       "LogisticRegression(C=0.01)"
      ]
     },
     "execution_count": 34,
     "metadata": {},
     "output_type": "execute_result"
    }
   ],
   "source": [
    "log_reg = linear_model.LogisticRegression(C = 0.01, penalty = 'l2')\n",
    "log_reg.fit(X_train, y_train)"
   ]
  },
  {
   "cell_type": "markdown",
   "id": "e0668a58",
   "metadata": {},
   "source": [
    "#### Cross Validation Score"
   ]
  },
  {
   "cell_type": "code",
   "execution_count": 35,
   "id": "83d3a92e",
   "metadata": {},
   "outputs": [
    {
     "name": "stdout",
     "output_type": "stream",
     "text": [
      "logistic regression score: 0.8406731598318948\n",
      "\n"
     ]
    }
   ],
   "source": [
    "scores = cross_val_score(log_reg, X, y)\n",
    "print(f'logistic regression score: {scores.mean()}\\n')   "
   ]
  },
  {
   "cell_type": "markdown",
   "id": "092451bf",
   "metadata": {},
   "source": [
    "### The Predictions (LogisticRegression Model)"
   ]
  },
  {
   "cell_type": "code",
   "execution_count": 36,
   "id": "ad8a9ded",
   "metadata": {},
   "outputs": [
    {
     "name": "stdout",
     "output_type": "stream",
     "text": [
      "First 10 probabilities:\n",
      "[0.36867018 0.07277663 0.18035148 0.17193916 0.24285089 0.83984559\n",
      " 0.24384804 0.06223129 0.96014752 0.50958433]\n"
     ]
    }
   ],
   "source": [
    "y_pred = log_reg.predict_proba(X_test,)[:, 1]                    \n",
    "print(f'First 10 probabilities:\\n{y_pred[0:10]}')"
   ]
  },
  {
   "cell_type": "code",
   "execution_count": 37,
   "id": "b74d73be",
   "metadata": {},
   "outputs": [
    {
     "name": "stdout",
     "output_type": "stream",
     "text": [
      "Accuracy (logistic Regression) =  83.48%\n"
     ]
    }
   ],
   "source": [
    "acc_lg = metrics.accuracy_score(y_test, np.where(y_pred > 0.5, 1, 0))\n",
    "print(f'Accuracy (logistic Regression) = {acc_lg * 100: .2f}%')"
   ]
  },
  {
   "cell_type": "markdown",
   "id": "6facfea9",
   "metadata": {},
   "source": [
    "#### Helper Function to plot ROC curve "
   ]
  },
  {
   "cell_type": "code",
   "execution_count": 38,
   "id": "35ce0e74",
   "metadata": {},
   "outputs": [],
   "source": [
    "def auc_curve(y_test, y_pred):\n",
    "    plt.plot([0,1], [0,1], 'r--')\n",
    "\n",
    "    fpr, tpr, thresholds = roc_curve(y_test, y_pred)\n",
    "    roc_auc = auc(fpr, tpr)\n",
    "\n",
    "    label = 'Model AUC:' + ' {0:.2f}'.format(roc_auc)\n",
    "    plt.plot(fpr, tpr, c = 'g', label = label, linewidth = 2)\n",
    "    plt.xlabel('False Positive Rate', fontsize = 14)\n",
    "    plt.ylabel('True Positive Rate', fontsize = 14)\n",
    "    plt.title('Receiver Operating Characteristic', fontsize = 14)\n",
    "    plt.legend(loc = 'lower right', fontsize = 12)\n",
    "    plt.show()"
   ]
  },
  {
   "cell_type": "markdown",
   "id": "0fd5f870",
   "metadata": {},
   "source": [
    "### Receiver Operating Characteristic (ROC) Curve - Logistic Regression"
   ]
  },
  {
   "cell_type": "code",
   "execution_count": 39,
   "id": "dc5ab044",
   "metadata": {},
   "outputs": [
    {
     "name": "stdout",
     "output_type": "stream",
     "text": [
      "AUC for logistic regression model: 0.897\n"
     ]
    }
   ],
   "source": [
    "fpr, tpr, thresholds = roc_curve(y_test, y_pred)             \n",
    "roc_auc = auc(fpr, tpr)               \n",
    "print(f'AUC for logistic regression model: {round(roc_auc, 3)}')"
   ]
  },
  {
   "cell_type": "code",
   "execution_count": 40,
   "id": "1b37bcd9",
   "metadata": {},
   "outputs": [
    {
     "data": {
      "image/png": "[encoded data removed]",
      "text/plain": [
       "<Figure size 640x480 with 1 Axes>"
      ]
     },
     "metadata": {},
     "output_type": "display_data"
    }
   ],
   "source": [
    "auc_curve(y_test, y_pred)"
   ]
  },
  {
   "cell_type": "markdown",
   "id": "73c226a2",
   "metadata": {},
   "source": [
    "### Cummulative Accuracy Profile (CAP) Curve - Logistic Regression"
   ]
  },
  {
   "cell_type": "code",
   "execution_count": 41,
   "id": "793a738c",
   "metadata": {},
   "outputs": [
    {
     "data": {
      "image/png": "[encoded data removed]",
      "text/plain": [
       "<Figure size 640x480 with 1 Axes>"
      ]
     },
     "metadata": {},
     "output_type": "display_data"
    },
    {
     "name": "stdout",
     "output_type": "stream",
     "text": [
      "Percentage: 93.93%\n",
      "\n",
      "    Interpret this percentage as follows:\n",
      "    \n",
      "    1. Less than 60%: Useless Model\n",
      "    2. 60% - 70%: Poor Model\n",
      "    3. 70% - 80%: Good Model\n",
      "    4. 80% - 90%: Very Good Model\n",
      "    5. More than 90%: Too Good to be True.\n",
      "\n",
      "    In the fifth case, one must always check for overfitting.\n",
      "    \n"
     ]
    }
   ],
   "source": [
    "cap_curve(y_test, y_pred)"
   ]
  },
  {
   "cell_type": "markdown",
   "id": "118480d9",
   "metadata": {},
   "source": [
    "### Confusion Matrix - Logistic Regression"
   ]
  },
  {
   "cell_type": "code",
   "execution_count": 42,
   "id": "0905a0b2",
   "metadata": {},
   "outputs": [
    {
     "data": {
      "image/png": "[encoded data removed]",
      "text/plain": [
       "<Figure size 700x500 with 2 Axes>"
      ]
     },
     "metadata": {},
     "output_type": "display_data"
    }
   ],
   "source": [
    "cm = confusion_matrix(y_test, np.where(y_pred > 0.5, 1, 0), labels = [1, 0])\n",
    "cm_df = pd.DataFrame(cm, index = [1, 0], columns = ['Predict 1', 'Predict 0'])\n",
    "\n",
    "plt.figure(figsize = (7, 5))\n",
    "sns.heatmap(cm_df, annot = True, fmt = 'g')\n",
    "plt.ylabel('Actual')\n",
    "plt.show()"
   ]
  },
  {
   "cell_type": "markdown",
   "id": "0d639a9c",
   "metadata": {},
   "source": [
    "### Most Important Features - Odds Ratio"
   ]
  },
  {
   "cell_type": "code",
   "execution_count": 84,
   "id": "1886093b",
   "metadata": {},
   "outputs": [],
   "source": [
    "odds_ratio = np.exp(log_reg.coef_)"
   ]
  },
  {
   "cell_type": "code",
   "execution_count": 90,
   "id": "f329adf6",
   "metadata": {},
   "outputs": [],
   "source": [
    "odds_ratio_df = pd.DataFrame(odds_ratio, columns = list(df_num_final)).T"
   ]
  },
  {
   "cell_type": "code",
   "execution_count": 101,
   "id": "e0a4ecb1",
   "metadata": {},
   "outputs": [],
   "source": [
    "odds_ratio_df.columns = ['odds']\n",
    "data = odds_ratio_df.sort_values(by = 'odds', ascending = False)"
   ]
  },
  {
   "cell_type": "code",
   "execution_count": 105,
   "id": "f6badb54",
   "metadata": {},
   "outputs": [
    {
     "data": {
      "image/png": "[encoded data removed]",
      "text/plain": [
       "<Figure size 640x480 with 1 Axes>"
      ]
     },
     "metadata": {},
     "output_type": "display_data"
    }
   ],
   "source": [
    "sns.barplot(data = data.T)\n",
    "plt.title('Important Predictors')\n",
    "plt.ylabel('Odds')\n",
    "plt.xticks(rotation = 90)\n",
    "plt.show()"
   ]
  },
  {
   "cell_type": "markdown",
   "id": "2365a59e",
   "metadata": {},
   "source": [
    "### `AdaBoostClassifier` Model"
   ]
  },
  {
   "cell_type": "code",
   "execution_count": 59,
   "id": "e5b8f1f4",
   "metadata": {},
   "outputs": [
    {
     "data": {
      "text/html": [
       "<style>#sk-container-id-2 {color: black;}#sk-container-id-2 pre{padding: 0;}#sk-container-id-2 div.sk-toggleable {background-color: white;}#sk-container-id-2 label.sk-toggleable__label {cursor: pointer;display: block;width: 100%;margin-bottom: 0;padding: 0.3em;box-sizing: border-box;text-align: center;}#sk-container-id-2 label.sk-toggleable__label-arrow:before {content: \"▸\";float: left;margin-right: 0.25em;color: #696969;}#sk-container-id-2 label.sk-toggleable__label-arrow:hover:before {color: black;}#sk-container-id-2 div.sk-estimator:hover label.sk-toggleable__label-arrow:before {color: black;}#sk-container-id-2 div.sk-toggleable__content {max-height: 0;max-width: 0;overflow: hidden;text-align: left;background-color: #f0f8ff;}#sk-container-id-2 div.sk-toggleable__content pre {margin: 0.2em;color: black;border-radius: 0.25em;background-color: #f0f8ff;}#sk-container-id-2 input.sk-toggleable__control:checked~div.sk-toggleable__content {max-height: 200px;max-width: 100%;overflow: auto;}#sk-container-id-2 input.sk-toggleable__control:checked~label.sk-toggleable__label-arrow:before {content: \"▾\";}#sk-container-id-2 div.sk-estimator input.sk-toggleable__control:checked~label.sk-toggleable__label {background-color: #d4ebff;}#sk-container-id-2 div.sk-label input.sk-toggleable__control:checked~label.sk-toggleable__label {background-color: #d4ebff;}#sk-container-id-2 input.sk-hidden--visually {border: 0;clip: rect(1px 1px 1px 1px);clip: rect(1px, 1px, 1px, 1px);height: 1px;margin: -1px;overflow: hidden;padding: 0;position: absolute;width: 1px;}#sk-container-id-2 div.sk-estimator {font-family: monospace;background-color: #f0f8ff;border: 1px dotted black;border-radius: 0.25em;box-sizing: border-box;margin-bottom: 0.5em;}#sk-container-id-2 div.sk-estimator:hover {background-color: #d4ebff;}#sk-container-id-2 div.sk-parallel-item::after {content: \"\";width: 100%;border-bottom: 1px solid gray;flex-grow: 1;}#sk-container-id-2 div.sk-label:hover label.sk-toggleable__label {background-color: #d4ebff;}#sk-container-id-2 div.sk-serial::before {content: \"\";position: absolute;border-left: 1px solid gray;box-sizing: border-box;top: 0;bottom: 0;left: 50%;z-index: 0;}#sk-container-id-2 div.sk-serial {display: flex;flex-direction: column;align-items: center;background-color: white;padding-right: 0.2em;padding-left: 0.2em;position: relative;}#sk-container-id-2 div.sk-item {position: relative;z-index: 1;}#sk-container-id-2 div.sk-parallel {display: flex;align-items: stretch;justify-content: center;background-color: white;position: relative;}#sk-container-id-2 div.sk-item::before, #sk-container-id-2 div.sk-parallel-item::before {content: \"\";position: absolute;border-left: 1px solid gray;box-sizing: border-box;top: 0;bottom: 0;left: 50%;z-index: -1;}#sk-container-id-2 div.sk-parallel-item {display: flex;flex-direction: column;z-index: 1;position: relative;background-color: white;}#sk-container-id-2 div.sk-parallel-item:first-child::after {align-self: flex-end;width: 50%;}#sk-container-id-2 div.sk-parallel-item:last-child::after {align-self: flex-start;width: 50%;}#sk-container-id-2 div.sk-parallel-item:only-child::after {width: 0;}#sk-container-id-2 div.sk-dashed-wrapped {border: 1px dashed gray;margin: 0 0.4em 0.5em 0.4em;box-sizing: border-box;padding-bottom: 0.4em;background-color: white;}#sk-container-id-2 div.sk-label label {font-family: monospace;font-weight: bold;display: inline-block;line-height: 1.2em;}#sk-container-id-2 div.sk-label-container {text-align: center;}#sk-container-id-2 div.sk-container {/* jupyter's `normalize.less` sets `[hidden] { display: none; }` but bootstrap.min.css set `[hidden] { display: none !important; }` so we also need the `!important` here to be able to override the default hidden behavior on the sphinx rendered scikit-learn.org. See: https://github.com/scikit-learn/scikit-learn/issues/21755 */display: inline-block !important;position: relative;}#sk-container-id-2 div.sk-text-repr-fallback {display: none;}</style><div id=\"sk-container-id-2\" class=\"sk-top-container\"><div class=\"sk-text-repr-fallback\"><pre>AdaBoostClassifier(learning_rate=0.5, n_estimators=100)</pre><b>In a Jupyter environment, please rerun this cell to show the HTML representation or trust the notebook. <br />On GitHub, the HTML representation is unable to render, please try loading this page with nbviewer.org.</b></div><div class=\"sk-container\" hidden><div class=\"sk-item\"><div class=\"sk-estimator sk-toggleable\"><input class=\"sk-toggleable__control sk-hidden--visually\" id=\"sk-estimator-id-2\" type=\"checkbox\" checked><label for=\"sk-estimator-id-2\" class=\"sk-toggleable__label sk-toggleable__label-arrow\">AdaBoostClassifier</label><div class=\"sk-toggleable__content\"><pre>AdaBoostClassifier(learning_rate=0.5, n_estimators=100)</pre></div></div></div></div></div>"
      ],
      "text/plain": [
       "AdaBoostClassifier(learning_rate=0.5, n_estimators=100)"
      ]
     },
     "execution_count": 59,
     "metadata": {},
     "output_type": "execute_result"
    }
   ],
   "source": [
    "ada_real = AdaBoostClassifier(learning_rate = 0.5, n_estimators = 100, algorithm = \"SAMME.R\")\n",
    "ada_real.fit(X_train, y_train)"
   ]
  },
  {
   "cell_type": "code",
   "execution_count": 60,
   "id": "4cc0af15",
   "metadata": {},
   "outputs": [
    {
     "name": "stdout",
     "output_type": "stream",
     "text": [
      "ada_real validation score: 0.8598\n"
     ]
    }
   ],
   "source": [
    "scores = cross_val_score(ada_real, X, y)\n",
    "print(f'ada_real validation score: {round(scores.mean(), 4)}')   "
   ]
  },
  {
   "cell_type": "markdown",
   "id": "af58fc20",
   "metadata": {},
   "source": [
    "### The Predictions (AdaBoostClassifier Model)"
   ]
  },
  {
   "cell_type": "code",
   "execution_count": 61,
   "id": "0600e870",
   "metadata": {},
   "outputs": [
    {
     "name": "stdout",
     "output_type": "stream",
     "text": [
      "ada real: roc prob -- auc 0.911\n"
     ]
    }
   ],
   "source": [
    "y_pred_prob = ada_real.predict_proba(X_test)[:, 1]  \n",
    "fpr, tpr, thresholds = roc_curve(y_test, y_pred_prob)               \n",
    "roc_auc = auc(fpr, tpr)  \n",
    "print(f'ada real: roc prob -- auc {round(roc_auc, 3)}')"
   ]
  },
  {
   "cell_type": "code",
   "execution_count": 62,
   "id": "95421936",
   "metadata": {},
   "outputs": [
    {
     "name": "stdout",
     "output_type": "stream",
     "text": [
      "Accuracy (logistic Ada) =  85.79%\n"
     ]
    }
   ],
   "source": [
    "acc_ada = metrics.accuracy_score(y_test, np.where(y_pred_prob > 0.5, 1, 0))\n",
    "print(f'Accuracy (logistic Ada) = {acc_ada * 100: .2f}%')"
   ]
  },
  {
   "cell_type": "markdown",
   "id": "84746f88",
   "metadata": {},
   "source": [
    "### Receiver Operating Characteristic (ROC) Curve - AdaBoostClassifier Model"
   ]
  },
  {
   "cell_type": "code",
   "execution_count": 63,
   "id": "8bf2905d",
   "metadata": {},
   "outputs": [
    {
     "data": {
      "image/png": "[encoded data removed]",
      "text/plain": [
       "<Figure size 640x480 with 1 Axes>"
      ]
     },
     "metadata": {},
     "output_type": "display_data"
    }
   ],
   "source": [
    "auc_curve(y_test, y_pred_prob)"
   ]
  },
  {
   "cell_type": "markdown",
   "id": "46e26441",
   "metadata": {},
   "source": [
    "### Cummulative Accuracy Profile (CAP) Curve - AdaBoostClassifier Model"
   ]
  },
  {
   "cell_type": "code",
   "execution_count": 64,
   "id": "3037340f",
   "metadata": {},
   "outputs": [
    {
     "data": {
      "image/png": "[encoded data removed]",
      "text/plain": [
       "<Figure size 640x480 with 1 Axes>"
      ]
     },
     "metadata": {},
     "output_type": "display_data"
    },
    {
     "name": "stdout",
     "output_type": "stream",
     "text": [
      "Percentage: 95.00%\n",
      "\n",
      "    Interpret this percentage as follows:\n",
      "    \n",
      "    1. Less than 60%: Useless Model\n",
      "    2. 60% - 70%: Poor Model\n",
      "    3. 70% - 80%: Good Model\n",
      "    4. 80% - 90%: Very Good Model\n",
      "    5. More than 90%: Too Good to be True.\n",
      "\n",
      "    In the fifth case, one must always check for overfitting.\n",
      "    \n"
     ]
    }
   ],
   "source": [
    "cap_curve(y_test, y_pred_prob)"
   ]
  },
  {
   "cell_type": "markdown",
   "id": "8cf955e1",
   "metadata": {},
   "source": [
    "### Confusion Matrix - AdaBoostClassifier Model"
   ]
  },
  {
   "cell_type": "code",
   "execution_count": 65,
   "id": "b1bb8134",
   "metadata": {},
   "outputs": [
    {
     "data": {
      "image/png": "[encoded data removed]",
      "text/plain": [
       "<Figure size 700x500 with 2 Axes>"
      ]
     },
     "metadata": {},
     "output_type": "display_data"
    }
   ],
   "source": [
    "cm = confusion_matrix(y_test, np.where(y_pred_prob > 0.5, 1, 0), labels = [1, 0])\n",
    "cm_df = pd.DataFrame(cm, index = [1, 0], columns = ['Predict 1', 'Predict 0'])\n",
    "\n",
    "plt.figure(figsize = (7, 5))\n",
    "sns.heatmap(cm_df, annot = True, fmt = 'g')\n",
    "plt.ylabel('Actual')\n",
    "plt.show()"
   ]
  },
  {
   "cell_type": "markdown",
   "id": "b4d5f0be",
   "metadata": {},
   "source": [
    "#### Feature Importance - AdaBoostClassifier Model"
   ]
  },
  {
   "cell_type": "code",
   "execution_count": 73,
   "id": "1b852562",
   "metadata": {},
   "outputs": [],
   "source": [
    "def feature_importance(model, X_train):\n",
    "    importance = pd.DataFrame({'Importance': model.feature_importances_*100}, index = X_train.columns)\n",
    "    importance.sort_values('Importance', axis = 0, ascending = True).plot(kind = 'barh', color = 'r', )\n",
    "    plt.show()"
   ]
  },
  {
   "cell_type": "code",
   "execution_count": 74,
   "id": "8aaba445",
   "metadata": {},
   "outputs": [
    {
     "data": {
      "image/png": "[encoded data removed]",
      "text/plain": [
       "<Figure size 640x480 with 1 Axes>"
      ]
     },
     "metadata": {},
     "output_type": "display_data"
    }
   ],
   "source": [
    "feature_importance(ada_real, X_train)"
   ]
  },
  {
   "cell_type": "markdown",
   "id": "87c81913",
   "metadata": {},
   "source": [
    "`AdaBoostClassifier` and `Logistic Regression` do not agree on which features are the most important in predicting the target. Further hyper-parameter tuning might be helpful...They both see **last transaction** as important. "
   ]
  },
  {
   "cell_type": "code",
   "execution_count": null,
   "id": "df668acc",
   "metadata": {},
   "outputs": [],
   "source": []
  }
 ],
 "metadata": {
  "kernelspec": {
   "display_name": "Python 3 (ipykernel)",
   "language": "python",
   "name": "python3"
  },
  "language_info": {
   "codemirror_mode": {
    "name": "ipython",
    "version": 3
   },
   "file_extension": ".py",
   "mimetype": "text/x-python",
   "name": "python",
   "nbconvert_exporter": "python",
   "pygments_lexer": "ipython3",
   "version": "3.9.17"
  }
 },
 "nbformat": 4,
 "nbformat_minor": 5
}
